{
 "cells": [
  {
   "cell_type": "code",
   "execution_count": 1,
   "metadata": {
    "pycharm": {
     "is_executing": false
    }
   },
   "outputs": [],
   "source": [
    "import os\n",
    "os.environ[\"TF_FORCE_GPU_ALLOW_GROWTH \"] = \"true\"\n",
    "\n",
    "import numpy as np\n",
    "import pandas as pd\n",
    "\n",
    "from deepalign import Dataset\n",
    "from deepalign import fs\n",
    "from deepalign.alignments import ALIGNERS\n",
    "\n",
    "from IPython.display import display\n",
    "pd.set_option('display.max_columns', 999)\n",
    "pd.set_option('display.max_rows', 999)"
   ]
  },
  {
   "cell_type": "markdown",
   "metadata": {},
   "source": [
    "## Setup"
   ]
  },
  {
   "cell_type": "markdown",
   "metadata": {},
   "source": [
    "Let us first define a `get_model` helper method that retrieves an `Aligner` model from disk and the corresponding `Dataset` instance."
   ]
  },
  {
   "cell_type": "code",
   "execution_count": 2,
   "outputs": [
    {
     "data": {
      "text/plain": "['small-0.3-1_confnet00_20200907-110056.758934',\n 'small-0.3-1_hm',\n 'small-0.3-1_optimal',\n 'small-0.3-1_confnet10_20200907-110231.150459',\n 'small-0.3-1_im']"
     },
     "metadata": {},
     "output_type": "execute_result",
     "execution_count": 2
    }
   ],
   "source": [
    "list(set([f.name.replace('_forward', '').replace('_backward', '') \n",
    "                      for f in fs.get_model_files()]))"
   ],
   "metadata": {
    "collapsed": false,
    "pycharm": {
     "name": "#%%\n",
     "is_executing": false
    }
   }
  },
  {
   "cell_type": "code",
   "execution_count": 3,
   "metadata": {
    "pycharm": {
     "is_executing": false
    }
   },
   "outputs": [],
   "source": [
    "def get_model(aligner, dataset_name, case_attributes=False, event_attributes=False):\n",
    "    ea = ca = 0\n",
    "    \n",
    "    if aligner == 'confnet':\n",
    "        ea = int(event_attributes)\n",
    "        ca = int(case_attributes)\n",
    "        model_name = f'{dataset_name}_{aligner}{ea}{ca}'\n",
    "    else:\n",
    "        model_name = f'{dataset_name}_{aligner}'\n",
    "\n",
    "    print(model_name)\n",
    "    dataset = Dataset(dataset_name, use_case_attributes=ca, use_event_attributes=ea)\n",
    "    models = list(set([f.name.replace('_forward', '').replace('_backward', '') \n",
    "                      for f in fs.get_model_files()\n",
    "                      if model_name in f.name]))\n",
    "    \n",
    "    if aligner == 'confnet':\n",
    "        aligner = ALIGNERS[aligner](dataset, use_case_attributes=ca, use_event_attributes=ea)\n",
    "    else:\n",
    "        aligner = ALIGNERS[aligner]()\n",
    "    aligner.load(str(fs.MODEL_DIR / models[0]))\n",
    "                \n",
    "    return aligner, dataset"
   ]
  },
  {
   "cell_type": "markdown",
   "metadata": {},
   "source": [
    "## Computing alignments with DeepAlign"
   ]
  },
  {
   "cell_type": "markdown",
   "metadata": {},
   "source": [
    "We will use the `paper-0.3-3` event log as our main example here."
   ]
  },
  {
   "cell_type": "code",
   "execution_count": 4,
   "metadata": {
    "pycharm": {
     "is_executing": false
    }
   },
   "outputs": [],
   "source": [
    "dataset_name = 'small-0.3-1'"
   ]
  },
  {
   "cell_type": "markdown",
   "metadata": {},
   "source": [
    "The possible aligner key strings are: `confnet` (DeepAlign), `optimal` (Reference Model), `hm` (Heuristics Miner), and `im` (Inductive Miner)."
   ]
  },
  {
   "cell_type": "code",
   "execution_count": 5,
   "metadata": {
    "pycharm": {
     "is_executing": false
    }
   },
   "outputs": [
    {
     "data": {
      "text/plain": "dict_keys(['alpha', 'alphaplus', 'confnet', 'dfg', 'hm', 'im', 'optimal', 'sm'])"
     },
     "metadata": {},
     "output_type": "execute_result",
     "execution_count": 5
    }
   ],
   "source": [
    "ALIGNERS.keys()"
   ]
  },
  {
   "cell_type": "markdown",
   "metadata": {},
   "source": [
    "Let us load a ConfNet first."
   ]
  },
  {
   "cell_type": "code",
   "execution_count": 6,
   "metadata": {
    "pycharm": {
     "is_executing": false
    }
   },
   "outputs": [
    {
     "name": "stdout",
     "text": [
      "small-0.3-1_confnet10\n"
     ],
     "output_type": "stream"
    }
   ],
   "source": [
    "confnet, dataset = get_model('confnet', dataset_name, False, True)"
   ]
  },
  {
   "cell_type": "markdown",
   "metadata": {},
   "source": [
    "Now, we can run the DeepAlign algorithm with `confnet.align`. We can control the number of beams with the parameter `k`, the maximum number of steps with `steps`, the maximum deletion size for one step with `delete_max`, and a hot start mode with `hot_start`. The hot start will use the BINet anomaly detection method to automatically finish all beams where no anomaly was found."
   ]
  },
  {
   "cell_type": "code",
   "execution_count": 7,
   "metadata": {
    "pycharm": {
     "is_executing": false
    }
   },
   "outputs": [
    {
     "name": "stdout",
     "text": [
      "Step 1 → 4.478997230529785s (25000, 26) finished=3754\n",
      "Step 2 ← 1.7230033874511719s (25000, 26) finished=3754\n",
      "Step 3 → 1.5639970302581787s (25000, 26) finished=3867\n",
      "Step 4 ← 1.5219953060150146s (25000, 26) finished=4339\n",
      "Step 5 → 0.927001953125s (25000, 26) finished=4604\n",
      "Step 6 ← 0.5185084342956543s (25000, 26) finished=4652\n",
      "Step 7 → 0.6150002479553223s (25000, 26) finished=4678\n",
      "Step 8 ← 0.46599912643432617s (25000, 26) finished=4688\n",
      "Step 9 → 0.6630041599273682s (25000, 26) finished=4705\n",
      "Step 10 ← 0.4069952964782715s (25000, 26) finished=4717\n"
     ],
     "output_type": "stream"
    }
   ],
   "source": [
    "alignments, corrected_cases, costs = confnet.align(dataset, k=5, steps=10, delete_max=3, hot_start=True)"
   ]
  },
  {
   "cell_type": "markdown",
   "metadata": {},
   "source": [
    "Okay, done. Now let us take a look at the found alignments. Fist, we define a display method for alignments."
   ]
  },
  {
   "cell_type": "code",
   "execution_count": 8,
   "metadata": {
    "pycharm": {
     "is_executing": false
    }
   },
   "outputs": [],
   "source": [
    "def display_alignment(alignment, decode=None):\n",
    "    a = alignment[alignment != -1]\n",
    "    a = a.reshape(2, a.shape[0] // 2)\n",
    "    if decode is not None:\n",
    "        a = decode(a)\n",
    "    df = pd.DataFrame(a, index=['Log', 'Model'])\n",
    "    df = df.style.hide_index()\n",
    "    return display(df)"
   ]
  },
  {
   "cell_type": "markdown",
   "metadata": {},
   "source": [
    "We will need a decode method for the integer encoded event sequences of the `Dataset`. We can create a `decode` method from the `sklearn.preprocessing.LabelEncoder` instances saved in `dataset.encoders`."
   ]
  },
  {
   "cell_type": "code",
   "execution_count": 9,
   "metadata": {
    "pycharm": {
     "is_executing": false
    }
   },
   "outputs": [],
   "source": [
    "decode = dict((k, v) for k, v in enumerate(dataset.encoders['name'].classes_))\n",
    "decode[-1] = decode[0]  # Padding\n",
    "decode[0] = '»'\n",
    "decode = np.vectorize(decode.get)"
   ]
  },
  {
   "cell_type": "markdown",
   "metadata": {},
   "source": [
    "Now, we can display alignments from the `alignments` object. `alignments` is a NumPy array with shape `(num_cases, k, 2, max_sequence_len)`."
   ]
  },
  {
   "cell_type": "code",
   "execution_count": 10,
   "metadata": {
    "pycharm": {
     "is_executing": false
    }
   },
   "outputs": [
    {
     "data": {
      "text/plain": "(5000, 5, 2, 26)"
     },
     "metadata": {},
     "output_type": "execute_result",
     "execution_count": 10
    }
   ],
   "source": [
    "alignments.shape"
   ]
  },
  {
   "cell_type": "markdown",
   "metadata": {},
   "source": [
    "To display the top-1 alignment for the first case we can use the following."
   ]
  },
  {
   "cell_type": "code",
   "execution_count": 11,
   "metadata": {
    "pycharm": {
     "is_executing": false
    }
   },
   "outputs": [
    {
     "data": {
      "text/plain": "<pandas.io.formats.style.Styler at 0x228c1b63ac0>",
      "text/html": "<style  type=\"text/css\" >\n</style><table id=\"T_4381c0a9_f0e9_11ea_b2ca_f079596806ff\" ><thead>    <tr>        <th class=\"col_heading level0 col0\" >0</th>        <th class=\"col_heading level0 col1\" >1</th>        <th class=\"col_heading level0 col2\" >2</th>        <th class=\"col_heading level0 col3\" >3</th>        <th class=\"col_heading level0 col4\" >4</th>        <th class=\"col_heading level0 col5\" >5</th>        <th class=\"col_heading level0 col6\" >6</th>        <th class=\"col_heading level0 col7\" >7</th>        <th class=\"col_heading level0 col8\" >8</th>        <th class=\"col_heading level0 col9\" >9</th>        <th class=\"col_heading level0 col10\" >10</th>        <th class=\"col_heading level0 col11\" >11</th>    </tr></thead><tbody>\n                <tr>\n                                <td id=\"T_4381c0a9_f0e9_11ea_b2ca_f079596806ffrow0_col0\" class=\"data row0 col0\" >▶</td>\n                        <td id=\"T_4381c0a9_f0e9_11ea_b2ca_f079596806ffrow0_col1\" class=\"data row0 col1\" >Activity A</td>\n                        <td id=\"T_4381c0a9_f0e9_11ea_b2ca_f079596806ffrow0_col2\" class=\"data row0 col2\" >Activity B</td>\n                        <td id=\"T_4381c0a9_f0e9_11ea_b2ca_f079596806ffrow0_col3\" class=\"data row0 col3\" >Activity C</td>\n                        <td id=\"T_4381c0a9_f0e9_11ea_b2ca_f079596806ffrow0_col4\" class=\"data row0 col4\" >Activity D</td>\n                        <td id=\"T_4381c0a9_f0e9_11ea_b2ca_f079596806ffrow0_col5\" class=\"data row0 col5\" >Activity E</td>\n                        <td id=\"T_4381c0a9_f0e9_11ea_b2ca_f079596806ffrow0_col6\" class=\"data row0 col6\" >Activity G</td>\n                        <td id=\"T_4381c0a9_f0e9_11ea_b2ca_f079596806ffrow0_col7\" class=\"data row0 col7\" >Activity H</td>\n                        <td id=\"T_4381c0a9_f0e9_11ea_b2ca_f079596806ffrow0_col8\" class=\"data row0 col8\" >Activity I</td>\n                        <td id=\"T_4381c0a9_f0e9_11ea_b2ca_f079596806ffrow0_col9\" class=\"data row0 col9\" >Activity J</td>\n                        <td id=\"T_4381c0a9_f0e9_11ea_b2ca_f079596806ffrow0_col10\" class=\"data row0 col10\" >Activity F</td>\n                        <td id=\"T_4381c0a9_f0e9_11ea_b2ca_f079596806ffrow0_col11\" class=\"data row0 col11\" >■</td>\n            </tr>\n            <tr>\n                                <td id=\"T_4381c0a9_f0e9_11ea_b2ca_f079596806ffrow1_col0\" class=\"data row1 col0\" >▶</td>\n                        <td id=\"T_4381c0a9_f0e9_11ea_b2ca_f079596806ffrow1_col1\" class=\"data row1 col1\" >Activity A</td>\n                        <td id=\"T_4381c0a9_f0e9_11ea_b2ca_f079596806ffrow1_col2\" class=\"data row1 col2\" >Activity B</td>\n                        <td id=\"T_4381c0a9_f0e9_11ea_b2ca_f079596806ffrow1_col3\" class=\"data row1 col3\" >Activity C</td>\n                        <td id=\"T_4381c0a9_f0e9_11ea_b2ca_f079596806ffrow1_col4\" class=\"data row1 col4\" >Activity D</td>\n                        <td id=\"T_4381c0a9_f0e9_11ea_b2ca_f079596806ffrow1_col5\" class=\"data row1 col5\" >Activity E</td>\n                        <td id=\"T_4381c0a9_f0e9_11ea_b2ca_f079596806ffrow1_col6\" class=\"data row1 col6\" >Activity G</td>\n                        <td id=\"T_4381c0a9_f0e9_11ea_b2ca_f079596806ffrow1_col7\" class=\"data row1 col7\" >Activity H</td>\n                        <td id=\"T_4381c0a9_f0e9_11ea_b2ca_f079596806ffrow1_col8\" class=\"data row1 col8\" >Activity I</td>\n                        <td id=\"T_4381c0a9_f0e9_11ea_b2ca_f079596806ffrow1_col9\" class=\"data row1 col9\" >Activity J</td>\n                        <td id=\"T_4381c0a9_f0e9_11ea_b2ca_f079596806ffrow1_col10\" class=\"data row1 col10\" >Activity F</td>\n                        <td id=\"T_4381c0a9_f0e9_11ea_b2ca_f079596806ffrow1_col11\" class=\"data row1 col11\" >■</td>\n            </tr>\n    </tbody></table>"
     },
     "metadata": {},
     "output_type": "display_data"
    }
   ],
   "source": [
    "display_alignment(alignments[0][0], decode=decode)"
   ]
  },
  {
   "cell_type": "markdown",
   "metadata": {},
   "source": [
    "Seems like this was not an anomalous case. Let us check."
   ]
  },
  {
   "cell_type": "code",
   "execution_count": 12,
   "metadata": {
    "pycharm": {
     "is_executing": false
    }
   },
   "outputs": [
    {
     "data": {
      "text/plain": "'Normal'"
     },
     "metadata": {},
     "output_type": "execute_result",
     "execution_count": 12
    }
   ],
   "source": [
    "dataset.text_labels[0]"
   ]
  },
  {
   "cell_type": "markdown",
   "metadata": {},
   "source": [
    "Remember, the different anomaly types are as follows."
   ]
  },
  {
   "cell_type": "code",
   "execution_count": 13,
   "metadata": {
    "pycharm": {
     "is_executing": false
    }
   },
   "outputs": [
    {
     "data": {
      "text/plain": "{'Attribute', 'Early', 'Insert', 'Late', 'Normal', 'Rework', 'SkipSequence'}"
     },
     "metadata": {},
     "output_type": "execute_result",
     "execution_count": 13
    }
   ],
   "source": [
    "set(dataset.text_labels)"
   ]
  },
  {
   "cell_type": "markdown",
   "metadata": {},
   "source": [
    "Let us take a look at a *Skip* anomaly. This is also the example given in the Evaluation section of the paper."
   ]
  },
  {
   "cell_type": "code",
   "execution_count": 14,
   "metadata": {
    "pycharm": {
     "is_executing": false
    }
   },
   "outputs": [
    {
     "data": {
      "text/plain": "<pandas.io.formats.style.Styler at 0x22aab956730>",
      "text/html": "<style  type=\"text/css\" >\n</style><table id=\"T_4389fe34_f0e9_11ea_aaa7_f079596806ff\" ><thead>    <tr>        <th class=\"col_heading level0 col0\" >0</th>        <th class=\"col_heading level0 col1\" >1</th>        <th class=\"col_heading level0 col2\" >2</th>        <th class=\"col_heading level0 col3\" >3</th>        <th class=\"col_heading level0 col4\" >4</th>        <th class=\"col_heading level0 col5\" >5</th>        <th class=\"col_heading level0 col6\" >6</th>        <th class=\"col_heading level0 col7\" >7</th>        <th class=\"col_heading level0 col8\" >8</th>    </tr></thead><tbody>\n                <tr>\n                                <td id=\"T_4389fe34_f0e9_11ea_aaa7_f079596806ffrow0_col0\" class=\"data row0 col0\" >▶</td>\n                        <td id=\"T_4389fe34_f0e9_11ea_aaa7_f079596806ffrow0_col1\" class=\"data row0 col1\" >Activity A</td>\n                        <td id=\"T_4389fe34_f0e9_11ea_aaa7_f079596806ffrow0_col2\" class=\"data row0 col2\" >Activity B</td>\n                        <td id=\"T_4389fe34_f0e9_11ea_aaa7_f079596806ffrow0_col3\" class=\"data row0 col3\" >Activity C</td>\n                        <td id=\"T_4389fe34_f0e9_11ea_aaa7_f079596806ffrow0_col4\" class=\"data row0 col4\" >»</td>\n                        <td id=\"T_4389fe34_f0e9_11ea_aaa7_f079596806ffrow0_col5\" class=\"data row0 col5\" >»</td>\n                        <td id=\"T_4389fe34_f0e9_11ea_aaa7_f079596806ffrow0_col6\" class=\"data row0 col6\" >Activity T</td>\n                        <td id=\"T_4389fe34_f0e9_11ea_aaa7_f079596806ffrow0_col7\" class=\"data row0 col7\" >Activity F</td>\n                        <td id=\"T_4389fe34_f0e9_11ea_aaa7_f079596806ffrow0_col8\" class=\"data row0 col8\" >■</td>\n            </tr>\n            <tr>\n                                <td id=\"T_4389fe34_f0e9_11ea_aaa7_f079596806ffrow1_col0\" class=\"data row1 col0\" >▶</td>\n                        <td id=\"T_4389fe34_f0e9_11ea_aaa7_f079596806ffrow1_col1\" class=\"data row1 col1\" >Activity A</td>\n                        <td id=\"T_4389fe34_f0e9_11ea_aaa7_f079596806ffrow1_col2\" class=\"data row1 col2\" >Activity B</td>\n                        <td id=\"T_4389fe34_f0e9_11ea_aaa7_f079596806ffrow1_col3\" class=\"data row1 col3\" >Activity C</td>\n                        <td id=\"T_4389fe34_f0e9_11ea_aaa7_f079596806ffrow1_col4\" class=\"data row1 col4\" >Activity D</td>\n                        <td id=\"T_4389fe34_f0e9_11ea_aaa7_f079596806ffrow1_col5\" class=\"data row1 col5\" >Activity E</td>\n                        <td id=\"T_4389fe34_f0e9_11ea_aaa7_f079596806ffrow1_col6\" class=\"data row1 col6\" >Activity T</td>\n                        <td id=\"T_4389fe34_f0e9_11ea_aaa7_f079596806ffrow1_col7\" class=\"data row1 col7\" >Activity F</td>\n                        <td id=\"T_4389fe34_f0e9_11ea_aaa7_f079596806ffrow1_col8\" class=\"data row1 col8\" >■</td>\n            </tr>\n    </tbody></table>"
     },
     "metadata": {},
     "output_type": "display_data"
    }
   ],
   "source": [
    "skip_anomalies = np.where(dataset.text_labels == 'SkipSequence')[0]\n",
    "display_alignment(alignments[skip_anomalies[0]][0], decode=decode)"
   ]
  },
  {
   "cell_type": "markdown",
   "metadata": {},
   "source": [
    "We can do the same for all anomaly types."
   ]
  },
  {
   "cell_type": "code",
   "execution_count": 15,
   "metadata": {
    "pycharm": {
     "is_executing": false
    }
   },
   "outputs": [
    {
     "name": "stdout",
     "text": [
      "Normal\n",
      "Rework\n",
      "Attribute\n",
      "SkipSequence\n",
      "Early\n",
      "Late\n",
      "Insert\n"
     ],
     "output_type": "stream"
    },
    {
     "data": {
      "text/plain": "<pandas.io.formats.style.Styler at 0x22aab9564c0>",
      "text/html": "<style  type=\"text/css\" >\n</style><table id=\"T_438ce440_f0e9_11ea_a29b_f079596806ff\" ><thead>    <tr>        <th class=\"col_heading level0 col0\" >0</th>        <th class=\"col_heading level0 col1\" >1</th>        <th class=\"col_heading level0 col2\" >2</th>        <th class=\"col_heading level0 col3\" >3</th>        <th class=\"col_heading level0 col4\" >4</th>        <th class=\"col_heading level0 col5\" >5</th>        <th class=\"col_heading level0 col6\" >6</th>        <th class=\"col_heading level0 col7\" >7</th>        <th class=\"col_heading level0 col8\" >8</th>        <th class=\"col_heading level0 col9\" >9</th>        <th class=\"col_heading level0 col10\" >10</th>        <th class=\"col_heading level0 col11\" >11</th>    </tr></thead><tbody>\n                <tr>\n                                <td id=\"T_438ce440_f0e9_11ea_a29b_f079596806ffrow0_col0\" class=\"data row0 col0\" >▶</td>\n                        <td id=\"T_438ce440_f0e9_11ea_a29b_f079596806ffrow0_col1\" class=\"data row0 col1\" >Activity A</td>\n                        <td id=\"T_438ce440_f0e9_11ea_a29b_f079596806ffrow0_col2\" class=\"data row0 col2\" >Activity B</td>\n                        <td id=\"T_438ce440_f0e9_11ea_a29b_f079596806ffrow0_col3\" class=\"data row0 col3\" >Activity C</td>\n                        <td id=\"T_438ce440_f0e9_11ea_a29b_f079596806ffrow0_col4\" class=\"data row0 col4\" >Activity D</td>\n                        <td id=\"T_438ce440_f0e9_11ea_a29b_f079596806ffrow0_col5\" class=\"data row0 col5\" >Activity E</td>\n                        <td id=\"T_438ce440_f0e9_11ea_a29b_f079596806ffrow0_col6\" class=\"data row0 col6\" >Activity G</td>\n                        <td id=\"T_438ce440_f0e9_11ea_a29b_f079596806ffrow0_col7\" class=\"data row0 col7\" >Activity H</td>\n                        <td id=\"T_438ce440_f0e9_11ea_a29b_f079596806ffrow0_col8\" class=\"data row0 col8\" >Activity I</td>\n                        <td id=\"T_438ce440_f0e9_11ea_a29b_f079596806ffrow0_col9\" class=\"data row0 col9\" >Activity J</td>\n                        <td id=\"T_438ce440_f0e9_11ea_a29b_f079596806ffrow0_col10\" class=\"data row0 col10\" >Activity F</td>\n                        <td id=\"T_438ce440_f0e9_11ea_a29b_f079596806ffrow0_col11\" class=\"data row0 col11\" >■</td>\n            </tr>\n            <tr>\n                                <td id=\"T_438ce440_f0e9_11ea_a29b_f079596806ffrow1_col0\" class=\"data row1 col0\" >▶</td>\n                        <td id=\"T_438ce440_f0e9_11ea_a29b_f079596806ffrow1_col1\" class=\"data row1 col1\" >Activity A</td>\n                        <td id=\"T_438ce440_f0e9_11ea_a29b_f079596806ffrow1_col2\" class=\"data row1 col2\" >Activity B</td>\n                        <td id=\"T_438ce440_f0e9_11ea_a29b_f079596806ffrow1_col3\" class=\"data row1 col3\" >Activity C</td>\n                        <td id=\"T_438ce440_f0e9_11ea_a29b_f079596806ffrow1_col4\" class=\"data row1 col4\" >Activity D</td>\n                        <td id=\"T_438ce440_f0e9_11ea_a29b_f079596806ffrow1_col5\" class=\"data row1 col5\" >Activity E</td>\n                        <td id=\"T_438ce440_f0e9_11ea_a29b_f079596806ffrow1_col6\" class=\"data row1 col6\" >Activity G</td>\n                        <td id=\"T_438ce440_f0e9_11ea_a29b_f079596806ffrow1_col7\" class=\"data row1 col7\" >Activity H</td>\n                        <td id=\"T_438ce440_f0e9_11ea_a29b_f079596806ffrow1_col8\" class=\"data row1 col8\" >Activity I</td>\n                        <td id=\"T_438ce440_f0e9_11ea_a29b_f079596806ffrow1_col9\" class=\"data row1 col9\" >Activity J</td>\n                        <td id=\"T_438ce440_f0e9_11ea_a29b_f079596806ffrow1_col10\" class=\"data row1 col10\" >Activity F</td>\n                        <td id=\"T_438ce440_f0e9_11ea_a29b_f079596806ffrow1_col11\" class=\"data row1 col11\" >■</td>\n            </tr>\n    </tbody></table>"
     },
     "metadata": {},
     "output_type": "display_data"
    },
    {
     "data": {
      "text/plain": "<pandas.io.formats.style.Styler at 0x228c1b63c40>",
      "text/html": "<style  type=\"text/css\" >\n</style><table id=\"T_438da7ae_f0e9_11ea_8a93_f079596806ff\" ><thead>    <tr>        <th class=\"col_heading level0 col0\" >0</th>        <th class=\"col_heading level0 col1\" >1</th>        <th class=\"col_heading level0 col2\" >2</th>        <th class=\"col_heading level0 col3\" >3</th>        <th class=\"col_heading level0 col4\" >4</th>        <th class=\"col_heading level0 col5\" >5</th>        <th class=\"col_heading level0 col6\" >6</th>        <th class=\"col_heading level0 col7\" >7</th>        <th class=\"col_heading level0 col8\" >8</th>        <th class=\"col_heading level0 col9\" >9</th>        <th class=\"col_heading level0 col10\" >10</th>        <th class=\"col_heading level0 col11\" >11</th>        <th class=\"col_heading level0 col12\" >12</th>        <th class=\"col_heading level0 col13\" >13</th>    </tr></thead><tbody>\n                <tr>\n                                <td id=\"T_438da7ae_f0e9_11ea_8a93_f079596806ffrow0_col0\" class=\"data row0 col0\" >▶</td>\n                        <td id=\"T_438da7ae_f0e9_11ea_8a93_f079596806ffrow0_col1\" class=\"data row0 col1\" >Activity A</td>\n                        <td id=\"T_438da7ae_f0e9_11ea_8a93_f079596806ffrow0_col2\" class=\"data row0 col2\" >Activity B</td>\n                        <td id=\"T_438da7ae_f0e9_11ea_8a93_f079596806ffrow0_col3\" class=\"data row0 col3\" >Activity C</td>\n                        <td id=\"T_438da7ae_f0e9_11ea_8a93_f079596806ffrow0_col4\" class=\"data row0 col4\" >Activity D</td>\n                        <td id=\"T_438da7ae_f0e9_11ea_8a93_f079596806ffrow0_col5\" class=\"data row0 col5\" >Activity B</td>\n                        <td id=\"T_438da7ae_f0e9_11ea_8a93_f079596806ffrow0_col6\" class=\"data row0 col6\" >Activity C</td>\n                        <td id=\"T_438da7ae_f0e9_11ea_8a93_f079596806ffrow0_col7\" class=\"data row0 col7\" >Activity E</td>\n                        <td id=\"T_438da7ae_f0e9_11ea_8a93_f079596806ffrow0_col8\" class=\"data row0 col8\" >Activity K</td>\n                        <td id=\"T_438da7ae_f0e9_11ea_8a93_f079596806ffrow0_col9\" class=\"data row0 col9\" >Activity R</td>\n                        <td id=\"T_438da7ae_f0e9_11ea_8a93_f079596806ffrow0_col10\" class=\"data row0 col10\" >Activity S</td>\n                        <td id=\"T_438da7ae_f0e9_11ea_8a93_f079596806ffrow0_col11\" class=\"data row0 col11\" >Activity L</td>\n                        <td id=\"T_438da7ae_f0e9_11ea_8a93_f079596806ffrow0_col12\" class=\"data row0 col12\" >Activity F</td>\n                        <td id=\"T_438da7ae_f0e9_11ea_8a93_f079596806ffrow0_col13\" class=\"data row0 col13\" >■</td>\n            </tr>\n            <tr>\n                                <td id=\"T_438da7ae_f0e9_11ea_8a93_f079596806ffrow1_col0\" class=\"data row1 col0\" >▶</td>\n                        <td id=\"T_438da7ae_f0e9_11ea_8a93_f079596806ffrow1_col1\" class=\"data row1 col1\" >Activity A</td>\n                        <td id=\"T_438da7ae_f0e9_11ea_8a93_f079596806ffrow1_col2\" class=\"data row1 col2\" >Activity B</td>\n                        <td id=\"T_438da7ae_f0e9_11ea_8a93_f079596806ffrow1_col3\" class=\"data row1 col3\" >Activity C</td>\n                        <td id=\"T_438da7ae_f0e9_11ea_8a93_f079596806ffrow1_col4\" class=\"data row1 col4\" >Activity D</td>\n                        <td id=\"T_438da7ae_f0e9_11ea_8a93_f079596806ffrow1_col5\" class=\"data row1 col5\" >»</td>\n                        <td id=\"T_438da7ae_f0e9_11ea_8a93_f079596806ffrow1_col6\" class=\"data row1 col6\" >»</td>\n                        <td id=\"T_438da7ae_f0e9_11ea_8a93_f079596806ffrow1_col7\" class=\"data row1 col7\" >Activity E</td>\n                        <td id=\"T_438da7ae_f0e9_11ea_8a93_f079596806ffrow1_col8\" class=\"data row1 col8\" >Activity K</td>\n                        <td id=\"T_438da7ae_f0e9_11ea_8a93_f079596806ffrow1_col9\" class=\"data row1 col9\" >Activity R</td>\n                        <td id=\"T_438da7ae_f0e9_11ea_8a93_f079596806ffrow1_col10\" class=\"data row1 col10\" >Activity S</td>\n                        <td id=\"T_438da7ae_f0e9_11ea_8a93_f079596806ffrow1_col11\" class=\"data row1 col11\" >Activity L</td>\n                        <td id=\"T_438da7ae_f0e9_11ea_8a93_f079596806ffrow1_col12\" class=\"data row1 col12\" >Activity F</td>\n                        <td id=\"T_438da7ae_f0e9_11ea_8a93_f079596806ffrow1_col13\" class=\"data row1 col13\" >■</td>\n            </tr>\n    </tbody></table>"
     },
     "metadata": {},
     "output_type": "display_data"
    },
    {
     "data": {
      "text/plain": "<pandas.io.formats.style.Styler at 0x22aab956ca0>",
      "text/html": "<style  type=\"text/css\" >\n</style><table id=\"T_438eb932_f0e9_11ea_8064_f079596806ff\" ><thead>    <tr>        <th class=\"col_heading level0 col0\" >0</th>        <th class=\"col_heading level0 col1\" >1</th>        <th class=\"col_heading level0 col2\" >2</th>        <th class=\"col_heading level0 col3\" >3</th>        <th class=\"col_heading level0 col4\" >4</th>        <th class=\"col_heading level0 col5\" >5</th>        <th class=\"col_heading level0 col6\" >6</th>        <th class=\"col_heading level0 col7\" >7</th>        <th class=\"col_heading level0 col8\" >8</th>        <th class=\"col_heading level0 col9\" >9</th>        <th class=\"col_heading level0 col10\" >10</th>        <th class=\"col_heading level0 col11\" >11</th>    </tr></thead><tbody>\n                <tr>\n                                <td id=\"T_438eb932_f0e9_11ea_8064_f079596806ffrow0_col0\" class=\"data row0 col0\" >▶</td>\n                        <td id=\"T_438eb932_f0e9_11ea_8064_f079596806ffrow0_col1\" class=\"data row0 col1\" >Activity A</td>\n                        <td id=\"T_438eb932_f0e9_11ea_8064_f079596806ffrow0_col2\" class=\"data row0 col2\" >Activity B</td>\n                        <td id=\"T_438eb932_f0e9_11ea_8064_f079596806ffrow0_col3\" class=\"data row0 col3\" >Activity C</td>\n                        <td id=\"T_438eb932_f0e9_11ea_8064_f079596806ffrow0_col4\" class=\"data row0 col4\" >Activity D</td>\n                        <td id=\"T_438eb932_f0e9_11ea_8064_f079596806ffrow0_col5\" class=\"data row0 col5\" >Activity E</td>\n                        <td id=\"T_438eb932_f0e9_11ea_8064_f079596806ffrow0_col6\" class=\"data row0 col6\" >Activity G</td>\n                        <td id=\"T_438eb932_f0e9_11ea_8064_f079596806ffrow0_col7\" class=\"data row0 col7\" >Activity H</td>\n                        <td id=\"T_438eb932_f0e9_11ea_8064_f079596806ffrow0_col8\" class=\"data row0 col8\" >Activity I</td>\n                        <td id=\"T_438eb932_f0e9_11ea_8064_f079596806ffrow0_col9\" class=\"data row0 col9\" >Activity J</td>\n                        <td id=\"T_438eb932_f0e9_11ea_8064_f079596806ffrow0_col10\" class=\"data row0 col10\" >Activity F</td>\n                        <td id=\"T_438eb932_f0e9_11ea_8064_f079596806ffrow0_col11\" class=\"data row0 col11\" >■</td>\n            </tr>\n            <tr>\n                                <td id=\"T_438eb932_f0e9_11ea_8064_f079596806ffrow1_col0\" class=\"data row1 col0\" >▶</td>\n                        <td id=\"T_438eb932_f0e9_11ea_8064_f079596806ffrow1_col1\" class=\"data row1 col1\" >Activity A</td>\n                        <td id=\"T_438eb932_f0e9_11ea_8064_f079596806ffrow1_col2\" class=\"data row1 col2\" >Activity B</td>\n                        <td id=\"T_438eb932_f0e9_11ea_8064_f079596806ffrow1_col3\" class=\"data row1 col3\" >Activity C</td>\n                        <td id=\"T_438eb932_f0e9_11ea_8064_f079596806ffrow1_col4\" class=\"data row1 col4\" >Activity D</td>\n                        <td id=\"T_438eb932_f0e9_11ea_8064_f079596806ffrow1_col5\" class=\"data row1 col5\" >Activity E</td>\n                        <td id=\"T_438eb932_f0e9_11ea_8064_f079596806ffrow1_col6\" class=\"data row1 col6\" >Activity G</td>\n                        <td id=\"T_438eb932_f0e9_11ea_8064_f079596806ffrow1_col7\" class=\"data row1 col7\" >Activity H</td>\n                        <td id=\"T_438eb932_f0e9_11ea_8064_f079596806ffrow1_col8\" class=\"data row1 col8\" >Activity I</td>\n                        <td id=\"T_438eb932_f0e9_11ea_8064_f079596806ffrow1_col9\" class=\"data row1 col9\" >Activity J</td>\n                        <td id=\"T_438eb932_f0e9_11ea_8064_f079596806ffrow1_col10\" class=\"data row1 col10\" >Activity F</td>\n                        <td id=\"T_438eb932_f0e9_11ea_8064_f079596806ffrow1_col11\" class=\"data row1 col11\" >■</td>\n            </tr>\n    </tbody></table>"
     },
     "metadata": {},
     "output_type": "display_data"
    },
    {
     "data": {
      "text/plain": "<pandas.io.formats.style.Styler at 0x22aab564430>",
      "text/html": "<style  type=\"text/css\" >\n</style><table id=\"T_438f7c58_f0e9_11ea_805c_f079596806ff\" ><thead>    <tr>        <th class=\"col_heading level0 col0\" >0</th>        <th class=\"col_heading level0 col1\" >1</th>        <th class=\"col_heading level0 col2\" >2</th>        <th class=\"col_heading level0 col3\" >3</th>        <th class=\"col_heading level0 col4\" >4</th>        <th class=\"col_heading level0 col5\" >5</th>        <th class=\"col_heading level0 col6\" >6</th>        <th class=\"col_heading level0 col7\" >7</th>        <th class=\"col_heading level0 col8\" >8</th>    </tr></thead><tbody>\n                <tr>\n                                <td id=\"T_438f7c58_f0e9_11ea_805c_f079596806ffrow0_col0\" class=\"data row0 col0\" >▶</td>\n                        <td id=\"T_438f7c58_f0e9_11ea_805c_f079596806ffrow0_col1\" class=\"data row0 col1\" >Activity A</td>\n                        <td id=\"T_438f7c58_f0e9_11ea_805c_f079596806ffrow0_col2\" class=\"data row0 col2\" >Activity B</td>\n                        <td id=\"T_438f7c58_f0e9_11ea_805c_f079596806ffrow0_col3\" class=\"data row0 col3\" >Activity C</td>\n                        <td id=\"T_438f7c58_f0e9_11ea_805c_f079596806ffrow0_col4\" class=\"data row0 col4\" >»</td>\n                        <td id=\"T_438f7c58_f0e9_11ea_805c_f079596806ffrow0_col5\" class=\"data row0 col5\" >»</td>\n                        <td id=\"T_438f7c58_f0e9_11ea_805c_f079596806ffrow0_col6\" class=\"data row0 col6\" >Activity T</td>\n                        <td id=\"T_438f7c58_f0e9_11ea_805c_f079596806ffrow0_col7\" class=\"data row0 col7\" >Activity F</td>\n                        <td id=\"T_438f7c58_f0e9_11ea_805c_f079596806ffrow0_col8\" class=\"data row0 col8\" >■</td>\n            </tr>\n            <tr>\n                                <td id=\"T_438f7c58_f0e9_11ea_805c_f079596806ffrow1_col0\" class=\"data row1 col0\" >▶</td>\n                        <td id=\"T_438f7c58_f0e9_11ea_805c_f079596806ffrow1_col1\" class=\"data row1 col1\" >Activity A</td>\n                        <td id=\"T_438f7c58_f0e9_11ea_805c_f079596806ffrow1_col2\" class=\"data row1 col2\" >Activity B</td>\n                        <td id=\"T_438f7c58_f0e9_11ea_805c_f079596806ffrow1_col3\" class=\"data row1 col3\" >Activity C</td>\n                        <td id=\"T_438f7c58_f0e9_11ea_805c_f079596806ffrow1_col4\" class=\"data row1 col4\" >Activity D</td>\n                        <td id=\"T_438f7c58_f0e9_11ea_805c_f079596806ffrow1_col5\" class=\"data row1 col5\" >Activity E</td>\n                        <td id=\"T_438f7c58_f0e9_11ea_805c_f079596806ffrow1_col6\" class=\"data row1 col6\" >Activity T</td>\n                        <td id=\"T_438f7c58_f0e9_11ea_805c_f079596806ffrow1_col7\" class=\"data row1 col7\" >Activity F</td>\n                        <td id=\"T_438f7c58_f0e9_11ea_805c_f079596806ffrow1_col8\" class=\"data row1 col8\" >■</td>\n            </tr>\n    </tbody></table>"
     },
     "metadata": {},
     "output_type": "display_data"
    },
    {
     "data": {
      "text/plain": "<pandas.io.formats.style.Styler at 0x22aab9567f0>",
      "text/html": "<style  type=\"text/css\" >\n</style><table id=\"T_4390b4f7_f0e9_11ea_9587_f079596806ff\" ><thead>    <tr>        <th class=\"col_heading level0 col0\" >0</th>        <th class=\"col_heading level0 col1\" >1</th>        <th class=\"col_heading level0 col2\" >2</th>        <th class=\"col_heading level0 col3\" >3</th>        <th class=\"col_heading level0 col4\" >4</th>        <th class=\"col_heading level0 col5\" >5</th>        <th class=\"col_heading level0 col6\" >6</th>        <th class=\"col_heading level0 col7\" >7</th>        <th class=\"col_heading level0 col8\" >8</th>        <th class=\"col_heading level0 col9\" >9</th>        <th class=\"col_heading level0 col10\" >10</th>        <th class=\"col_heading level0 col11\" >11</th>        <th class=\"col_heading level0 col12\" >12</th>    </tr></thead><tbody>\n                <tr>\n                                <td id=\"T_4390b4f7_f0e9_11ea_9587_f079596806ffrow0_col0\" class=\"data row0 col0\" >▶</td>\n                        <td id=\"T_4390b4f7_f0e9_11ea_9587_f079596806ffrow0_col1\" class=\"data row0 col1\" >Activity A</td>\n                        <td id=\"T_4390b4f7_f0e9_11ea_9587_f079596806ffrow0_col2\" class=\"data row0 col2\" >Activity B</td>\n                        <td id=\"T_4390b4f7_f0e9_11ea_9587_f079596806ffrow0_col3\" class=\"data row0 col3\" >»</td>\n                        <td id=\"T_4390b4f7_f0e9_11ea_9587_f079596806ffrow0_col4\" class=\"data row0 col4\" >Activity D</td>\n                        <td id=\"T_4390b4f7_f0e9_11ea_9587_f079596806ffrow0_col5\" class=\"data row0 col5\" >Activity E</td>\n                        <td id=\"T_4390b4f7_f0e9_11ea_9587_f079596806ffrow0_col6\" class=\"data row0 col6\" >Activity C</td>\n                        <td id=\"T_4390b4f7_f0e9_11ea_9587_f079596806ffrow0_col7\" class=\"data row0 col7\" >Activity K</td>\n                        <td id=\"T_4390b4f7_f0e9_11ea_9587_f079596806ffrow0_col8\" class=\"data row0 col8\" >Activity M</td>\n                        <td id=\"T_4390b4f7_f0e9_11ea_9587_f079596806ffrow0_col9\" class=\"data row0 col9\" >Activity N</td>\n                        <td id=\"T_4390b4f7_f0e9_11ea_9587_f079596806ffrow0_col10\" class=\"data row0 col10\" >Activity L</td>\n                        <td id=\"T_4390b4f7_f0e9_11ea_9587_f079596806ffrow0_col11\" class=\"data row0 col11\" >Activity F</td>\n                        <td id=\"T_4390b4f7_f0e9_11ea_9587_f079596806ffrow0_col12\" class=\"data row0 col12\" >■</td>\n            </tr>\n            <tr>\n                                <td id=\"T_4390b4f7_f0e9_11ea_9587_f079596806ffrow1_col0\" class=\"data row1 col0\" >▶</td>\n                        <td id=\"T_4390b4f7_f0e9_11ea_9587_f079596806ffrow1_col1\" class=\"data row1 col1\" >Activity A</td>\n                        <td id=\"T_4390b4f7_f0e9_11ea_9587_f079596806ffrow1_col2\" class=\"data row1 col2\" >Activity B</td>\n                        <td id=\"T_4390b4f7_f0e9_11ea_9587_f079596806ffrow1_col3\" class=\"data row1 col3\" >Activity C</td>\n                        <td id=\"T_4390b4f7_f0e9_11ea_9587_f079596806ffrow1_col4\" class=\"data row1 col4\" >Activity D</td>\n                        <td id=\"T_4390b4f7_f0e9_11ea_9587_f079596806ffrow1_col5\" class=\"data row1 col5\" >Activity E</td>\n                        <td id=\"T_4390b4f7_f0e9_11ea_9587_f079596806ffrow1_col6\" class=\"data row1 col6\" >»</td>\n                        <td id=\"T_4390b4f7_f0e9_11ea_9587_f079596806ffrow1_col7\" class=\"data row1 col7\" >Activity K</td>\n                        <td id=\"T_4390b4f7_f0e9_11ea_9587_f079596806ffrow1_col8\" class=\"data row1 col8\" >Activity M</td>\n                        <td id=\"T_4390b4f7_f0e9_11ea_9587_f079596806ffrow1_col9\" class=\"data row1 col9\" >Activity N</td>\n                        <td id=\"T_4390b4f7_f0e9_11ea_9587_f079596806ffrow1_col10\" class=\"data row1 col10\" >Activity L</td>\n                        <td id=\"T_4390b4f7_f0e9_11ea_9587_f079596806ffrow1_col11\" class=\"data row1 col11\" >Activity F</td>\n                        <td id=\"T_4390b4f7_f0e9_11ea_9587_f079596806ffrow1_col12\" class=\"data row1 col12\" >■</td>\n            </tr>\n    </tbody></table>"
     },
     "metadata": {},
     "output_type": "display_data"
    },
    {
     "data": {
      "text/plain": "<pandas.io.formats.style.Styler at 0x22aab9569d0>",
      "text/html": "<style  type=\"text/css\" >\n</style><table id=\"T_4391c660_f0e9_11ea_805d_f079596806ff\" ><thead>    <tr>        <th class=\"col_heading level0 col0\" >0</th>        <th class=\"col_heading level0 col1\" >1</th>        <th class=\"col_heading level0 col2\" >2</th>        <th class=\"col_heading level0 col3\" >3</th>        <th class=\"col_heading level0 col4\" >4</th>        <th class=\"col_heading level0 col5\" >5</th>        <th class=\"col_heading level0 col6\" >6</th>        <th class=\"col_heading level0 col7\" >7</th>        <th class=\"col_heading level0 col8\" >8</th>        <th class=\"col_heading level0 col9\" >9</th>        <th class=\"col_heading level0 col10\" >10</th>        <th class=\"col_heading level0 col11\" >11</th>        <th class=\"col_heading level0 col12\" >12</th>    </tr></thead><tbody>\n                <tr>\n                                <td id=\"T_4391c660_f0e9_11ea_805d_f079596806ffrow0_col0\" class=\"data row0 col0\" >▶</td>\n                        <td id=\"T_4391c660_f0e9_11ea_805d_f079596806ffrow0_col1\" class=\"data row0 col1\" >»</td>\n                        <td id=\"T_4391c660_f0e9_11ea_805d_f079596806ffrow0_col2\" class=\"data row0 col2\" >Activity B</td>\n                        <td id=\"T_4391c660_f0e9_11ea_805d_f079596806ffrow0_col3\" class=\"data row0 col3\" >Activity C</td>\n                        <td id=\"T_4391c660_f0e9_11ea_805d_f079596806ffrow0_col4\" class=\"data row0 col4\" >Activity D</td>\n                        <td id=\"T_4391c660_f0e9_11ea_805d_f079596806ffrow0_col5\" class=\"data row0 col5\" >Activity E</td>\n                        <td id=\"T_4391c660_f0e9_11ea_805d_f079596806ffrow0_col6\" class=\"data row0 col6\" >Activity K</td>\n                        <td id=\"T_4391c660_f0e9_11ea_805d_f079596806ffrow0_col7\" class=\"data row0 col7\" >Activity A</td>\n                        <td id=\"T_4391c660_f0e9_11ea_805d_f079596806ffrow0_col8\" class=\"data row0 col8\" >Activity O</td>\n                        <td id=\"T_4391c660_f0e9_11ea_805d_f079596806ffrow0_col9\" class=\"data row0 col9\" >Activity P</td>\n                        <td id=\"T_4391c660_f0e9_11ea_805d_f079596806ffrow0_col10\" class=\"data row0 col10\" >Activity L</td>\n                        <td id=\"T_4391c660_f0e9_11ea_805d_f079596806ffrow0_col11\" class=\"data row0 col11\" >Activity F</td>\n                        <td id=\"T_4391c660_f0e9_11ea_805d_f079596806ffrow0_col12\" class=\"data row0 col12\" >■</td>\n            </tr>\n            <tr>\n                                <td id=\"T_4391c660_f0e9_11ea_805d_f079596806ffrow1_col0\" class=\"data row1 col0\" >▶</td>\n                        <td id=\"T_4391c660_f0e9_11ea_805d_f079596806ffrow1_col1\" class=\"data row1 col1\" >Activity A</td>\n                        <td id=\"T_4391c660_f0e9_11ea_805d_f079596806ffrow1_col2\" class=\"data row1 col2\" >Activity B</td>\n                        <td id=\"T_4391c660_f0e9_11ea_805d_f079596806ffrow1_col3\" class=\"data row1 col3\" >Activity C</td>\n                        <td id=\"T_4391c660_f0e9_11ea_805d_f079596806ffrow1_col4\" class=\"data row1 col4\" >Activity D</td>\n                        <td id=\"T_4391c660_f0e9_11ea_805d_f079596806ffrow1_col5\" class=\"data row1 col5\" >Activity E</td>\n                        <td id=\"T_4391c660_f0e9_11ea_805d_f079596806ffrow1_col6\" class=\"data row1 col6\" >Activity K</td>\n                        <td id=\"T_4391c660_f0e9_11ea_805d_f079596806ffrow1_col7\" class=\"data row1 col7\" >»</td>\n                        <td id=\"T_4391c660_f0e9_11ea_805d_f079596806ffrow1_col8\" class=\"data row1 col8\" >Activity O</td>\n                        <td id=\"T_4391c660_f0e9_11ea_805d_f079596806ffrow1_col9\" class=\"data row1 col9\" >Activity P</td>\n                        <td id=\"T_4391c660_f0e9_11ea_805d_f079596806ffrow1_col10\" class=\"data row1 col10\" >Activity L</td>\n                        <td id=\"T_4391c660_f0e9_11ea_805d_f079596806ffrow1_col11\" class=\"data row1 col11\" >Activity F</td>\n                        <td id=\"T_4391c660_f0e9_11ea_805d_f079596806ffrow1_col12\" class=\"data row1 col12\" >■</td>\n            </tr>\n    </tbody></table>"
     },
     "metadata": {},
     "output_type": "display_data"
    },
    {
     "data": {
      "text/plain": "<pandas.io.formats.style.Styler at 0x22aab956e80>",
      "text/html": "<style  type=\"text/css\" >\n</style><table id=\"T_43928a0c_f0e9_11ea_a555_f079596806ff\" ><thead>    <tr>        <th class=\"col_heading level0 col0\" >0</th>        <th class=\"col_heading level0 col1\" >1</th>        <th class=\"col_heading level0 col2\" >2</th>        <th class=\"col_heading level0 col3\" >3</th>        <th class=\"col_heading level0 col4\" >4</th>        <th class=\"col_heading level0 col5\" >5</th>        <th class=\"col_heading level0 col6\" >6</th>        <th class=\"col_heading level0 col7\" >7</th>        <th class=\"col_heading level0 col8\" >8</th>        <th class=\"col_heading level0 col9\" >9</th>        <th class=\"col_heading level0 col10\" >10</th>    </tr></thead><tbody>\n                <tr>\n                                <td id=\"T_43928a0c_f0e9_11ea_a555_f079596806ffrow0_col0\" class=\"data row0 col0\" >▶</td>\n                        <td id=\"T_43928a0c_f0e9_11ea_a555_f079596806ffrow0_col1\" class=\"data row0 col1\" >Random activity 18</td>\n                        <td id=\"T_43928a0c_f0e9_11ea_a555_f079596806ffrow0_col2\" class=\"data row0 col2\" >Activity A</td>\n                        <td id=\"T_43928a0c_f0e9_11ea_a555_f079596806ffrow0_col3\" class=\"data row0 col3\" >Activity B</td>\n                        <td id=\"T_43928a0c_f0e9_11ea_a555_f079596806ffrow0_col4\" class=\"data row0 col4\" >Activity C</td>\n                        <td id=\"T_43928a0c_f0e9_11ea_a555_f079596806ffrow0_col5\" class=\"data row0 col5\" >Activity D</td>\n                        <td id=\"T_43928a0c_f0e9_11ea_a555_f079596806ffrow0_col6\" class=\"data row0 col6\" >Random activity 11</td>\n                        <td id=\"T_43928a0c_f0e9_11ea_a555_f079596806ffrow0_col7\" class=\"data row0 col7\" >Activity E</td>\n                        <td id=\"T_43928a0c_f0e9_11ea_a555_f079596806ffrow0_col8\" class=\"data row0 col8\" >Activity T</td>\n                        <td id=\"T_43928a0c_f0e9_11ea_a555_f079596806ffrow0_col9\" class=\"data row0 col9\" >Activity F</td>\n                        <td id=\"T_43928a0c_f0e9_11ea_a555_f079596806ffrow0_col10\" class=\"data row0 col10\" >■</td>\n            </tr>\n            <tr>\n                                <td id=\"T_43928a0c_f0e9_11ea_a555_f079596806ffrow1_col0\" class=\"data row1 col0\" >▶</td>\n                        <td id=\"T_43928a0c_f0e9_11ea_a555_f079596806ffrow1_col1\" class=\"data row1 col1\" >»</td>\n                        <td id=\"T_43928a0c_f0e9_11ea_a555_f079596806ffrow1_col2\" class=\"data row1 col2\" >Activity A</td>\n                        <td id=\"T_43928a0c_f0e9_11ea_a555_f079596806ffrow1_col3\" class=\"data row1 col3\" >Activity B</td>\n                        <td id=\"T_43928a0c_f0e9_11ea_a555_f079596806ffrow1_col4\" class=\"data row1 col4\" >Activity C</td>\n                        <td id=\"T_43928a0c_f0e9_11ea_a555_f079596806ffrow1_col5\" class=\"data row1 col5\" >Activity D</td>\n                        <td id=\"T_43928a0c_f0e9_11ea_a555_f079596806ffrow1_col6\" class=\"data row1 col6\" >»</td>\n                        <td id=\"T_43928a0c_f0e9_11ea_a555_f079596806ffrow1_col7\" class=\"data row1 col7\" >Activity E</td>\n                        <td id=\"T_43928a0c_f0e9_11ea_a555_f079596806ffrow1_col8\" class=\"data row1 col8\" >Activity T</td>\n                        <td id=\"T_43928a0c_f0e9_11ea_a555_f079596806ffrow1_col9\" class=\"data row1 col9\" >Activity F</td>\n                        <td id=\"T_43928a0c_f0e9_11ea_a555_f079596806ffrow1_col10\" class=\"data row1 col10\" >■</td>\n            </tr>\n    </tbody></table>"
     },
     "metadata": {},
     "output_type": "display_data"
    }
   ],
   "source": [
    "for anomaly_type in set(dataset.text_labels):\n",
    "    index = np.where(dataset.text_labels == anomaly_type)[0][0] # Select the first one\n",
    "    print(anomaly_type)\n",
    "    display_alignment(alignments[index][0], decode=decode)"
   ]
  },
  {
   "cell_type": "markdown",
   "metadata": {},
   "source": [
    "## Computing Alignments with the Heuristics Miner"
   ]
  },
  {
   "cell_type": "markdown",
   "metadata": {},
   "source": [
    "Now, let us take a look at the Heuristics Miner using the shorthand `'hm'`."
   ]
  },
  {
   "cell_type": "code",
   "execution_count": 16,
   "metadata": {
    "pycharm": {
     "is_executing": false
    }
   },
   "outputs": [
    {
     "name": "stdout",
     "text": [
      "small-0.3-1_hm\n"
     ],
     "output_type": "stream"
    }
   ],
   "source": [
    "heuristics_miner, dataset = get_model('hm', dataset_name)"
   ]
  },
  {
   "cell_type": "code",
   "execution_count": 17,
   "metadata": {
    "pycharm": {
     "is_executing": false
    }
   },
   "outputs": [
    {
     "name": "stderr",
     "text": [
      "Y:\\Repos_Uni\\deepalign-master\\deepalign\\processmining\\log.py:58: VisibleDeprecationWarning: Creating an ndarray from ragged nested sequences (which is a list-or-tuple of lists-or-tuples-or ndarrays with different lengths or shapes) is deprecated. If you meant to do this, you must specify 'dtype=object' when creating the ndarray\n",
      "  return np.array(self.cases)[indices]\n",
      "100%|██████████| 659/659 [00:12<00:00, 52.67it/s]\n"
     ],
     "output_type": "stream"
    }
   ],
   "source": [
    "alignments, x, costs = heuristics_miner.align(dataset)"
   ]
  },
  {
   "cell_type": "markdown",
   "metadata": {},
   "source": [
    "Let us look at the same examples as for the DeepAlign algorithm. We can see that the Heuristics Miner does not always produce the correct alignments."
   ]
  },
  {
   "cell_type": "code",
   "execution_count": 18,
   "metadata": {
    "pycharm": {
     "is_executing": false
    }
   },
   "outputs": [
    {
     "name": "stdout",
     "text": [
      "Normal\n",
      "Rework\n",
      "Attribute\n",
      "SkipSequence\n",
      "Early\n",
      "Late\n",
      "Insert\n"
     ],
     "output_type": "stream"
    },
    {
     "data": {
      "text/plain": "<pandas.io.formats.style.Styler at 0x22abb178c40>",
      "text/html": "<style  type=\"text/css\" >\n</style><table id=\"T_4be7a66e_f0e9_11ea_bbad_f079596806ff\" ><thead>    <tr>        <th class=\"col_heading level0 col0\" >0</th>        <th class=\"col_heading level0 col1\" >1</th>        <th class=\"col_heading level0 col2\" >2</th>        <th class=\"col_heading level0 col3\" >3</th>        <th class=\"col_heading level0 col4\" >4</th>        <th class=\"col_heading level0 col5\" >5</th>        <th class=\"col_heading level0 col6\" >6</th>        <th class=\"col_heading level0 col7\" >7</th>        <th class=\"col_heading level0 col8\" >8</th>        <th class=\"col_heading level0 col9\" >9</th>        <th class=\"col_heading level0 col10\" >10</th>        <th class=\"col_heading level0 col11\" >11</th>    </tr></thead><tbody>\n                <tr>\n                                <td id=\"T_4be7a66e_f0e9_11ea_bbad_f079596806ffrow0_col0\" class=\"data row0 col0\" >▶</td>\n                        <td id=\"T_4be7a66e_f0e9_11ea_bbad_f079596806ffrow0_col1\" class=\"data row0 col1\" >Activity A</td>\n                        <td id=\"T_4be7a66e_f0e9_11ea_bbad_f079596806ffrow0_col2\" class=\"data row0 col2\" >Activity B</td>\n                        <td id=\"T_4be7a66e_f0e9_11ea_bbad_f079596806ffrow0_col3\" class=\"data row0 col3\" >Activity C</td>\n                        <td id=\"T_4be7a66e_f0e9_11ea_bbad_f079596806ffrow0_col4\" class=\"data row0 col4\" >Activity D</td>\n                        <td id=\"T_4be7a66e_f0e9_11ea_bbad_f079596806ffrow0_col5\" class=\"data row0 col5\" >Activity E</td>\n                        <td id=\"T_4be7a66e_f0e9_11ea_bbad_f079596806ffrow0_col6\" class=\"data row0 col6\" >Activity G</td>\n                        <td id=\"T_4be7a66e_f0e9_11ea_bbad_f079596806ffrow0_col7\" class=\"data row0 col7\" >Activity H</td>\n                        <td id=\"T_4be7a66e_f0e9_11ea_bbad_f079596806ffrow0_col8\" class=\"data row0 col8\" >Activity I</td>\n                        <td id=\"T_4be7a66e_f0e9_11ea_bbad_f079596806ffrow0_col9\" class=\"data row0 col9\" >Activity J</td>\n                        <td id=\"T_4be7a66e_f0e9_11ea_bbad_f079596806ffrow0_col10\" class=\"data row0 col10\" >Activity F</td>\n                        <td id=\"T_4be7a66e_f0e9_11ea_bbad_f079596806ffrow0_col11\" class=\"data row0 col11\" >■</td>\n            </tr>\n            <tr>\n                                <td id=\"T_4be7a66e_f0e9_11ea_bbad_f079596806ffrow1_col0\" class=\"data row1 col0\" >▶</td>\n                        <td id=\"T_4be7a66e_f0e9_11ea_bbad_f079596806ffrow1_col1\" class=\"data row1 col1\" >Activity A</td>\n                        <td id=\"T_4be7a66e_f0e9_11ea_bbad_f079596806ffrow1_col2\" class=\"data row1 col2\" >Activity B</td>\n                        <td id=\"T_4be7a66e_f0e9_11ea_bbad_f079596806ffrow1_col3\" class=\"data row1 col3\" >Activity C</td>\n                        <td id=\"T_4be7a66e_f0e9_11ea_bbad_f079596806ffrow1_col4\" class=\"data row1 col4\" >Activity D</td>\n                        <td id=\"T_4be7a66e_f0e9_11ea_bbad_f079596806ffrow1_col5\" class=\"data row1 col5\" >Activity E</td>\n                        <td id=\"T_4be7a66e_f0e9_11ea_bbad_f079596806ffrow1_col6\" class=\"data row1 col6\" >Activity G</td>\n                        <td id=\"T_4be7a66e_f0e9_11ea_bbad_f079596806ffrow1_col7\" class=\"data row1 col7\" >Activity H</td>\n                        <td id=\"T_4be7a66e_f0e9_11ea_bbad_f079596806ffrow1_col8\" class=\"data row1 col8\" >Activity I</td>\n                        <td id=\"T_4be7a66e_f0e9_11ea_bbad_f079596806ffrow1_col9\" class=\"data row1 col9\" >Activity J</td>\n                        <td id=\"T_4be7a66e_f0e9_11ea_bbad_f079596806ffrow1_col10\" class=\"data row1 col10\" >Activity F</td>\n                        <td id=\"T_4be7a66e_f0e9_11ea_bbad_f079596806ffrow1_col11\" class=\"data row1 col11\" >■</td>\n            </tr>\n    </tbody></table>"
     },
     "metadata": {},
     "output_type": "display_data"
    },
    {
     "data": {
      "text/plain": "<pandas.io.formats.style.Styler at 0x22abb178bb0>",
      "text/html": "<style  type=\"text/css\" >\n</style><table id=\"T_4be92ce8_f0e9_11ea_aba0_f079596806ff\" ><thead>    <tr>        <th class=\"col_heading level0 col0\" >0</th>        <th class=\"col_heading level0 col1\" >1</th>        <th class=\"col_heading level0 col2\" >2</th>        <th class=\"col_heading level0 col3\" >3</th>        <th class=\"col_heading level0 col4\" >4</th>        <th class=\"col_heading level0 col5\" >5</th>        <th class=\"col_heading level0 col6\" >6</th>        <th class=\"col_heading level0 col7\" >7</th>        <th class=\"col_heading level0 col8\" >8</th>        <th class=\"col_heading level0 col9\" >9</th>        <th class=\"col_heading level0 col10\" >10</th>        <th class=\"col_heading level0 col11\" >11</th>        <th class=\"col_heading level0 col12\" >12</th>        <th class=\"col_heading level0 col13\" >13</th>    </tr></thead><tbody>\n                <tr>\n                                <td id=\"T_4be92ce8_f0e9_11ea_aba0_f079596806ffrow0_col0\" class=\"data row0 col0\" >▶</td>\n                        <td id=\"T_4be92ce8_f0e9_11ea_aba0_f079596806ffrow0_col1\" class=\"data row0 col1\" >Activity A</td>\n                        <td id=\"T_4be92ce8_f0e9_11ea_aba0_f079596806ffrow0_col2\" class=\"data row0 col2\" >Activity B</td>\n                        <td id=\"T_4be92ce8_f0e9_11ea_aba0_f079596806ffrow0_col3\" class=\"data row0 col3\" >Activity C</td>\n                        <td id=\"T_4be92ce8_f0e9_11ea_aba0_f079596806ffrow0_col4\" class=\"data row0 col4\" >Activity D</td>\n                        <td id=\"T_4be92ce8_f0e9_11ea_aba0_f079596806ffrow0_col5\" class=\"data row0 col5\" >Activity B</td>\n                        <td id=\"T_4be92ce8_f0e9_11ea_aba0_f079596806ffrow0_col6\" class=\"data row0 col6\" >Activity C</td>\n                        <td id=\"T_4be92ce8_f0e9_11ea_aba0_f079596806ffrow0_col7\" class=\"data row0 col7\" >Activity E</td>\n                        <td id=\"T_4be92ce8_f0e9_11ea_aba0_f079596806ffrow0_col8\" class=\"data row0 col8\" >Activity K</td>\n                        <td id=\"T_4be92ce8_f0e9_11ea_aba0_f079596806ffrow0_col9\" class=\"data row0 col9\" >Activity R</td>\n                        <td id=\"T_4be92ce8_f0e9_11ea_aba0_f079596806ffrow0_col10\" class=\"data row0 col10\" >Activity S</td>\n                        <td id=\"T_4be92ce8_f0e9_11ea_aba0_f079596806ffrow0_col11\" class=\"data row0 col11\" >Activity L</td>\n                        <td id=\"T_4be92ce8_f0e9_11ea_aba0_f079596806ffrow0_col12\" class=\"data row0 col12\" >Activity F</td>\n                        <td id=\"T_4be92ce8_f0e9_11ea_aba0_f079596806ffrow0_col13\" class=\"data row0 col13\" >■</td>\n            </tr>\n            <tr>\n                                <td id=\"T_4be92ce8_f0e9_11ea_aba0_f079596806ffrow1_col0\" class=\"data row1 col0\" >▶</td>\n                        <td id=\"T_4be92ce8_f0e9_11ea_aba0_f079596806ffrow1_col1\" class=\"data row1 col1\" >Activity A</td>\n                        <td id=\"T_4be92ce8_f0e9_11ea_aba0_f079596806ffrow1_col2\" class=\"data row1 col2\" >Activity B</td>\n                        <td id=\"T_4be92ce8_f0e9_11ea_aba0_f079596806ffrow1_col3\" class=\"data row1 col3\" >Activity C</td>\n                        <td id=\"T_4be92ce8_f0e9_11ea_aba0_f079596806ffrow1_col4\" class=\"data row1 col4\" >Activity D</td>\n                        <td id=\"T_4be92ce8_f0e9_11ea_aba0_f079596806ffrow1_col5\" class=\"data row1 col5\" >»</td>\n                        <td id=\"T_4be92ce8_f0e9_11ea_aba0_f079596806ffrow1_col6\" class=\"data row1 col6\" >»</td>\n                        <td id=\"T_4be92ce8_f0e9_11ea_aba0_f079596806ffrow1_col7\" class=\"data row1 col7\" >Activity E</td>\n                        <td id=\"T_4be92ce8_f0e9_11ea_aba0_f079596806ffrow1_col8\" class=\"data row1 col8\" >Activity K</td>\n                        <td id=\"T_4be92ce8_f0e9_11ea_aba0_f079596806ffrow1_col9\" class=\"data row1 col9\" >Activity R</td>\n                        <td id=\"T_4be92ce8_f0e9_11ea_aba0_f079596806ffrow1_col10\" class=\"data row1 col10\" >Activity S</td>\n                        <td id=\"T_4be92ce8_f0e9_11ea_aba0_f079596806ffrow1_col11\" class=\"data row1 col11\" >Activity L</td>\n                        <td id=\"T_4be92ce8_f0e9_11ea_aba0_f079596806ffrow1_col12\" class=\"data row1 col12\" >Activity F</td>\n                        <td id=\"T_4be92ce8_f0e9_11ea_aba0_f079596806ffrow1_col13\" class=\"data row1 col13\" >■</td>\n            </tr>\n    </tbody></table>"
     },
     "metadata": {},
     "output_type": "display_data"
    },
    {
     "data": {
      "text/plain": "<pandas.io.formats.style.Styler at 0x22ab30fdc10>",
      "text/html": "<style  type=\"text/css\" >\n</style><table id=\"T_4bea6580_f0e9_11ea_995b_f079596806ff\" ><thead>    <tr>        <th class=\"col_heading level0 col0\" >0</th>        <th class=\"col_heading level0 col1\" >1</th>        <th class=\"col_heading level0 col2\" >2</th>        <th class=\"col_heading level0 col3\" >3</th>        <th class=\"col_heading level0 col4\" >4</th>        <th class=\"col_heading level0 col5\" >5</th>        <th class=\"col_heading level0 col6\" >6</th>        <th class=\"col_heading level0 col7\" >7</th>        <th class=\"col_heading level0 col8\" >8</th>        <th class=\"col_heading level0 col9\" >9</th>        <th class=\"col_heading level0 col10\" >10</th>        <th class=\"col_heading level0 col11\" >11</th>    </tr></thead><tbody>\n                <tr>\n                                <td id=\"T_4bea6580_f0e9_11ea_995b_f079596806ffrow0_col0\" class=\"data row0 col0\" >▶</td>\n                        <td id=\"T_4bea6580_f0e9_11ea_995b_f079596806ffrow0_col1\" class=\"data row0 col1\" >Activity A</td>\n                        <td id=\"T_4bea6580_f0e9_11ea_995b_f079596806ffrow0_col2\" class=\"data row0 col2\" >Activity B</td>\n                        <td id=\"T_4bea6580_f0e9_11ea_995b_f079596806ffrow0_col3\" class=\"data row0 col3\" >Activity C</td>\n                        <td id=\"T_4bea6580_f0e9_11ea_995b_f079596806ffrow0_col4\" class=\"data row0 col4\" >Activity D</td>\n                        <td id=\"T_4bea6580_f0e9_11ea_995b_f079596806ffrow0_col5\" class=\"data row0 col5\" >Activity E</td>\n                        <td id=\"T_4bea6580_f0e9_11ea_995b_f079596806ffrow0_col6\" class=\"data row0 col6\" >Activity G</td>\n                        <td id=\"T_4bea6580_f0e9_11ea_995b_f079596806ffrow0_col7\" class=\"data row0 col7\" >Activity H</td>\n                        <td id=\"T_4bea6580_f0e9_11ea_995b_f079596806ffrow0_col8\" class=\"data row0 col8\" >Activity I</td>\n                        <td id=\"T_4bea6580_f0e9_11ea_995b_f079596806ffrow0_col9\" class=\"data row0 col9\" >Activity J</td>\n                        <td id=\"T_4bea6580_f0e9_11ea_995b_f079596806ffrow0_col10\" class=\"data row0 col10\" >Activity F</td>\n                        <td id=\"T_4bea6580_f0e9_11ea_995b_f079596806ffrow0_col11\" class=\"data row0 col11\" >■</td>\n            </tr>\n            <tr>\n                                <td id=\"T_4bea6580_f0e9_11ea_995b_f079596806ffrow1_col0\" class=\"data row1 col0\" >▶</td>\n                        <td id=\"T_4bea6580_f0e9_11ea_995b_f079596806ffrow1_col1\" class=\"data row1 col1\" >Activity A</td>\n                        <td id=\"T_4bea6580_f0e9_11ea_995b_f079596806ffrow1_col2\" class=\"data row1 col2\" >Activity B</td>\n                        <td id=\"T_4bea6580_f0e9_11ea_995b_f079596806ffrow1_col3\" class=\"data row1 col3\" >Activity C</td>\n                        <td id=\"T_4bea6580_f0e9_11ea_995b_f079596806ffrow1_col4\" class=\"data row1 col4\" >Activity D</td>\n                        <td id=\"T_4bea6580_f0e9_11ea_995b_f079596806ffrow1_col5\" class=\"data row1 col5\" >Activity E</td>\n                        <td id=\"T_4bea6580_f0e9_11ea_995b_f079596806ffrow1_col6\" class=\"data row1 col6\" >Activity G</td>\n                        <td id=\"T_4bea6580_f0e9_11ea_995b_f079596806ffrow1_col7\" class=\"data row1 col7\" >Activity H</td>\n                        <td id=\"T_4bea6580_f0e9_11ea_995b_f079596806ffrow1_col8\" class=\"data row1 col8\" >Activity I</td>\n                        <td id=\"T_4bea6580_f0e9_11ea_995b_f079596806ffrow1_col9\" class=\"data row1 col9\" >Activity J</td>\n                        <td id=\"T_4bea6580_f0e9_11ea_995b_f079596806ffrow1_col10\" class=\"data row1 col10\" >Activity F</td>\n                        <td id=\"T_4bea6580_f0e9_11ea_995b_f079596806ffrow1_col11\" class=\"data row1 col11\" >■</td>\n            </tr>\n    </tbody></table>"
     },
     "metadata": {},
     "output_type": "display_data"
    },
    {
     "data": {
      "text/plain": "<pandas.io.formats.style.Styler at 0x22abb178370>",
      "text/html": "<style  type=\"text/css\" >\n</style><table id=\"T_4bebc51a_f0e9_11ea_9031_f079596806ff\" ><thead>    <tr>        <th class=\"col_heading level0 col0\" >0</th>        <th class=\"col_heading level0 col1\" >1</th>        <th class=\"col_heading level0 col2\" >2</th>        <th class=\"col_heading level0 col3\" >3</th>        <th class=\"col_heading level0 col4\" >4</th>        <th class=\"col_heading level0 col5\" >5</th>        <th class=\"col_heading level0 col6\" >6</th>    </tr></thead><tbody>\n                <tr>\n                                <td id=\"T_4bebc51a_f0e9_11ea_9031_f079596806ffrow0_col0\" class=\"data row0 col0\" >▶</td>\n                        <td id=\"T_4bebc51a_f0e9_11ea_9031_f079596806ffrow0_col1\" class=\"data row0 col1\" >Activity A</td>\n                        <td id=\"T_4bebc51a_f0e9_11ea_9031_f079596806ffrow0_col2\" class=\"data row0 col2\" >Activity B</td>\n                        <td id=\"T_4bebc51a_f0e9_11ea_9031_f079596806ffrow0_col3\" class=\"data row0 col3\" >Activity C</td>\n                        <td id=\"T_4bebc51a_f0e9_11ea_9031_f079596806ffrow0_col4\" class=\"data row0 col4\" >Activity T</td>\n                        <td id=\"T_4bebc51a_f0e9_11ea_9031_f079596806ffrow0_col5\" class=\"data row0 col5\" >Activity F</td>\n                        <td id=\"T_4bebc51a_f0e9_11ea_9031_f079596806ffrow0_col6\" class=\"data row0 col6\" >■</td>\n            </tr>\n            <tr>\n                                <td id=\"T_4bebc51a_f0e9_11ea_9031_f079596806ffrow1_col0\" class=\"data row1 col0\" >▶</td>\n                        <td id=\"T_4bebc51a_f0e9_11ea_9031_f079596806ffrow1_col1\" class=\"data row1 col1\" >Activity A</td>\n                        <td id=\"T_4bebc51a_f0e9_11ea_9031_f079596806ffrow1_col2\" class=\"data row1 col2\" >Activity B</td>\n                        <td id=\"T_4bebc51a_f0e9_11ea_9031_f079596806ffrow1_col3\" class=\"data row1 col3\" >Activity C</td>\n                        <td id=\"T_4bebc51a_f0e9_11ea_9031_f079596806ffrow1_col4\" class=\"data row1 col4\" >»</td>\n                        <td id=\"T_4bebc51a_f0e9_11ea_9031_f079596806ffrow1_col5\" class=\"data row1 col5\" >»</td>\n                        <td id=\"T_4bebc51a_f0e9_11ea_9031_f079596806ffrow1_col6\" class=\"data row1 col6\" >■</td>\n            </tr>\n    </tbody></table>"
     },
     "metadata": {},
     "output_type": "display_data"
    },
    {
     "data": {
      "text/plain": "<pandas.io.formats.style.Styler at 0x22abb1784c0>",
      "text/html": "<style  type=\"text/css\" >\n</style><table id=\"T_4becfdad_f0e9_11ea_873b_f079596806ff\" ><thead>    <tr>        <th class=\"col_heading level0 col0\" >0</th>        <th class=\"col_heading level0 col1\" >1</th>        <th class=\"col_heading level0 col2\" >2</th>        <th class=\"col_heading level0 col3\" >3</th>        <th class=\"col_heading level0 col4\" >4</th>        <th class=\"col_heading level0 col5\" >5</th>        <th class=\"col_heading level0 col6\" >6</th>        <th class=\"col_heading level0 col7\" >7</th>        <th class=\"col_heading level0 col8\" >8</th>        <th class=\"col_heading level0 col9\" >9</th>        <th class=\"col_heading level0 col10\" >10</th>        <th class=\"col_heading level0 col11\" >11</th>        <th class=\"col_heading level0 col12\" >12</th>    </tr></thead><tbody>\n                <tr>\n                                <td id=\"T_4becfdad_f0e9_11ea_873b_f079596806ffrow0_col0\" class=\"data row0 col0\" >▶</td>\n                        <td id=\"T_4becfdad_f0e9_11ea_873b_f079596806ffrow0_col1\" class=\"data row0 col1\" >Activity A</td>\n                        <td id=\"T_4becfdad_f0e9_11ea_873b_f079596806ffrow0_col2\" class=\"data row0 col2\" >Activity B</td>\n                        <td id=\"T_4becfdad_f0e9_11ea_873b_f079596806ffrow0_col3\" class=\"data row0 col3\" >»</td>\n                        <td id=\"T_4becfdad_f0e9_11ea_873b_f079596806ffrow0_col4\" class=\"data row0 col4\" >Activity D</td>\n                        <td id=\"T_4becfdad_f0e9_11ea_873b_f079596806ffrow0_col5\" class=\"data row0 col5\" >Activity E</td>\n                        <td id=\"T_4becfdad_f0e9_11ea_873b_f079596806ffrow0_col6\" class=\"data row0 col6\" >Activity C</td>\n                        <td id=\"T_4becfdad_f0e9_11ea_873b_f079596806ffrow0_col7\" class=\"data row0 col7\" >Activity K</td>\n                        <td id=\"T_4becfdad_f0e9_11ea_873b_f079596806ffrow0_col8\" class=\"data row0 col8\" >Activity M</td>\n                        <td id=\"T_4becfdad_f0e9_11ea_873b_f079596806ffrow0_col9\" class=\"data row0 col9\" >Activity N</td>\n                        <td id=\"T_4becfdad_f0e9_11ea_873b_f079596806ffrow0_col10\" class=\"data row0 col10\" >Activity L</td>\n                        <td id=\"T_4becfdad_f0e9_11ea_873b_f079596806ffrow0_col11\" class=\"data row0 col11\" >Activity F</td>\n                        <td id=\"T_4becfdad_f0e9_11ea_873b_f079596806ffrow0_col12\" class=\"data row0 col12\" >■</td>\n            </tr>\n            <tr>\n                                <td id=\"T_4becfdad_f0e9_11ea_873b_f079596806ffrow1_col0\" class=\"data row1 col0\" >▶</td>\n                        <td id=\"T_4becfdad_f0e9_11ea_873b_f079596806ffrow1_col1\" class=\"data row1 col1\" >Activity A</td>\n                        <td id=\"T_4becfdad_f0e9_11ea_873b_f079596806ffrow1_col2\" class=\"data row1 col2\" >Activity B</td>\n                        <td id=\"T_4becfdad_f0e9_11ea_873b_f079596806ffrow1_col3\" class=\"data row1 col3\" >Activity C</td>\n                        <td id=\"T_4becfdad_f0e9_11ea_873b_f079596806ffrow1_col4\" class=\"data row1 col4\" >Activity D</td>\n                        <td id=\"T_4becfdad_f0e9_11ea_873b_f079596806ffrow1_col5\" class=\"data row1 col5\" >Activity E</td>\n                        <td id=\"T_4becfdad_f0e9_11ea_873b_f079596806ffrow1_col6\" class=\"data row1 col6\" >»</td>\n                        <td id=\"T_4becfdad_f0e9_11ea_873b_f079596806ffrow1_col7\" class=\"data row1 col7\" >Activity K</td>\n                        <td id=\"T_4becfdad_f0e9_11ea_873b_f079596806ffrow1_col8\" class=\"data row1 col8\" >Activity M</td>\n                        <td id=\"T_4becfdad_f0e9_11ea_873b_f079596806ffrow1_col9\" class=\"data row1 col9\" >Activity N</td>\n                        <td id=\"T_4becfdad_f0e9_11ea_873b_f079596806ffrow1_col10\" class=\"data row1 col10\" >Activity L</td>\n                        <td id=\"T_4becfdad_f0e9_11ea_873b_f079596806ffrow1_col11\" class=\"data row1 col11\" >Activity F</td>\n                        <td id=\"T_4becfdad_f0e9_11ea_873b_f079596806ffrow1_col12\" class=\"data row1 col12\" >■</td>\n            </tr>\n    </tbody></table>"
     },
     "metadata": {},
     "output_type": "display_data"
    },
    {
     "data": {
      "text/plain": "<pandas.io.formats.style.Styler at 0x22abb178970>",
      "text/html": "<style  type=\"text/css\" >\n</style><table id=\"T_4bee361e_f0e9_11ea_82e2_f079596806ff\" ><thead>    <tr>        <th class=\"col_heading level0 col0\" >0</th>        <th class=\"col_heading level0 col1\" >1</th>        <th class=\"col_heading level0 col2\" >2</th>        <th class=\"col_heading level0 col3\" >3</th>        <th class=\"col_heading level0 col4\" >4</th>        <th class=\"col_heading level0 col5\" >5</th>        <th class=\"col_heading level0 col6\" >6</th>        <th class=\"col_heading level0 col7\" >7</th>        <th class=\"col_heading level0 col8\" >8</th>        <th class=\"col_heading level0 col9\" >9</th>        <th class=\"col_heading level0 col10\" >10</th>        <th class=\"col_heading level0 col11\" >11</th>    </tr></thead><tbody>\n                <tr>\n                                <td id=\"T_4bee361e_f0e9_11ea_82e2_f079596806ffrow0_col0\" class=\"data row0 col0\" >▶</td>\n                        <td id=\"T_4bee361e_f0e9_11ea_82e2_f079596806ffrow0_col1\" class=\"data row0 col1\" >Activity B</td>\n                        <td id=\"T_4bee361e_f0e9_11ea_82e2_f079596806ffrow0_col2\" class=\"data row0 col2\" >Activity C</td>\n                        <td id=\"T_4bee361e_f0e9_11ea_82e2_f079596806ffrow0_col3\" class=\"data row0 col3\" >Activity D</td>\n                        <td id=\"T_4bee361e_f0e9_11ea_82e2_f079596806ffrow0_col4\" class=\"data row0 col4\" >Activity E</td>\n                        <td id=\"T_4bee361e_f0e9_11ea_82e2_f079596806ffrow0_col5\" class=\"data row0 col5\" >Activity K</td>\n                        <td id=\"T_4bee361e_f0e9_11ea_82e2_f079596806ffrow0_col6\" class=\"data row0 col6\" >Activity A</td>\n                        <td id=\"T_4bee361e_f0e9_11ea_82e2_f079596806ffrow0_col7\" class=\"data row0 col7\" >Activity O</td>\n                        <td id=\"T_4bee361e_f0e9_11ea_82e2_f079596806ffrow0_col8\" class=\"data row0 col8\" >Activity P</td>\n                        <td id=\"T_4bee361e_f0e9_11ea_82e2_f079596806ffrow0_col9\" class=\"data row0 col9\" >Activity L</td>\n                        <td id=\"T_4bee361e_f0e9_11ea_82e2_f079596806ffrow0_col10\" class=\"data row0 col10\" >Activity F</td>\n                        <td id=\"T_4bee361e_f0e9_11ea_82e2_f079596806ffrow0_col11\" class=\"data row0 col11\" >■</td>\n            </tr>\n            <tr>\n                                <td id=\"T_4bee361e_f0e9_11ea_82e2_f079596806ffrow1_col0\" class=\"data row1 col0\" >▶</td>\n                        <td id=\"T_4bee361e_f0e9_11ea_82e2_f079596806ffrow1_col1\" class=\"data row1 col1\" >Activity B</td>\n                        <td id=\"T_4bee361e_f0e9_11ea_82e2_f079596806ffrow1_col2\" class=\"data row1 col2\" >Activity C</td>\n                        <td id=\"T_4bee361e_f0e9_11ea_82e2_f079596806ffrow1_col3\" class=\"data row1 col3\" >Activity D</td>\n                        <td id=\"T_4bee361e_f0e9_11ea_82e2_f079596806ffrow1_col4\" class=\"data row1 col4\" >Activity E</td>\n                        <td id=\"T_4bee361e_f0e9_11ea_82e2_f079596806ffrow1_col5\" class=\"data row1 col5\" >Activity K</td>\n                        <td id=\"T_4bee361e_f0e9_11ea_82e2_f079596806ffrow1_col6\" class=\"data row1 col6\" >»</td>\n                        <td id=\"T_4bee361e_f0e9_11ea_82e2_f079596806ffrow1_col7\" class=\"data row1 col7\" >Activity O</td>\n                        <td id=\"T_4bee361e_f0e9_11ea_82e2_f079596806ffrow1_col8\" class=\"data row1 col8\" >Activity P</td>\n                        <td id=\"T_4bee361e_f0e9_11ea_82e2_f079596806ffrow1_col9\" class=\"data row1 col9\" >Activity L</td>\n                        <td id=\"T_4bee361e_f0e9_11ea_82e2_f079596806ffrow1_col10\" class=\"data row1 col10\" >Activity F</td>\n                        <td id=\"T_4bee361e_f0e9_11ea_82e2_f079596806ffrow1_col11\" class=\"data row1 col11\" >■</td>\n            </tr>\n    </tbody></table>"
     },
     "metadata": {},
     "output_type": "display_data"
    },
    {
     "data": {
      "text/plain": "<pandas.io.formats.style.Styler at 0x22abb1784c0>",
      "text/html": "<style  type=\"text/css\" >\n</style><table id=\"T_4bef2067_f0e9_11ea_b60a_f079596806ff\" ><thead>    <tr>        <th class=\"col_heading level0 col0\" >0</th>        <th class=\"col_heading level0 col1\" >1</th>        <th class=\"col_heading level0 col2\" >2</th>        <th class=\"col_heading level0 col3\" >3</th>        <th class=\"col_heading level0 col4\" >4</th>        <th class=\"col_heading level0 col5\" >5</th>        <th class=\"col_heading level0 col6\" >6</th>        <th class=\"col_heading level0 col7\" >7</th>        <th class=\"col_heading level0 col8\" >8</th>        <th class=\"col_heading level0 col9\" >9</th>        <th class=\"col_heading level0 col10\" >10</th>    </tr></thead><tbody>\n                <tr>\n                                <td id=\"T_4bef2067_f0e9_11ea_b60a_f079596806ffrow0_col0\" class=\"data row0 col0\" >▶</td>\n                        <td id=\"T_4bef2067_f0e9_11ea_b60a_f079596806ffrow0_col1\" class=\"data row0 col1\" >Random activity 18</td>\n                        <td id=\"T_4bef2067_f0e9_11ea_b60a_f079596806ffrow0_col2\" class=\"data row0 col2\" >Activity A</td>\n                        <td id=\"T_4bef2067_f0e9_11ea_b60a_f079596806ffrow0_col3\" class=\"data row0 col3\" >Activity B</td>\n                        <td id=\"T_4bef2067_f0e9_11ea_b60a_f079596806ffrow0_col4\" class=\"data row0 col4\" >Activity C</td>\n                        <td id=\"T_4bef2067_f0e9_11ea_b60a_f079596806ffrow0_col5\" class=\"data row0 col5\" >Activity D</td>\n                        <td id=\"T_4bef2067_f0e9_11ea_b60a_f079596806ffrow0_col6\" class=\"data row0 col6\" >Random activity 11</td>\n                        <td id=\"T_4bef2067_f0e9_11ea_b60a_f079596806ffrow0_col7\" class=\"data row0 col7\" >Activity E</td>\n                        <td id=\"T_4bef2067_f0e9_11ea_b60a_f079596806ffrow0_col8\" class=\"data row0 col8\" >Activity T</td>\n                        <td id=\"T_4bef2067_f0e9_11ea_b60a_f079596806ffrow0_col9\" class=\"data row0 col9\" >Activity F</td>\n                        <td id=\"T_4bef2067_f0e9_11ea_b60a_f079596806ffrow0_col10\" class=\"data row0 col10\" >■</td>\n            </tr>\n            <tr>\n                                <td id=\"T_4bef2067_f0e9_11ea_b60a_f079596806ffrow1_col0\" class=\"data row1 col0\" >▶</td>\n                        <td id=\"T_4bef2067_f0e9_11ea_b60a_f079596806ffrow1_col1\" class=\"data row1 col1\" >»</td>\n                        <td id=\"T_4bef2067_f0e9_11ea_b60a_f079596806ffrow1_col2\" class=\"data row1 col2\" >Activity A</td>\n                        <td id=\"T_4bef2067_f0e9_11ea_b60a_f079596806ffrow1_col3\" class=\"data row1 col3\" >Activity B</td>\n                        <td id=\"T_4bef2067_f0e9_11ea_b60a_f079596806ffrow1_col4\" class=\"data row1 col4\" >Activity C</td>\n                        <td id=\"T_4bef2067_f0e9_11ea_b60a_f079596806ffrow1_col5\" class=\"data row1 col5\" >Activity D</td>\n                        <td id=\"T_4bef2067_f0e9_11ea_b60a_f079596806ffrow1_col6\" class=\"data row1 col6\" >»</td>\n                        <td id=\"T_4bef2067_f0e9_11ea_b60a_f079596806ffrow1_col7\" class=\"data row1 col7\" >Activity E</td>\n                        <td id=\"T_4bef2067_f0e9_11ea_b60a_f079596806ffrow1_col8\" class=\"data row1 col8\" >Activity T</td>\n                        <td id=\"T_4bef2067_f0e9_11ea_b60a_f079596806ffrow1_col9\" class=\"data row1 col9\" >Activity F</td>\n                        <td id=\"T_4bef2067_f0e9_11ea_b60a_f079596806ffrow1_col10\" class=\"data row1 col10\" >■</td>\n            </tr>\n    </tbody></table>"
     },
     "metadata": {},
     "output_type": "display_data"
    }
   ],
   "source": [
    "for anomaly_type in set(dataset.text_labels):\n",
    "    index = np.where(dataset.text_labels == anomaly_type)[0][0] # Select the first one\n",
    "    print(anomaly_type)\n",
    "    display_alignment(alignments[index][0], decode=decode)"
   ]
  },
  {
   "cell_type": "markdown",
   "metadata": {},
   "source": [
    "## Ground Truth Alignments"
   ]
  },
  {
   "cell_type": "markdown",
   "metadata": {},
   "source": [
    "We can obtain the ground truth alignments from the `dataset` with the following method."
   ]
  },
  {
   "cell_type": "code",
   "execution_count": 19,
   "metadata": {
    "pycharm": {
     "is_executing": false
    }
   },
   "outputs": [],
   "source": [
    "ground_truth_alignments, ground_truth_costs = dataset.alignments"
   ]
  },
  {
   "cell_type": "markdown",
   "metadata": {},
   "source": [
    "Let us check the ground truth for the example cases from above."
   ]
  },
  {
   "cell_type": "code",
   "execution_count": 20,
   "metadata": {
    "pycharm": {
     "is_executing": false
    }
   },
   "outputs": [
    {
     "name": "stdout",
     "text": [
      "Normal\n",
      "Rework\n",
      "Attribute\n",
      "SkipSequence\n",
      "Early\n",
      "Late\n",
      "Insert\n"
     ],
     "output_type": "stream"
    },
    {
     "data": {
      "text/plain": "<pandas.io.formats.style.Styler at 0x22abb1888b0>",
      "text/html": "<style  type=\"text/css\" >\n</style><table id=\"T_4bf62538_f0e9_11ea_9e11_f079596806ff\" ><thead>    <tr>        <th class=\"col_heading level0 col0\" >0</th>        <th class=\"col_heading level0 col1\" >1</th>        <th class=\"col_heading level0 col2\" >2</th>        <th class=\"col_heading level0 col3\" >3</th>        <th class=\"col_heading level0 col4\" >4</th>        <th class=\"col_heading level0 col5\" >5</th>        <th class=\"col_heading level0 col6\" >6</th>        <th class=\"col_heading level0 col7\" >7</th>        <th class=\"col_heading level0 col8\" >8</th>        <th class=\"col_heading level0 col9\" >9</th>        <th class=\"col_heading level0 col10\" >10</th>        <th class=\"col_heading level0 col11\" >11</th>    </tr></thead><tbody>\n                <tr>\n                                <td id=\"T_4bf62538_f0e9_11ea_9e11_f079596806ffrow0_col0\" class=\"data row0 col0\" >▶</td>\n                        <td id=\"T_4bf62538_f0e9_11ea_9e11_f079596806ffrow0_col1\" class=\"data row0 col1\" >Activity A</td>\n                        <td id=\"T_4bf62538_f0e9_11ea_9e11_f079596806ffrow0_col2\" class=\"data row0 col2\" >Activity B</td>\n                        <td id=\"T_4bf62538_f0e9_11ea_9e11_f079596806ffrow0_col3\" class=\"data row0 col3\" >Activity C</td>\n                        <td id=\"T_4bf62538_f0e9_11ea_9e11_f079596806ffrow0_col4\" class=\"data row0 col4\" >Activity D</td>\n                        <td id=\"T_4bf62538_f0e9_11ea_9e11_f079596806ffrow0_col5\" class=\"data row0 col5\" >Activity E</td>\n                        <td id=\"T_4bf62538_f0e9_11ea_9e11_f079596806ffrow0_col6\" class=\"data row0 col6\" >Activity G</td>\n                        <td id=\"T_4bf62538_f0e9_11ea_9e11_f079596806ffrow0_col7\" class=\"data row0 col7\" >Activity H</td>\n                        <td id=\"T_4bf62538_f0e9_11ea_9e11_f079596806ffrow0_col8\" class=\"data row0 col8\" >Activity I</td>\n                        <td id=\"T_4bf62538_f0e9_11ea_9e11_f079596806ffrow0_col9\" class=\"data row0 col9\" >Activity J</td>\n                        <td id=\"T_4bf62538_f0e9_11ea_9e11_f079596806ffrow0_col10\" class=\"data row0 col10\" >Activity F</td>\n                        <td id=\"T_4bf62538_f0e9_11ea_9e11_f079596806ffrow0_col11\" class=\"data row0 col11\" >■</td>\n            </tr>\n            <tr>\n                                <td id=\"T_4bf62538_f0e9_11ea_9e11_f079596806ffrow1_col0\" class=\"data row1 col0\" >▶</td>\n                        <td id=\"T_4bf62538_f0e9_11ea_9e11_f079596806ffrow1_col1\" class=\"data row1 col1\" >Activity A</td>\n                        <td id=\"T_4bf62538_f0e9_11ea_9e11_f079596806ffrow1_col2\" class=\"data row1 col2\" >Activity B</td>\n                        <td id=\"T_4bf62538_f0e9_11ea_9e11_f079596806ffrow1_col3\" class=\"data row1 col3\" >Activity C</td>\n                        <td id=\"T_4bf62538_f0e9_11ea_9e11_f079596806ffrow1_col4\" class=\"data row1 col4\" >Activity D</td>\n                        <td id=\"T_4bf62538_f0e9_11ea_9e11_f079596806ffrow1_col5\" class=\"data row1 col5\" >Activity E</td>\n                        <td id=\"T_4bf62538_f0e9_11ea_9e11_f079596806ffrow1_col6\" class=\"data row1 col6\" >Activity G</td>\n                        <td id=\"T_4bf62538_f0e9_11ea_9e11_f079596806ffrow1_col7\" class=\"data row1 col7\" >Activity H</td>\n                        <td id=\"T_4bf62538_f0e9_11ea_9e11_f079596806ffrow1_col8\" class=\"data row1 col8\" >Activity I</td>\n                        <td id=\"T_4bf62538_f0e9_11ea_9e11_f079596806ffrow1_col9\" class=\"data row1 col9\" >Activity J</td>\n                        <td id=\"T_4bf62538_f0e9_11ea_9e11_f079596806ffrow1_col10\" class=\"data row1 col10\" >Activity F</td>\n                        <td id=\"T_4bf62538_f0e9_11ea_9e11_f079596806ffrow1_col11\" class=\"data row1 col11\" >■</td>\n            </tr>\n    </tbody></table>"
     },
     "metadata": {},
     "output_type": "display_data"
    },
    {
     "data": {
      "text/plain": "<pandas.io.formats.style.Styler at 0x22abbe13c70>",
      "text/html": "<style  type=\"text/css\" >\n</style><table id=\"T_4bf736cc_f0e9_11ea_96f3_f079596806ff\" ><thead>    <tr>        <th class=\"col_heading level0 col0\" >0</th>        <th class=\"col_heading level0 col1\" >1</th>        <th class=\"col_heading level0 col2\" >2</th>        <th class=\"col_heading level0 col3\" >3</th>        <th class=\"col_heading level0 col4\" >4</th>        <th class=\"col_heading level0 col5\" >5</th>        <th class=\"col_heading level0 col6\" >6</th>        <th class=\"col_heading level0 col7\" >7</th>        <th class=\"col_heading level0 col8\" >8</th>        <th class=\"col_heading level0 col9\" >9</th>        <th class=\"col_heading level0 col10\" >10</th>        <th class=\"col_heading level0 col11\" >11</th>        <th class=\"col_heading level0 col12\" >12</th>        <th class=\"col_heading level0 col13\" >13</th>    </tr></thead><tbody>\n                <tr>\n                                <td id=\"T_4bf736cc_f0e9_11ea_96f3_f079596806ffrow0_col0\" class=\"data row0 col0\" >▶</td>\n                        <td id=\"T_4bf736cc_f0e9_11ea_96f3_f079596806ffrow0_col1\" class=\"data row0 col1\" >Activity A</td>\n                        <td id=\"T_4bf736cc_f0e9_11ea_96f3_f079596806ffrow0_col2\" class=\"data row0 col2\" >Activity B</td>\n                        <td id=\"T_4bf736cc_f0e9_11ea_96f3_f079596806ffrow0_col3\" class=\"data row0 col3\" >Activity C</td>\n                        <td id=\"T_4bf736cc_f0e9_11ea_96f3_f079596806ffrow0_col4\" class=\"data row0 col4\" >Activity D</td>\n                        <td id=\"T_4bf736cc_f0e9_11ea_96f3_f079596806ffrow0_col5\" class=\"data row0 col5\" >Activity B</td>\n                        <td id=\"T_4bf736cc_f0e9_11ea_96f3_f079596806ffrow0_col6\" class=\"data row0 col6\" >Activity C</td>\n                        <td id=\"T_4bf736cc_f0e9_11ea_96f3_f079596806ffrow0_col7\" class=\"data row0 col7\" >Activity E</td>\n                        <td id=\"T_4bf736cc_f0e9_11ea_96f3_f079596806ffrow0_col8\" class=\"data row0 col8\" >Activity K</td>\n                        <td id=\"T_4bf736cc_f0e9_11ea_96f3_f079596806ffrow0_col9\" class=\"data row0 col9\" >Activity R</td>\n                        <td id=\"T_4bf736cc_f0e9_11ea_96f3_f079596806ffrow0_col10\" class=\"data row0 col10\" >Activity S</td>\n                        <td id=\"T_4bf736cc_f0e9_11ea_96f3_f079596806ffrow0_col11\" class=\"data row0 col11\" >Activity L</td>\n                        <td id=\"T_4bf736cc_f0e9_11ea_96f3_f079596806ffrow0_col12\" class=\"data row0 col12\" >Activity F</td>\n                        <td id=\"T_4bf736cc_f0e9_11ea_96f3_f079596806ffrow0_col13\" class=\"data row0 col13\" >■</td>\n            </tr>\n            <tr>\n                                <td id=\"T_4bf736cc_f0e9_11ea_96f3_f079596806ffrow1_col0\" class=\"data row1 col0\" >▶</td>\n                        <td id=\"T_4bf736cc_f0e9_11ea_96f3_f079596806ffrow1_col1\" class=\"data row1 col1\" >Activity A</td>\n                        <td id=\"T_4bf736cc_f0e9_11ea_96f3_f079596806ffrow1_col2\" class=\"data row1 col2\" >Activity B</td>\n                        <td id=\"T_4bf736cc_f0e9_11ea_96f3_f079596806ffrow1_col3\" class=\"data row1 col3\" >Activity C</td>\n                        <td id=\"T_4bf736cc_f0e9_11ea_96f3_f079596806ffrow1_col4\" class=\"data row1 col4\" >Activity D</td>\n                        <td id=\"T_4bf736cc_f0e9_11ea_96f3_f079596806ffrow1_col5\" class=\"data row1 col5\" >»</td>\n                        <td id=\"T_4bf736cc_f0e9_11ea_96f3_f079596806ffrow1_col6\" class=\"data row1 col6\" >»</td>\n                        <td id=\"T_4bf736cc_f0e9_11ea_96f3_f079596806ffrow1_col7\" class=\"data row1 col7\" >Activity E</td>\n                        <td id=\"T_4bf736cc_f0e9_11ea_96f3_f079596806ffrow1_col8\" class=\"data row1 col8\" >Activity K</td>\n                        <td id=\"T_4bf736cc_f0e9_11ea_96f3_f079596806ffrow1_col9\" class=\"data row1 col9\" >Activity R</td>\n                        <td id=\"T_4bf736cc_f0e9_11ea_96f3_f079596806ffrow1_col10\" class=\"data row1 col10\" >Activity S</td>\n                        <td id=\"T_4bf736cc_f0e9_11ea_96f3_f079596806ffrow1_col11\" class=\"data row1 col11\" >Activity L</td>\n                        <td id=\"T_4bf736cc_f0e9_11ea_96f3_f079596806ffrow1_col12\" class=\"data row1 col12\" >Activity F</td>\n                        <td id=\"T_4bf736cc_f0e9_11ea_96f3_f079596806ffrow1_col13\" class=\"data row1 col13\" >■</td>\n            </tr>\n    </tbody></table>"
     },
     "metadata": {},
     "output_type": "display_data"
    },
    {
     "data": {
      "text/plain": "<pandas.io.formats.style.Styler at 0x22abb1786d0>",
      "text/html": "<style  type=\"text/css\" >\n</style><table id=\"T_4bf86f46_f0e9_11ea_89bb_f079596806ff\" ><thead>    <tr>        <th class=\"col_heading level0 col0\" >0</th>        <th class=\"col_heading level0 col1\" >1</th>        <th class=\"col_heading level0 col2\" >2</th>        <th class=\"col_heading level0 col3\" >3</th>        <th class=\"col_heading level0 col4\" >4</th>        <th class=\"col_heading level0 col5\" >5</th>        <th class=\"col_heading level0 col6\" >6</th>        <th class=\"col_heading level0 col7\" >7</th>        <th class=\"col_heading level0 col8\" >8</th>        <th class=\"col_heading level0 col9\" >9</th>        <th class=\"col_heading level0 col10\" >10</th>        <th class=\"col_heading level0 col11\" >11</th>    </tr></thead><tbody>\n                <tr>\n                                <td id=\"T_4bf86f46_f0e9_11ea_89bb_f079596806ffrow0_col0\" class=\"data row0 col0\" >▶</td>\n                        <td id=\"T_4bf86f46_f0e9_11ea_89bb_f079596806ffrow0_col1\" class=\"data row0 col1\" >Activity A</td>\n                        <td id=\"T_4bf86f46_f0e9_11ea_89bb_f079596806ffrow0_col2\" class=\"data row0 col2\" >Activity B</td>\n                        <td id=\"T_4bf86f46_f0e9_11ea_89bb_f079596806ffrow0_col3\" class=\"data row0 col3\" >Activity C</td>\n                        <td id=\"T_4bf86f46_f0e9_11ea_89bb_f079596806ffrow0_col4\" class=\"data row0 col4\" >Activity D</td>\n                        <td id=\"T_4bf86f46_f0e9_11ea_89bb_f079596806ffrow0_col5\" class=\"data row0 col5\" >Activity E</td>\n                        <td id=\"T_4bf86f46_f0e9_11ea_89bb_f079596806ffrow0_col6\" class=\"data row0 col6\" >Activity G</td>\n                        <td id=\"T_4bf86f46_f0e9_11ea_89bb_f079596806ffrow0_col7\" class=\"data row0 col7\" >Activity H</td>\n                        <td id=\"T_4bf86f46_f0e9_11ea_89bb_f079596806ffrow0_col8\" class=\"data row0 col8\" >Activity I</td>\n                        <td id=\"T_4bf86f46_f0e9_11ea_89bb_f079596806ffrow0_col9\" class=\"data row0 col9\" >Activity J</td>\n                        <td id=\"T_4bf86f46_f0e9_11ea_89bb_f079596806ffrow0_col10\" class=\"data row0 col10\" >Activity F</td>\n                        <td id=\"T_4bf86f46_f0e9_11ea_89bb_f079596806ffrow0_col11\" class=\"data row0 col11\" >■</td>\n            </tr>\n            <tr>\n                                <td id=\"T_4bf86f46_f0e9_11ea_89bb_f079596806ffrow1_col0\" class=\"data row1 col0\" >▶</td>\n                        <td id=\"T_4bf86f46_f0e9_11ea_89bb_f079596806ffrow1_col1\" class=\"data row1 col1\" >Activity A</td>\n                        <td id=\"T_4bf86f46_f0e9_11ea_89bb_f079596806ffrow1_col2\" class=\"data row1 col2\" >Activity B</td>\n                        <td id=\"T_4bf86f46_f0e9_11ea_89bb_f079596806ffrow1_col3\" class=\"data row1 col3\" >Activity C</td>\n                        <td id=\"T_4bf86f46_f0e9_11ea_89bb_f079596806ffrow1_col4\" class=\"data row1 col4\" >Activity D</td>\n                        <td id=\"T_4bf86f46_f0e9_11ea_89bb_f079596806ffrow1_col5\" class=\"data row1 col5\" >Activity E</td>\n                        <td id=\"T_4bf86f46_f0e9_11ea_89bb_f079596806ffrow1_col6\" class=\"data row1 col6\" >Activity G</td>\n                        <td id=\"T_4bf86f46_f0e9_11ea_89bb_f079596806ffrow1_col7\" class=\"data row1 col7\" >Activity H</td>\n                        <td id=\"T_4bf86f46_f0e9_11ea_89bb_f079596806ffrow1_col8\" class=\"data row1 col8\" >Activity I</td>\n                        <td id=\"T_4bf86f46_f0e9_11ea_89bb_f079596806ffrow1_col9\" class=\"data row1 col9\" >Activity J</td>\n                        <td id=\"T_4bf86f46_f0e9_11ea_89bb_f079596806ffrow1_col10\" class=\"data row1 col10\" >Activity F</td>\n                        <td id=\"T_4bf86f46_f0e9_11ea_89bb_f079596806ffrow1_col11\" class=\"data row1 col11\" >■</td>\n            </tr>\n    </tbody></table>"
     },
     "metadata": {},
     "output_type": "display_data"
    },
    {
     "data": {
      "text/plain": "<pandas.io.formats.style.Styler at 0x22abb178730>",
      "text/html": "<style  type=\"text/css\" >\n</style><table id=\"T_4bf9809e_f0e9_11ea_a35f_f079596806ff\" ><thead>    <tr>        <th class=\"col_heading level0 col0\" >0</th>        <th class=\"col_heading level0 col1\" >1</th>        <th class=\"col_heading level0 col2\" >2</th>        <th class=\"col_heading level0 col3\" >3</th>        <th class=\"col_heading level0 col4\" >4</th>        <th class=\"col_heading level0 col5\" >5</th>        <th class=\"col_heading level0 col6\" >6</th>        <th class=\"col_heading level0 col7\" >7</th>        <th class=\"col_heading level0 col8\" >8</th>    </tr></thead><tbody>\n                <tr>\n                                <td id=\"T_4bf9809e_f0e9_11ea_a35f_f079596806ffrow0_col0\" class=\"data row0 col0\" >▶</td>\n                        <td id=\"T_4bf9809e_f0e9_11ea_a35f_f079596806ffrow0_col1\" class=\"data row0 col1\" >Activity A</td>\n                        <td id=\"T_4bf9809e_f0e9_11ea_a35f_f079596806ffrow0_col2\" class=\"data row0 col2\" >Activity B</td>\n                        <td id=\"T_4bf9809e_f0e9_11ea_a35f_f079596806ffrow0_col3\" class=\"data row0 col3\" >Activity C</td>\n                        <td id=\"T_4bf9809e_f0e9_11ea_a35f_f079596806ffrow0_col4\" class=\"data row0 col4\" >»</td>\n                        <td id=\"T_4bf9809e_f0e9_11ea_a35f_f079596806ffrow0_col5\" class=\"data row0 col5\" >»</td>\n                        <td id=\"T_4bf9809e_f0e9_11ea_a35f_f079596806ffrow0_col6\" class=\"data row0 col6\" >Activity T</td>\n                        <td id=\"T_4bf9809e_f0e9_11ea_a35f_f079596806ffrow0_col7\" class=\"data row0 col7\" >Activity F</td>\n                        <td id=\"T_4bf9809e_f0e9_11ea_a35f_f079596806ffrow0_col8\" class=\"data row0 col8\" >■</td>\n            </tr>\n            <tr>\n                                <td id=\"T_4bf9809e_f0e9_11ea_a35f_f079596806ffrow1_col0\" class=\"data row1 col0\" >▶</td>\n                        <td id=\"T_4bf9809e_f0e9_11ea_a35f_f079596806ffrow1_col1\" class=\"data row1 col1\" >Activity A</td>\n                        <td id=\"T_4bf9809e_f0e9_11ea_a35f_f079596806ffrow1_col2\" class=\"data row1 col2\" >Activity B</td>\n                        <td id=\"T_4bf9809e_f0e9_11ea_a35f_f079596806ffrow1_col3\" class=\"data row1 col3\" >Activity C</td>\n                        <td id=\"T_4bf9809e_f0e9_11ea_a35f_f079596806ffrow1_col4\" class=\"data row1 col4\" >Activity D</td>\n                        <td id=\"T_4bf9809e_f0e9_11ea_a35f_f079596806ffrow1_col5\" class=\"data row1 col5\" >Activity E</td>\n                        <td id=\"T_4bf9809e_f0e9_11ea_a35f_f079596806ffrow1_col6\" class=\"data row1 col6\" >Activity T</td>\n                        <td id=\"T_4bf9809e_f0e9_11ea_a35f_f079596806ffrow1_col7\" class=\"data row1 col7\" >Activity F</td>\n                        <td id=\"T_4bf9809e_f0e9_11ea_a35f_f079596806ffrow1_col8\" class=\"data row1 col8\" >■</td>\n            </tr>\n    </tbody></table>"
     },
     "metadata": {},
     "output_type": "display_data"
    },
    {
     "data": {
      "text/plain": "<pandas.io.formats.style.Styler at 0x22abbe13ca0>",
      "text/html": "<style  type=\"text/css\" >\n</style><table id=\"T_4bfab921_f0e9_11ea_a0e5_f079596806ff\" ><thead>    <tr>        <th class=\"col_heading level0 col0\" >0</th>        <th class=\"col_heading level0 col1\" >1</th>        <th class=\"col_heading level0 col2\" >2</th>        <th class=\"col_heading level0 col3\" >3</th>        <th class=\"col_heading level0 col4\" >4</th>        <th class=\"col_heading level0 col5\" >5</th>        <th class=\"col_heading level0 col6\" >6</th>        <th class=\"col_heading level0 col7\" >7</th>        <th class=\"col_heading level0 col8\" >8</th>        <th class=\"col_heading level0 col9\" >9</th>        <th class=\"col_heading level0 col10\" >10</th>        <th class=\"col_heading level0 col11\" >11</th>        <th class=\"col_heading level0 col12\" >12</th>    </tr></thead><tbody>\n                <tr>\n                                <td id=\"T_4bfab921_f0e9_11ea_a0e5_f079596806ffrow0_col0\" class=\"data row0 col0\" >▶</td>\n                        <td id=\"T_4bfab921_f0e9_11ea_a0e5_f079596806ffrow0_col1\" class=\"data row0 col1\" >Activity A</td>\n                        <td id=\"T_4bfab921_f0e9_11ea_a0e5_f079596806ffrow0_col2\" class=\"data row0 col2\" >Activity B</td>\n                        <td id=\"T_4bfab921_f0e9_11ea_a0e5_f079596806ffrow0_col3\" class=\"data row0 col3\" >»</td>\n                        <td id=\"T_4bfab921_f0e9_11ea_a0e5_f079596806ffrow0_col4\" class=\"data row0 col4\" >Activity D</td>\n                        <td id=\"T_4bfab921_f0e9_11ea_a0e5_f079596806ffrow0_col5\" class=\"data row0 col5\" >Activity E</td>\n                        <td id=\"T_4bfab921_f0e9_11ea_a0e5_f079596806ffrow0_col6\" class=\"data row0 col6\" >Activity C</td>\n                        <td id=\"T_4bfab921_f0e9_11ea_a0e5_f079596806ffrow0_col7\" class=\"data row0 col7\" >Activity K</td>\n                        <td id=\"T_4bfab921_f0e9_11ea_a0e5_f079596806ffrow0_col8\" class=\"data row0 col8\" >Activity M</td>\n                        <td id=\"T_4bfab921_f0e9_11ea_a0e5_f079596806ffrow0_col9\" class=\"data row0 col9\" >Activity N</td>\n                        <td id=\"T_4bfab921_f0e9_11ea_a0e5_f079596806ffrow0_col10\" class=\"data row0 col10\" >Activity L</td>\n                        <td id=\"T_4bfab921_f0e9_11ea_a0e5_f079596806ffrow0_col11\" class=\"data row0 col11\" >Activity F</td>\n                        <td id=\"T_4bfab921_f0e9_11ea_a0e5_f079596806ffrow0_col12\" class=\"data row0 col12\" >■</td>\n            </tr>\n            <tr>\n                                <td id=\"T_4bfab921_f0e9_11ea_a0e5_f079596806ffrow1_col0\" class=\"data row1 col0\" >▶</td>\n                        <td id=\"T_4bfab921_f0e9_11ea_a0e5_f079596806ffrow1_col1\" class=\"data row1 col1\" >Activity A</td>\n                        <td id=\"T_4bfab921_f0e9_11ea_a0e5_f079596806ffrow1_col2\" class=\"data row1 col2\" >Activity B</td>\n                        <td id=\"T_4bfab921_f0e9_11ea_a0e5_f079596806ffrow1_col3\" class=\"data row1 col3\" >Activity C</td>\n                        <td id=\"T_4bfab921_f0e9_11ea_a0e5_f079596806ffrow1_col4\" class=\"data row1 col4\" >Activity D</td>\n                        <td id=\"T_4bfab921_f0e9_11ea_a0e5_f079596806ffrow1_col5\" class=\"data row1 col5\" >Activity E</td>\n                        <td id=\"T_4bfab921_f0e9_11ea_a0e5_f079596806ffrow1_col6\" class=\"data row1 col6\" >»</td>\n                        <td id=\"T_4bfab921_f0e9_11ea_a0e5_f079596806ffrow1_col7\" class=\"data row1 col7\" >Activity K</td>\n                        <td id=\"T_4bfab921_f0e9_11ea_a0e5_f079596806ffrow1_col8\" class=\"data row1 col8\" >Activity M</td>\n                        <td id=\"T_4bfab921_f0e9_11ea_a0e5_f079596806ffrow1_col9\" class=\"data row1 col9\" >Activity N</td>\n                        <td id=\"T_4bfab921_f0e9_11ea_a0e5_f079596806ffrow1_col10\" class=\"data row1 col10\" >Activity L</td>\n                        <td id=\"T_4bfab921_f0e9_11ea_a0e5_f079596806ffrow1_col11\" class=\"data row1 col11\" >Activity F</td>\n                        <td id=\"T_4bfab921_f0e9_11ea_a0e5_f079596806ffrow1_col12\" class=\"data row1 col12\" >■</td>\n            </tr>\n    </tbody></table>"
     },
     "metadata": {},
     "output_type": "display_data"
    },
    {
     "data": {
      "text/plain": "<pandas.io.formats.style.Styler at 0x22abb178160>",
      "text/html": "<style  type=\"text/css\" >\n</style><table id=\"T_4bfbf1a4_f0e9_11ea_af0d_f079596806ff\" ><thead>    <tr>        <th class=\"col_heading level0 col0\" >0</th>        <th class=\"col_heading level0 col1\" >1</th>        <th class=\"col_heading level0 col2\" >2</th>        <th class=\"col_heading level0 col3\" >3</th>        <th class=\"col_heading level0 col4\" >4</th>        <th class=\"col_heading level0 col5\" >5</th>        <th class=\"col_heading level0 col6\" >6</th>        <th class=\"col_heading level0 col7\" >7</th>        <th class=\"col_heading level0 col8\" >8</th>        <th class=\"col_heading level0 col9\" >9</th>        <th class=\"col_heading level0 col10\" >10</th>        <th class=\"col_heading level0 col11\" >11</th>        <th class=\"col_heading level0 col12\" >12</th>    </tr></thead><tbody>\n                <tr>\n                                <td id=\"T_4bfbf1a4_f0e9_11ea_af0d_f079596806ffrow0_col0\" class=\"data row0 col0\" >▶</td>\n                        <td id=\"T_4bfbf1a4_f0e9_11ea_af0d_f079596806ffrow0_col1\" class=\"data row0 col1\" >»</td>\n                        <td id=\"T_4bfbf1a4_f0e9_11ea_af0d_f079596806ffrow0_col2\" class=\"data row0 col2\" >Activity B</td>\n                        <td id=\"T_4bfbf1a4_f0e9_11ea_af0d_f079596806ffrow0_col3\" class=\"data row0 col3\" >Activity C</td>\n                        <td id=\"T_4bfbf1a4_f0e9_11ea_af0d_f079596806ffrow0_col4\" class=\"data row0 col4\" >Activity D</td>\n                        <td id=\"T_4bfbf1a4_f0e9_11ea_af0d_f079596806ffrow0_col5\" class=\"data row0 col5\" >Activity E</td>\n                        <td id=\"T_4bfbf1a4_f0e9_11ea_af0d_f079596806ffrow0_col6\" class=\"data row0 col6\" >Activity K</td>\n                        <td id=\"T_4bfbf1a4_f0e9_11ea_af0d_f079596806ffrow0_col7\" class=\"data row0 col7\" >Activity A</td>\n                        <td id=\"T_4bfbf1a4_f0e9_11ea_af0d_f079596806ffrow0_col8\" class=\"data row0 col8\" >Activity O</td>\n                        <td id=\"T_4bfbf1a4_f0e9_11ea_af0d_f079596806ffrow0_col9\" class=\"data row0 col9\" >Activity P</td>\n                        <td id=\"T_4bfbf1a4_f0e9_11ea_af0d_f079596806ffrow0_col10\" class=\"data row0 col10\" >Activity L</td>\n                        <td id=\"T_4bfbf1a4_f0e9_11ea_af0d_f079596806ffrow0_col11\" class=\"data row0 col11\" >Activity F</td>\n                        <td id=\"T_4bfbf1a4_f0e9_11ea_af0d_f079596806ffrow0_col12\" class=\"data row0 col12\" >■</td>\n            </tr>\n            <tr>\n                                <td id=\"T_4bfbf1a4_f0e9_11ea_af0d_f079596806ffrow1_col0\" class=\"data row1 col0\" >▶</td>\n                        <td id=\"T_4bfbf1a4_f0e9_11ea_af0d_f079596806ffrow1_col1\" class=\"data row1 col1\" >Activity A</td>\n                        <td id=\"T_4bfbf1a4_f0e9_11ea_af0d_f079596806ffrow1_col2\" class=\"data row1 col2\" >Activity B</td>\n                        <td id=\"T_4bfbf1a4_f0e9_11ea_af0d_f079596806ffrow1_col3\" class=\"data row1 col3\" >Activity C</td>\n                        <td id=\"T_4bfbf1a4_f0e9_11ea_af0d_f079596806ffrow1_col4\" class=\"data row1 col4\" >Activity D</td>\n                        <td id=\"T_4bfbf1a4_f0e9_11ea_af0d_f079596806ffrow1_col5\" class=\"data row1 col5\" >Activity E</td>\n                        <td id=\"T_4bfbf1a4_f0e9_11ea_af0d_f079596806ffrow1_col6\" class=\"data row1 col6\" >Activity K</td>\n                        <td id=\"T_4bfbf1a4_f0e9_11ea_af0d_f079596806ffrow1_col7\" class=\"data row1 col7\" >»</td>\n                        <td id=\"T_4bfbf1a4_f0e9_11ea_af0d_f079596806ffrow1_col8\" class=\"data row1 col8\" >Activity O</td>\n                        <td id=\"T_4bfbf1a4_f0e9_11ea_af0d_f079596806ffrow1_col9\" class=\"data row1 col9\" >Activity P</td>\n                        <td id=\"T_4bfbf1a4_f0e9_11ea_af0d_f079596806ffrow1_col10\" class=\"data row1 col10\" >Activity L</td>\n                        <td id=\"T_4bfbf1a4_f0e9_11ea_af0d_f079596806ffrow1_col11\" class=\"data row1 col11\" >Activity F</td>\n                        <td id=\"T_4bfbf1a4_f0e9_11ea_af0d_f079596806ffrow1_col12\" class=\"data row1 col12\" >■</td>\n            </tr>\n    </tbody></table>"
     },
     "metadata": {},
     "output_type": "display_data"
    },
    {
     "data": {
      "text/plain": "<pandas.io.formats.style.Styler at 0x22abb188220>",
      "text/html": "<style  type=\"text/css\" >\n</style><table id=\"T_4bfcdc04_f0e9_11ea_95c8_f079596806ff\" ><thead>    <tr>        <th class=\"col_heading level0 col0\" >0</th>        <th class=\"col_heading level0 col1\" >1</th>        <th class=\"col_heading level0 col2\" >2</th>        <th class=\"col_heading level0 col3\" >3</th>        <th class=\"col_heading level0 col4\" >4</th>        <th class=\"col_heading level0 col5\" >5</th>        <th class=\"col_heading level0 col6\" >6</th>        <th class=\"col_heading level0 col7\" >7</th>        <th class=\"col_heading level0 col8\" >8</th>        <th class=\"col_heading level0 col9\" >9</th>        <th class=\"col_heading level0 col10\" >10</th>    </tr></thead><tbody>\n                <tr>\n                                <td id=\"T_4bfcdc04_f0e9_11ea_95c8_f079596806ffrow0_col0\" class=\"data row0 col0\" >▶</td>\n                        <td id=\"T_4bfcdc04_f0e9_11ea_95c8_f079596806ffrow0_col1\" class=\"data row0 col1\" >Random activity 18</td>\n                        <td id=\"T_4bfcdc04_f0e9_11ea_95c8_f079596806ffrow0_col2\" class=\"data row0 col2\" >Activity A</td>\n                        <td id=\"T_4bfcdc04_f0e9_11ea_95c8_f079596806ffrow0_col3\" class=\"data row0 col3\" >Activity B</td>\n                        <td id=\"T_4bfcdc04_f0e9_11ea_95c8_f079596806ffrow0_col4\" class=\"data row0 col4\" >Activity C</td>\n                        <td id=\"T_4bfcdc04_f0e9_11ea_95c8_f079596806ffrow0_col5\" class=\"data row0 col5\" >Activity D</td>\n                        <td id=\"T_4bfcdc04_f0e9_11ea_95c8_f079596806ffrow0_col6\" class=\"data row0 col6\" >Random activity 11</td>\n                        <td id=\"T_4bfcdc04_f0e9_11ea_95c8_f079596806ffrow0_col7\" class=\"data row0 col7\" >Activity E</td>\n                        <td id=\"T_4bfcdc04_f0e9_11ea_95c8_f079596806ffrow0_col8\" class=\"data row0 col8\" >Activity T</td>\n                        <td id=\"T_4bfcdc04_f0e9_11ea_95c8_f079596806ffrow0_col9\" class=\"data row0 col9\" >Activity F</td>\n                        <td id=\"T_4bfcdc04_f0e9_11ea_95c8_f079596806ffrow0_col10\" class=\"data row0 col10\" >■</td>\n            </tr>\n            <tr>\n                                <td id=\"T_4bfcdc04_f0e9_11ea_95c8_f079596806ffrow1_col0\" class=\"data row1 col0\" >▶</td>\n                        <td id=\"T_4bfcdc04_f0e9_11ea_95c8_f079596806ffrow1_col1\" class=\"data row1 col1\" >»</td>\n                        <td id=\"T_4bfcdc04_f0e9_11ea_95c8_f079596806ffrow1_col2\" class=\"data row1 col2\" >Activity A</td>\n                        <td id=\"T_4bfcdc04_f0e9_11ea_95c8_f079596806ffrow1_col3\" class=\"data row1 col3\" >Activity B</td>\n                        <td id=\"T_4bfcdc04_f0e9_11ea_95c8_f079596806ffrow1_col4\" class=\"data row1 col4\" >Activity C</td>\n                        <td id=\"T_4bfcdc04_f0e9_11ea_95c8_f079596806ffrow1_col5\" class=\"data row1 col5\" >Activity D</td>\n                        <td id=\"T_4bfcdc04_f0e9_11ea_95c8_f079596806ffrow1_col6\" class=\"data row1 col6\" >»</td>\n                        <td id=\"T_4bfcdc04_f0e9_11ea_95c8_f079596806ffrow1_col7\" class=\"data row1 col7\" >Activity E</td>\n                        <td id=\"T_4bfcdc04_f0e9_11ea_95c8_f079596806ffrow1_col8\" class=\"data row1 col8\" >Activity T</td>\n                        <td id=\"T_4bfcdc04_f0e9_11ea_95c8_f079596806ffrow1_col9\" class=\"data row1 col9\" >Activity F</td>\n                        <td id=\"T_4bfcdc04_f0e9_11ea_95c8_f079596806ffrow1_col10\" class=\"data row1 col10\" >■</td>\n            </tr>\n    </tbody></table>"
     },
     "metadata": {},
     "output_type": "display_data"
    }
   ],
   "source": [
    "for anomaly_type in set(dataset.text_labels):\n",
    "    index = np.where(dataset.text_labels == anomaly_type)[0][0] # Select the first one\n",
    "    print(anomaly_type)\n",
    "    display_alignment(ground_truth_alignments[index], decode=decode)"
   ]
  },
  {
   "cell_type": "markdown",
   "metadata": {},
   "source": [
    "By comparing the ground truth to the alignments from the algorithms, we can evaluate the accuracy. This will be shown in the next notebook."
   ]
  },
  {
   "cell_type": "markdown",
   "metadata": {},
   "source": [
    "## Alignments from Nothing with ConfNet (Examples from Sec. 5)"
   ]
  },
  {
   "cell_type": "markdown",
   "metadata": {},
   "source": [
    "As described in the paper, we can also compute alignments from an empty case using the DeepAlign algorithm. To demonstrate this let us load a ConfNet that uses only the case attributes."
   ]
  },
  {
   "cell_type": "code",
   "execution_count": 21,
   "metadata": {
    "pycharm": {
     "is_executing": false
    }
   },
   "outputs": [
    {
     "name": "stdout",
     "text": [
      "small-0.3-1_confnet01\n"
     ],
     "output_type": "stream"
    },
    {
     "traceback": [
      "\u001b[1;31m---------------------------------------------------------------------------\u001b[0m",
      "\u001b[1;31mIndexError\u001b[0m                                Traceback (most recent call last)",
      "\u001b[1;32m<ipython-input-21-a88bd61199fd>\u001b[0m in \u001b[0;36m<module>\u001b[1;34m\u001b[0m\n\u001b[1;32m----> 1\u001b[1;33m \u001b[0mconfnet\u001b[0m\u001b[1;33m,\u001b[0m \u001b[0mdataset\u001b[0m \u001b[1;33m=\u001b[0m \u001b[0mget_model\u001b[0m\u001b[1;33m(\u001b[0m\u001b[1;34m'confnet'\u001b[0m\u001b[1;33m,\u001b[0m \u001b[0mdataset_name\u001b[0m\u001b[1;33m,\u001b[0m \u001b[1;32mTrue\u001b[0m\u001b[1;33m,\u001b[0m \u001b[1;32mFalse\u001b[0m\u001b[1;33m)\u001b[0m\u001b[1;33m\u001b[0m\u001b[1;33m\u001b[0m\u001b[0m\n\u001b[0m\u001b[0;32m      2\u001b[0m \u001b[1;33m\u001b[0m\u001b[0m\n",
      "\u001b[1;32m<ipython-input-3-3d171b1faa50>\u001b[0m in \u001b[0;36mget_model\u001b[1;34m(aligner, dataset_name, case_attributes, event_attributes)\u001b[0m\n\u001b[0;32m     19\u001b[0m     \u001b[1;32melse\u001b[0m\u001b[1;33m:\u001b[0m\u001b[1;33m\u001b[0m\u001b[1;33m\u001b[0m\u001b[0m\n\u001b[0;32m     20\u001b[0m         \u001b[0maligner\u001b[0m \u001b[1;33m=\u001b[0m \u001b[0mALIGNERS\u001b[0m\u001b[1;33m[\u001b[0m\u001b[0maligner\u001b[0m\u001b[1;33m]\u001b[0m\u001b[1;33m(\u001b[0m\u001b[1;33m)\u001b[0m\u001b[1;33m\u001b[0m\u001b[1;33m\u001b[0m\u001b[0m\n\u001b[1;32m---> 21\u001b[1;33m     \u001b[0maligner\u001b[0m\u001b[1;33m.\u001b[0m\u001b[0mload\u001b[0m\u001b[1;33m(\u001b[0m\u001b[0mstr\u001b[0m\u001b[1;33m(\u001b[0m\u001b[0mfs\u001b[0m\u001b[1;33m.\u001b[0m\u001b[0mMODEL_DIR\u001b[0m \u001b[1;33m/\u001b[0m \u001b[0mmodels\u001b[0m\u001b[1;33m[\u001b[0m\u001b[1;36m0\u001b[0m\u001b[1;33m]\u001b[0m\u001b[1;33m)\u001b[0m\u001b[1;33m)\u001b[0m\u001b[1;33m\u001b[0m\u001b[1;33m\u001b[0m\u001b[0m\n\u001b[0m\u001b[0;32m     22\u001b[0m \u001b[1;33m\u001b[0m\u001b[0m\n\u001b[0;32m     23\u001b[0m     \u001b[1;32mreturn\u001b[0m \u001b[0maligner\u001b[0m\u001b[1;33m,\u001b[0m \u001b[0mdataset\u001b[0m\u001b[1;33m\u001b[0m\u001b[1;33m\u001b[0m\u001b[0m\n",
      "\u001b[1;31mIndexError\u001b[0m: list index out of range"
     ],
     "ename": "IndexError",
     "evalue": "list index out of range",
     "output_type": "error"
    }
   ],
   "source": [
    "confnet, dataset = get_model('confnet', dataset_name, True, False)"
   ]
  },
  {
   "cell_type": "markdown",
   "metadata": {},
   "source": [
    "In the dataset, we have two case attributes, `decision` and `topic`, based on which the resulting sequence will differ."
   ]
  },
  {
   "cell_type": "code",
   "execution_count": null,
   "metadata": {
    "pycharm": {
     "is_executing": false
    }
   },
   "outputs": [],
   "source": [
    "dataset.attribute_keys"
   ]
  },
  {
   "cell_type": "code",
   "execution_count": null,
   "metadata": {
    "pycharm": {
     "is_executing": false
    }
   },
   "outputs": [],
   "source": [
    "print(dataset.encoders['[Case]_decision'].classes_.tolist())\n",
    "print(dataset.encoders['[Case]_topic'].classes_.tolist())"
   ]
  },
  {
   "cell_type": "markdown",
   "metadata": {},
   "source": [
    "Let us create an emtpy case sequence using the start and end symbols and the encode functionality `transform` of the `dataset.encoders`. "
   ]
  },
  {
   "cell_type": "code",
   "execution_count": null,
   "metadata": {
    "pycharm": {
     "is_executing": false
    }
   },
   "outputs": [],
   "source": [
    "def get_empty_case(decision, topic):\n",
    "    return [\n",
    "        dataset.encoders['name'].transform(['▶', '■'])[None, :],  # We have to add one dimension here\n",
    "        dataset.encoders['[Case]_decision'].transform([decision]),\n",
    "        dataset.encoders['[Case]_topic'].transform([topic]),\n",
    "    ]"
   ]
  },
  {
   "cell_type": "markdown",
   "metadata": {},
   "source": [
    "Now, we can use this method to create empty sequences, while setting the case attributes as we wish."
   ]
  },
  {
   "cell_type": "code",
   "execution_count": null,
   "metadata": {
    "pycharm": {
     "is_executing": false
    }
   },
   "outputs": [],
   "source": [
    "empty_case = get_empty_case('Accept', 'Engineering')\n",
    "empty_case"
   ]
  },
  {
   "cell_type": "markdown",
   "metadata": {},
   "source": [
    "Let us see what the DeepAlign algorithm does. We have to run it for some more steps to create enough events for a complete sequence."
   ]
  },
  {
   "cell_type": "code",
   "execution_count": null,
   "metadata": {
    "pycharm": {
     "is_executing": false
    }
   },
   "outputs": [],
   "source": [
    "alignments, corrected_cases, costs = confnet.align(empty_case, k=5, steps=50)"
   ]
  },
  {
   "cell_type": "code",
   "execution_count": null,
   "metadata": {
    "pycharm": {
     "is_executing": false
    }
   },
   "outputs": [],
   "source": [
    "display_alignment(alignments[0][0], decode=decode)"
   ]
  },
  {
   "cell_type": "markdown",
   "metadata": {},
   "source": [
    "Interestingly, DeepAlign creates the correct case given the two case attributes. *Minor Revision* only occurs for `decision == 'Accept'` and `decision == 'Weak accept'`. Similarly, *Develop Method* is related to `topic == 'Engineering'`.\n",
    "\n",
    "Let us see what happens if we change this around."
   ]
  },
  {
   "cell_type": "code",
   "execution_count": null,
   "metadata": {
    "pycharm": {
     "is_executing": false
    }
   },
   "outputs": [],
   "source": [
    "empty_case = get_empty_case('Accept', 'Theory')"
   ]
  },
  {
   "cell_type": "code",
   "execution_count": null,
   "metadata": {
    "pycharm": {
     "is_executing": false
    }
   },
   "outputs": [],
   "source": [
    "alignments, corrected_cases, costs = confnet.align(empty_case, k=5, steps=50)"
   ]
  },
  {
   "cell_type": "code",
   "execution_count": null,
   "metadata": {
    "pycharm": {
     "is_executing": false
    }
   },
   "outputs": [],
   "source": [
    "display_alignment(alignments[0][0], decode=decode)"
   ]
  },
  {
   "cell_type": "markdown",
   "metadata": {},
   "source": [
    "Now, it correctly generates the *Develop Hypothesis* activity."
   ]
  },
  {
   "cell_type": "markdown",
   "metadata": {},
   "source": [
    "What happens, if we change the `decision` to something else? Let us find out."
   ]
  },
  {
   "cell_type": "code",
   "execution_count": null,
   "metadata": {
    "pycharm": {
     "is_executing": false
    }
   },
   "outputs": [],
   "source": [
    "empty_case = get_empty_case('Weak reject', 'Theory')"
   ]
  },
  {
   "cell_type": "code",
   "execution_count": null,
   "metadata": {
    "pycharm": {
     "is_executing": false
    }
   },
   "outputs": [],
   "source": [
    "alignments, corrected_cases, costs = confnet.align(empty_case, k=5, steps=50)"
   ]
  },
  {
   "cell_type": "code",
   "execution_count": null,
   "metadata": {
    "pycharm": {
     "is_executing": false
    }
   },
   "outputs": [],
   "source": [
    "display_alignment(alignments[0][0], decode=decode)"
   ]
  },
  {
   "cell_type": "markdown",
   "metadata": {},
   "source": [
    "The *Minor Revision* is gone."
   ]
  }
 ],
 "metadata": {
  "kernelspec": {
   "display_name": "Python 3",
   "language": "python",
   "name": "python3"
  },
  "language_info": {
   "codemirror_mode": {
    "name": "ipython",
    "version": 3
   },
   "file_extension": ".py",
   "mimetype": "text/x-python",
   "name": "python",
   "nbconvert_exporter": "python",
   "pygments_lexer": "ipython3",
   "version": "3.6.9"
  },
  "pycharm": {
   "stem_cell": {
    "cell_type": "raw",
    "source": [],
    "metadata": {
     "collapsed": false
    }
   }
  }
 },
 "nbformat": 4,
 "nbformat_minor": 4
}