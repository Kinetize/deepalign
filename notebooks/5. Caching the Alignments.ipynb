{
 "cells": [
  {
   "cell_type": "code",
   "execution_count": 1,
   "metadata": {
    "pycharm": {
     "is_executing": false
    }
   },
   "outputs": [],
   "source": [
    "import os\n",
    "os.environ[\"TF_FORCE_GPU_ALLOW_GROWTH \"] = \"true\"\n",
    "\n",
    "import h5py\n",
    "from tqdm.notebook import tqdm\n",
    "\n",
    "from deepalign import Dataset\n",
    "from deepalign import fs\n",
    "from deepalign.alignments import ALIGNERS\n",
    "from deepalign.alignments.confnet import ConfNet"
   ]
  },
  {
   "cell_type": "markdown",
   "metadata": {},
   "source": [
    "To speed up the evaluation, we are caching all results. You will have received these cache files with the download of the GitHub release. In case you want to run your own experiments, this is the code."
   ]
  },
  {
   "cell_type": "code",
   "execution_count": 2,
   "metadata": {
    "pycharm": {
     "is_executing": false
    }
   },
   "outputs": [],
   "source": [
    "def get_aligner(model_file, dataset):\n",
    "    if 'confnet' in model_file.ad:\n",
    "        aligner = ALIGNERS[model_file.ad[:-2]](dataset,\n",
    "                                               use_case_attributes=model_file.use_case_attributes,\n",
    "                                               use_event_attributes=model_file.use_event_attributes,\n",
    "                                               align=True)\n",
    "        aligner.load(str(fs.MODEL_DIR / model_file.name), dataset)\n",
    "    else:\n",
    "        aligner = ALIGNERS[model_file.ad]()\n",
    "        aligner.load(str(fs.MODEL_DIR / model_file.name))\n",
    "    \n",
    "    return aligner"
   ]
  },
  {
   "cell_type": "code",
   "execution_count": 3,
   "metadata": {
    "scrolled": false,
    "pycharm": {
     "is_executing": false
    }
   },
   "outputs": [
    {
     "data": {
      "text/plain": "HBox(children=(FloatProgress(value=0.0, max=30.0), HTML(value='')))",
      "application/vnd.jupyter.widget-view+json": {
       "version_major": 2,
       "version_minor": 0,
       "model_id": "7566a002ef9e453c8f91c26bf2d2133c"
      }
     },
     "metadata": {},
     "output_type": "display_data"
    },
    {
     "name": "stdout",
     "text": [
      "Step 1 → 1.389997959136963s (25000, 27) finished=3327\n",
      "Step 2 ← 1.5860018730163574s (25000, 27) finished=3327\n",
      "Step 3 → 1.537001132965088s (25000, 27) finished=3704\n",
      "Step 4 ← 1.1989994049072266s (25000, 27) finished=4433\n",
      "Step 5 → 0.5530028343200684s (25000, 27) finished=4859\n",
      "Step 6 ← 0.17499423027038574s (25000, 27) finished=4940\n",
      "Step 7 → 0.08500385284423828s (25000, 27) finished=4986\n",
      "Step 8 ← 0.044996023178100586s (25000, 27) finished=4989\n",
      "Step 9 → 0.041002750396728516s (25000, 27) finished=4999\n",
      "Step 10 ← 0.03700065612792969s (25000, 27) finished=5000\n",
      "Step 1 → 2.1740033626556396s (25000, 27) finished=3650\n",
      "Step 2 ← 1.8119983673095703s (25000, 27) finished=3650\n",
      "Step 3 → 1.7429990768432617s (25000, 27) finished=3789\n",
      "Step 4 ← 1.5459997653961182s (25000, 27) finished=4298\n",
      "Step 5 → 0.9430015087127686s (25000, 27) finished=4703\n",
      "Step 6 ← 0.3959999084472656s (25000, 27) finished=4756\n",
      "Step 7 → 0.35599851608276367s (25000, 27) finished=4789\n",
      "Step 8 ← 0.32599902153015137s (25000, 27) finished=4799\n",
      "Step 9 → 0.29400134086608887s (25000, 27) finished=4811\n",
      "Step 10 ← 0.26800036430358887s (25000, 27) finished=4814\n",
      "Step 1 → 1.0370047092437744s (25000, 24) finished=3208\n",
      "Step 2 ← 1.0709969997406006s (25000, 24) finished=3208\n",
      "Step 3 → 0.9630036354064941s (25000, 24) finished=3902\n",
      "Step 4 ← 0.6199982166290283s (25000, 24) finished=4588\n",
      "Step 5 → 0.23399901390075684s (25000, 24) finished=4851\n",
      "Step 6 ← 0.11199808120727539s (25000, 24) finished=4919\n",
      "Step 7 → 0.07199954986572266s (25000, 24) finished=4922\n",
      "Step 8 ← 0.07400202751159668s (25000, 24) finished=5000\n",
      "Converged\n",
      "Step 1 → 1.6739988327026367s (25000, 24) finished=3688\n",
      "Step 2 ← 1.1989986896514893s (25000, 24) finished=3688\n",
      "Step 3 → 1.152001142501831s (25000, 24) finished=3853\n",
      "Step 4 ← 1.010000228881836s (25000, 24) finished=4444\n",
      "Step 5 → 0.49199986457824707s (25000, 24) finished=4752\n",
      "Step 6 ← 0.2650032043457031s (25000, 24) finished=4801\n",
      "Step 7 → 0.19299650192260742s (25000, 24) finished=4810\n",
      "Step 8 ← 0.2350013256072998s (25000, 24) finished=4817\n",
      "Step 9 → 0.18400049209594727s (25000, 24) finished=4819\n",
      "Step 10 ← 0.22300148010253906s (25000, 24) finished=4825\n",
      "Step 1 → 0.8250031471252441s (25000, 27) finished=3787\n",
      "Step 2 ← 0.5320155620574951s (25000, 27) finished=3787\n",
      "Step 3 → 0.474010705947876s (25000, 27) finished=4087\n",
      "Step 4 ← 0.36303257942199707s (25000, 27) finished=4726\n",
      "Step 5 → 0.12399864196777344s (25000, 27) finished=4961\n",
      "Step 6 ← 0.07800102233886719s (25000, 27) finished=4998\n",
      "Step 7 → 0.04100155830383301s (25000, 27) finished=5000\n",
      "Converged\n",
      "Step 1 → 1.6254050731658936s (25000, 27) finished=3770\n",
      "Step 2 ← 0.9669997692108154s (25000, 27) finished=3770\n",
      "Step 3 → 0.9420011043548584s (25000, 27) finished=3867\n",
      "Step 4 ← 0.8540003299713135s (25000, 27) finished=4364\n",
      "Step 5 → 0.48399901390075684s (25000, 27) finished=4844\n",
      "Step 6 ← 0.16000103950500488s (25000, 27) finished=4886\n",
      "Step 7 → 0.11300134658813477s (25000, 27) finished=4900\n",
      "Step 8 ← 0.09799790382385254s (25000, 27) finished=4903\n",
      "Step 9 → 0.09800195693969727s (25000, 27) finished=4906\n",
      "Step 10 ← 0.1419980525970459s (25000, 27) finished=4907\n",
      "Step 1 → 0.879002571105957s (25000, 28) finished=3769\n",
      "Step 2 ← 0.570026159286499s (25000, 28) finished=3769\n",
      "Step 3 → 0.49794840812683105s (25000, 28) finished=4079\n",
      "Step 4 ← 0.3730204105377197s (25000, 28) finished=4621\n",
      "Step 5 → 0.17600774765014648s (25000, 28) finished=4925\n",
      "Step 6 ← 0.09299707412719727s (25000, 28) finished=4997\n",
      "Step 7 → 0.037999629974365234s (25000, 28) finished=5000\n",
      "Converged\n",
      "Step 1 → 1.427250623703003s (25000, 28) finished=2807\n",
      "Step 2 ← 1.376082181930542s (25000, 28) finished=2807\n",
      "Step 3 → 1.285008192062378s (25000, 28) finished=3128\n",
      "Step 4 ← 1.0640099048614502s (25000, 28) finished=4573\n",
      "Step 5 → 0.272003173828125s (25000, 28) finished=4904\n",
      "Step 6 ← 0.0829780101776123s (25000, 28) finished=4974\n",
      "Step 7 → 0.05199933052062988s (25000, 28) finished=4987\n",
      "Step 8 ← 0.04600191116333008s (25000, 28) finished=4989\n",
      "Step 9 → 0.07100534439086914s (25000, 28) finished=4989\n",
      "Step 10 ← 0.06299877166748047s (25000, 28) finished=5000\n",
      "Step 1 → 0.8839976787567139s (25000, 26) finished=3671\n",
      "Step 2 ← 0.6980025768280029s (25000, 26) finished=3671\n",
      "Step 3 → 0.6439979076385498s (25000, 26) finished=3797\n",
      "Step 4 ← 0.5310041904449463s (25000, 26) finished=4251\n",
      "Step 5 → 0.35599565505981445s (25000, 26) finished=4918\n",
      "Step 6 ← 0.06500005722045898s (25000, 26) finished=4981\n",
      "Step 7 → 0.04000067710876465s (25000, 26) finished=4998\n",
      "Step 8 ← 0.03999900817871094s (25000, 26) finished=5000\n",
      "Converged\n",
      "Step 1 → 1.6669986248016357s (25000, 26) finished=3445\n",
      "Step 2 ← 1.3199982643127441s (25000, 26) finished=3445\n",
      "Step 3 → 1.2700014114379883s (25000, 26) finished=3702\n",
      "Step 4 ← 1.0629985332489014s (25000, 26) finished=4082\n",
      "Step 5 → 0.7720000743865967s (25000, 26) finished=4601\n",
      "Step 6 ← 0.3379998207092285s (25000, 26) finished=4667\n",
      "Step 7 → 0.328998327255249s (25000, 26) finished=4696\n",
      "Step 8 ← 0.3040015697479248s (25000, 26) finished=4703\n",
      "Step 9 → 0.2639963626861572s (25000, 26) finished=4704\n",
      "Step 10 ← 0.2630043029785156s (25000, 26) finished=4705\n",
      "Step 1 → 0.9989938735961914s (25000, 23) finished=3498\n",
      "Step 2 ← 0.8299975395202637s (25000, 23) finished=3498\n",
      "Step 3 → 0.7700014114379883s (25000, 23) finished=3838\n",
      "Step 4 ← 0.6150012016296387s (25000, 23) finished=4423\n",
      "Step 5 → 0.3059976100921631s (25000, 23) finished=4842\n",
      "Step 6 ← 0.10000014305114746s (25000, 23) finished=4925\n",
      "Step 7 → 0.0650186538696289s (25000, 23) finished=4955\n",
      "Step 8 ← 0.07599496841430664s (25000, 23) finished=4955\n",
      "Step 9 → 0.06299686431884766s (25000, 23) finished=4999\n",
      "Step 10 ← 0.03500008583068848s (25000, 23) finished=4999\n",
      "Step 1 → 1.6009972095489502s (25000, 23) finished=3645\n",
      "Step 2 ← 1.1879992485046387s (25000, 23) finished=3645\n",
      "Step 3 → 1.1380016803741455s (25000, 23) finished=3794\n",
      "Step 4 ← 0.9829998016357422s (25000, 23) finished=4240\n",
      "Step 5 → 0.6329982280731201s (25000, 23) finished=4697\n",
      "Step 6 ← 0.28000426292419434s (25000, 23) finished=4805\n",
      "Step 7 → 0.17699813842773438s (25000, 23) finished=4831\n",
      "Step 8 ← 0.19399809837341309s (25000, 23) finished=4837\n",
      "Step 9 → 0.14899945259094238s (25000, 23) finished=4837\n",
      "Step 10 ← 0.16599678993225098s (25000, 23) finished=4975\n",
      "\n"
     ],
     "output_type": "stream"
    },
    {
     "name": "stderr",
     "text": [
      "Y:\\Repos_Uni\\deepalign-master\\deepalign\\processmining\\log.py:58: VisibleDeprecationWarning: Creating an ndarray from ragged nested sequences (which is a list-or-tuple of lists-or-tuples-or ndarrays with different lengths or shapes) is deprecated. If you meant to do this, you must specify 'dtype=object' when creating the ndarray\n",
      "  return np.array(self.cases)[indices]\n",
      "100%|██████████| 834/834 [00:15<00:00, 54.80it/s] \n",
      "100%|██████████| 834/834 [00:24<00:00, 34.49it/s] \n",
      "huge-0.3-1: 100%|██████████| 834/834 [00:09<00:00, 87.69it/s]\n",
      "100%|██████████| 687/687 [00:12<00:00, 55.65it/s] \n",
      "100%|██████████| 687/687 [00:11<00:00, 60.86it/s] \n",
      "medium-0.3-1: 100%|██████████| 687/687 [00:08<00:00, 78.41it/s]\n",
      "100%|██████████| 591/591 [00:09<00:00, 62.24it/s]\n",
      "100%|██████████| 591/591 [00:08<00:00, 67.22it/s]\n",
      "p2p-0.3-1: 100%|██████████| 591/591 [00:09<00:00, 65.28it/s]\n",
      "100%|██████████| 651/651 [00:10<00:00, 65.06it/s]\n",
      "100%|██████████| 651/651 [00:10<00:00, 60.74it/s]\n",
      "paper-0.3-1: 100%|██████████| 651/651 [00:09<00:00, 66.35it/s]\n",
      "100%|██████████| 659/659 [00:09<00:00, 66.92it/s]\n",
      "100%|██████████| 659/659 [00:12<00:00, 53.48it/s] \n",
      "small-0.3-1: 100%|██████████| 659/659 [00:09<00:00, 71.84it/s]\n",
      "100%|██████████| 571/571 [00:09<00:00, 58.37it/s]\n",
      "100%|██████████| 571/571 [00:09<00:00, 58.97it/s]\n",
      "wide-0.3-1: 100%|██████████| 571/571 [00:08<00:00, 66.41it/s]\n"
     ],
     "output_type": "stream"
    }
   ],
   "source": [
    "synthetic = ['paper', 'p2p', 'small', 'medium', 'huge', 'wide']\n",
    "\n",
    "models = sorted(list(set([f.name.replace('_forward', '').replace('_backward', '')\n",
    "                          for f in fs.get_aligner_files()])))\n",
    "\n",
    "models = [m for m in models if not (fs.RESULT_DIR / (fs.ModelFile(m).name + '.h5')).exists()]\n",
    "\n",
    "for model in tqdm(models):\n",
    "    model_file = fs.AlignerFile(model)\n",
    "    dataset = Dataset(model_file.event_log_name,\n",
    "                      use_case_attributes=model_file.use_case_attributes,\n",
    "                      use_event_attributes=model_file.use_event_attributes)\n",
    "    aligner = get_aligner(model_file, dataset)\n",
    "\n",
    "    if isinstance(aligner, ConfNet):\n",
    "        alignments, beams, costs = aligner.batch_align(dataset, batch_size=5000)\n",
    "    else:\n",
    "        try:\n",
    "            alignments, beams, costs = aligner.align(dataset)\n",
    "        except Exception as e:\n",
    "            print(e)\n",
    "            continue\n",
    "\n",
    "    with h5py.File(str(fs.RESULT_DIR / (model_file.name + '.h5')), 'w') as file:\n",
    "        file.create_dataset('alignments', data=alignments, compression=\"gzip\", compression_opts=9)\n",
    "        file.create_dataset('beams', data=beams, compression=\"gzip\", compression_opts=9)\n",
    "        file.create_dataset('costs', data=costs, compression=\"gzip\", compression_opts=9)"
   ]
  }
 ],
 "metadata": {
  "kernelspec": {
   "display_name": "Python 3",
   "language": "python",
   "name": "python3"
  },
  "language_info": {
   "codemirror_mode": {
    "name": "ipython",
    "version": 3
   },
   "file_extension": ".py",
   "mimetype": "text/x-python",
   "name": "python",
   "nbconvert_exporter": "python",
   "pygments_lexer": "ipython3",
   "version": "3.6.10"
  },
  "pycharm": {
   "stem_cell": {
    "cell_type": "raw",
    "source": [],
    "metadata": {
     "collapsed": false
    }
   }
  }
 },
 "nbformat": 4,
 "nbformat_minor": 2
}