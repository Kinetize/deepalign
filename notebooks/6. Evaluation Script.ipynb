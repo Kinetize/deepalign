{
 "cells": [
  {
   "cell_type": "markdown",
   "metadata": {},
   "source": [
    "You will also have received the `evaluation.xlsx` file as part of the download. This is the code to create your own evaluation."
   ]
  },
  {
   "cell_type": "code",
   "execution_count": 1,
   "metadata": {
    "pycharm": {
     "is_executing": false
    }
   },
   "outputs": [],
   "source": [
    "import editdistance\n",
    "import h5py\n",
    "import numpy as np\n",
    "import pandas as pd\n",
    "from tqdm import tqdm\n",
    "\n",
    "from deepalign import Dataset\n",
    "from deepalign import fs\n",
    "from deepalign.utils import gather"
   ]
  },
  {
   "cell_type": "code",
   "execution_count": 2,
   "metadata": {
    "pycharm": {
     "is_executing": false
    }
   },
   "outputs": [],
   "source": [
    "def get_alignmnets(file):\n",
    "    with h5py.File(file.result_file, 'r') as file:\n",
    "        alignments = np.array(file['alignments'])\n",
    "        x = np.array(file['beams'])\n",
    "        costs = np.array(file['costs'])\n",
    "    return alignments, x, costs"
   ]
  },
  {
   "cell_type": "markdown",
   "metadata": {},
   "source": [
    "We evaluate for each case if any of the `k` beams matches the ground truth exactly and calculate the accuracy. This will give us five values, top-1, top-2, and so on. Top-3 accuracy indicates that at least one of the top-3 beams is correct.\n",
    "\n",
    "Optimality is only calculated for alignments that match the ground truth. An alignment is optimal if its cost matches the optimal costs from the ground truth.\n",
    "\n",
    "The error is only calculated for alignments that do not match the ground truth. We use the `editdistance` package to calculate the distance between the corrected case and the ground truth case (without the empty moves)."
   ]
  },
  {
   "cell_type": "code",
   "execution_count": 3,
   "metadata": {
    "pycharm": {
     "is_executing": false
    }
   },
   "outputs": [
    {
     "name": "stderr",
     "text": [
      "  0%|          | 0/7 [00:00<?, ?it/s]\n",
      "  0%|          | 0/5000 [00:00<?, ?it/s]\u001b[A\n",
      "  1%|          | 57/5000 [00:00<00:08, 561.49it/s]\u001b[A\n",
      "  2%|▏         | 119/5000 [00:00<00:08, 577.81it/s]\u001b[A\n",
      "  3%|▎         | 174/5000 [00:00<00:08, 563.94it/s]\u001b[A\n",
      "  5%|▍         | 230/5000 [00:00<00:08, 562.75it/s]\u001b[A\n",
      "  6%|▌         | 289/5000 [00:00<00:08, 567.37it/s]\u001b[A\n",
      "  7%|▋         | 347/5000 [00:00<00:08, 569.42it/s]\u001b[A\n",
      "  8%|▊         | 399/5000 [00:00<00:08, 550.97it/s]\u001b[A\n",
      "  9%|▉         | 458/5000 [00:00<00:08, 562.12it/s]\u001b[A\n",
      " 10%|█         | 519/5000 [00:00<00:08, 558.29it/s]\u001b[A\n",
      " 12%|█▏        | 577/5000 [00:01<00:07, 562.99it/s]\u001b[A\n",
      " 13%|█▎        | 641/5000 [00:01<00:07, 582.48it/s]\u001b[A\n",
      " 14%|█▍        | 699/5000 [00:01<00:07, 578.25it/s]\u001b[A\n",
      " 15%|█▌        | 759/5000 [00:01<00:07, 582.91it/s]\u001b[A\n",
      " 16%|█▋        | 817/5000 [00:01<00:07, 576.82it/s]\u001b[A\n",
      " 18%|█▊        | 875/5000 [00:01<00:07, 561.00it/s]\u001b[A\n",
      " 19%|█▊        | 932/5000 [00:01<00:07, 544.30it/s]\u001b[A\n",
      " 20%|█▉        | 992/5000 [00:01<00:07, 558.33it/s]\u001b[A\n",
      " 21%|██        | 1048/5000 [00:01<00:07, 546.78it/s]\u001b[A\n",
      " 22%|██▏       | 1103/5000 [00:01<00:07, 524.24it/s]\u001b[A\n",
      " 23%|██▎       | 1156/5000 [00:02<00:07, 512.23it/s]\u001b[A\n",
      " 24%|██▍       | 1208/5000 [00:02<00:07, 496.84it/s]\u001b[A\n",
      " 25%|██▌       | 1268/5000 [00:02<00:07, 522.50it/s]\u001b[A\n",
      " 27%|██▋       | 1329/5000 [00:02<00:06, 544.53it/s]\u001b[A\n",
      " 28%|██▊       | 1387/5000 [00:02<00:06, 551.55it/s]\u001b[A\n",
      " 29%|██▉       | 1447/5000 [00:02<00:06, 562.05it/s]\u001b[A\n",
      " 30%|███       | 1505/5000 [00:02<00:06, 563.17it/s]\u001b[A\n",
      " 31%|███       | 1562/5000 [00:02<00:06, 524.48it/s]\u001b[A\n",
      " 32%|███▏      | 1616/5000 [00:02<00:06, 513.92it/s]\u001b[A\n",
      " 33%|███▎      | 1668/5000 [00:03<00:06, 509.66it/s]\u001b[A\n",
      " 34%|███▍      | 1720/5000 [00:03<00:06, 485.44it/s]\u001b[A\n",
      " 36%|███▌      | 1777/5000 [00:03<00:06, 506.70it/s]\u001b[A\n",
      " 37%|███▋      | 1830/5000 [00:03<00:06, 511.98it/s]\u001b[A\n",
      " 38%|███▊      | 1882/5000 [00:03<00:06, 508.32it/s]\u001b[A\n",
      " 39%|███▉      | 1938/5000 [00:03<00:05, 522.78it/s]\u001b[A\n",
      " 40%|███▉      | 1995/5000 [00:03<00:05, 534.60it/s]\u001b[A\n",
      " 41%|████      | 2049/5000 [00:03<00:06, 436.16it/s]\u001b[A\n",
      " 42%|████▏     | 2096/5000 [00:03<00:06, 444.52it/s]\u001b[A\n",
      " 43%|████▎     | 2143/5000 [00:04<00:06, 430.72it/s]\u001b[A\n",
      " 44%|████▍     | 2193/5000 [00:04<00:06, 449.40it/s]\u001b[A\n",
      " 45%|████▍     | 2248/5000 [00:04<00:05, 474.26it/s]\u001b[A\n",
      " 46%|████▌     | 2297/5000 [00:04<00:05, 471.95it/s]\u001b[A\n",
      " 47%|████▋     | 2350/5000 [00:04<00:05, 471.08it/s]\u001b[A\n",
      " 48%|████▊     | 2398/5000 [00:04<00:05, 462.75it/s]\u001b[A\n",
      " 49%|████▉     | 2450/5000 [00:04<00:05, 475.93it/s]\u001b[A\n",
      " 50%|████▉     | 2499/5000 [00:04<00:05, 477.27it/s]\u001b[A\n",
      " 51%|█████     | 2552/5000 [00:04<00:04, 491.95it/s]\u001b[A\n",
      " 52%|█████▏    | 2610/5000 [00:04<00:04, 513.52it/s]\u001b[A\n",
      " 53%|█████▎    | 2670/5000 [00:05<00:04, 533.86it/s]\u001b[A\n",
      " 55%|█████▍    | 2733/5000 [00:05<00:04, 556.50it/s]\u001b[A\n",
      " 56%|█████▌    | 2795/5000 [00:05<00:03, 569.40it/s]\u001b[A\n",
      " 57%|█████▋    | 2853/5000 [00:05<00:03, 567.50it/s]\u001b[A\n",
      " 58%|█████▊    | 2911/5000 [00:05<00:03, 569.51it/s]\u001b[A\n",
      " 59%|█████▉    | 2969/5000 [00:05<00:03, 567.57it/s]\u001b[A\n",
      " 61%|██████    | 3026/5000 [00:05<00:03, 563.24it/s]\u001b[A\n",
      " 62%|██████▏   | 3083/5000 [00:05<00:03, 561.92it/s]\u001b[A\n",
      " 63%|██████▎   | 3140/5000 [00:05<00:03, 551.21it/s]\u001b[A\n",
      " 64%|██████▍   | 3196/5000 [00:06<00:03, 514.16it/s]\u001b[A\n",
      " 65%|██████▌   | 3255/5000 [00:06<00:03, 531.89it/s]\u001b[A\n",
      " 66%|██████▌   | 3309/5000 [00:06<00:03, 526.48it/s]\u001b[A\n",
      " 67%|██████▋   | 3363/5000 [00:06<00:03, 506.58it/s]\u001b[A\n",
      " 68%|██████▊   | 3415/5000 [00:06<00:03, 483.48it/s]\u001b[A\n",
      " 70%|██████▉   | 3478/5000 [00:06<00:02, 519.74it/s]\u001b[A\n",
      " 71%|███████   | 3536/5000 [00:06<00:02, 532.03it/s]\u001b[A\n",
      " 72%|███████▏  | 3595/5000 [00:06<00:02, 546.67it/s]\u001b[A\n",
      " 73%|███████▎  | 3653/5000 [00:06<00:02, 554.66it/s]\u001b[A\n",
      " 74%|███████▍  | 3713/5000 [00:06<00:02, 567.53it/s]\u001b[A\n",
      " 75%|███████▌  | 3771/5000 [00:07<00:02, 558.01it/s]\u001b[A\n",
      " 77%|███████▋  | 3829/5000 [00:07<00:02, 562.79it/s]\u001b[A\n",
      " 78%|███████▊  | 3891/5000 [00:07<00:01, 569.25it/s]\u001b[A\n",
      " 79%|███████▉  | 3949/5000 [00:07<00:01, 549.65it/s]\u001b[A\n",
      " 80%|████████  | 4005/5000 [00:07<00:01, 547.85it/s]\u001b[A\n",
      " 81%|████████▏ | 4063/5000 [00:07<00:01, 554.89it/s]\u001b[A\n",
      " 82%|████████▏ | 4119/5000 [00:07<00:01, 551.48it/s]\u001b[A\n",
      " 84%|████████▎ | 4175/5000 [00:07<00:01, 518.01it/s]\u001b[A\n",
      " 85%|████████▍ | 4228/5000 [00:07<00:01, 490.31it/s]\u001b[A\n",
      " 86%|████████▌ | 4278/5000 [00:08<00:01, 493.18it/s]\u001b[A\n",
      " 87%|████████▋ | 4335/5000 [00:08<00:01, 511.19it/s]\u001b[A\n",
      " 88%|████████▊ | 4398/5000 [00:08<00:01, 541.85it/s]\u001b[A\n",
      " 89%|████████▉ | 4457/5000 [00:08<00:00, 555.45it/s]\u001b[A\n",
      " 90%|█████████ | 4514/5000 [00:08<00:00, 551.61it/s]\u001b[A\n",
      " 91%|█████████▏| 4570/5000 [00:08<00:00, 538.13it/s]\u001b[A\n",
      " 93%|█████████▎| 4633/5000 [00:08<00:00, 562.74it/s]\u001b[A\n",
      " 94%|█████████▍| 4690/5000 [00:08<00:00, 486.75it/s]\u001b[A\n",
      " 95%|█████████▍| 4741/5000 [00:08<00:00, 486.44it/s]\u001b[A\n",
      " 96%|█████████▌| 4792/5000 [00:09<00:00, 490.43it/s]\u001b[A\n",
      " 97%|█████████▋| 4843/5000 [00:09<00:00, 378.92it/s]\u001b[A\n",
      " 98%|█████████▊| 4886/5000 [00:09<00:00, 372.00it/s]\u001b[A\n",
      " 99%|█████████▊| 4927/5000 [00:09<00:00, 353.91it/s]\u001b[A\n",
      "100%|██████████| 5000/5000 [00:09<00:00, 513.86it/s]\u001b[A\n",
      "<ipython-input-3-be850a250d45>:36: RuntimeWarning: Mean of empty slice.\n",
      "  cor.sum(), inc.sum(), opt.sum(), cor.mean(), opt.mean(), dist.mean()\n",
      "c:\\users\\nils\\appdata\\local\\programs\\python\\python38\\lib\\site-packages\\numpy\\core\\_methods.py:170: RuntimeWarning: invalid value encountered in double_scalars\n",
      "  ret = ret.dtype.type(ret / rcount)\n",
      "100%|██████████| 7/7 [00:11<00:00,  1.71s/it]\n"
     ],
     "output_type": "stream"
    }
   ],
   "source": [
    "results = sorted([fs.AlignerFile(f) for f in fs.RESULT_DIR.glob('*')], key=lambda f: f.event_log_name)\n",
    "\n",
    "frames = []\n",
    "dataset = None\n",
    "for file in tqdm(results):\n",
    "    if dataset is None or dataset.dataset_name != file.event_log_name:\n",
    "        dataset = Dataset(file.event_log_name)\n",
    "\n",
    "    alignments, x, costs = get_alignmnets(file)\n",
    "\n",
    "    y = dataset.correct_features[0]\n",
    "    y = np.pad(y, ((0, 0), (0, x.shape[-1] - y.shape[1])))\n",
    "\n",
    "    match = np.all(x == y[:, None], -1)\n",
    "\n",
    "    correct = match\n",
    "    incorrect = ~match\n",
    "    optimal_costs = costs == dataset.alignments[1][:, None]\n",
    "    optimal_alignment = np.logical_and(optimal_costs, correct)\n",
    "\n",
    "    distances = np.array([[editdistance.distance(a, _b) for _b in b] for a, b in zip(y, x)])\n",
    "\n",
    "    for label in dataset.unique_text_labels:\n",
    "        label_type = 'Normal' if label == 'Normal' else 'Anomalous'\n",
    "        dataset_type = 'Synthetic'\n",
    "        indices = np.where(dataset.text_labels == label)[0]\n",
    "        for k in range(1, alignments.shape[1] + 1, 1):\n",
    "            cor = correct[indices][:, :k].any(-1)\n",
    "            inc = ~cor\n",
    "            opt = optimal_alignment[indices][cor][:, :k].any(-1)\n",
    "            dist = gather(distances[indices][inc], incorrect[indices][:, :k].argmax(-1)[inc][:, None])\n",
    "\n",
    "            evaluation = [\n",
    "                file.name, file.event_log_name, file.ad, file.model, file.p, file.id, k, label, label_type,\n",
    "                dataset_type,\n",
    "                cor.sum(), inc.sum(), opt.sum(), cor.mean(), opt.mean(), dist.mean()\n",
    "            ]\n",
    "\n",
    "            frames.append(evaluation)\n",
    "\n",
    "columns = ['file_name', 'dataset', 'algorithm', 'process_model', 'p', 'dataset_id', 'k', 'label', 'binary_label',\n",
    "           'dataset_type', 'num_correct', 'num_incorrect', 'num_optimal', 'accuracy', 'optimality', 'error']\n",
    "\n",
    "evaluation = pd.DataFrame(frames, columns=columns)\n",
    "\n",
    "evaluation.to_excel(str(fs.OUT_DIR / 'evaluation.xlsx'))"
   ]
  }
 ],
 "metadata": {
  "kernelspec": {
   "display_name": "Python 3",
   "language": "python",
   "name": "python3"
  },
  "language_info": {
   "codemirror_mode": {
    "name": "ipython",
    "version": 3
   },
   "file_extension": ".py",
   "mimetype": "text/x-python",
   "name": "python",
   "nbconvert_exporter": "python",
   "pygments_lexer": "ipython3",
   "version": "3.6.10"
  }
 },
 "nbformat": 4,
 "nbformat_minor": 4
}