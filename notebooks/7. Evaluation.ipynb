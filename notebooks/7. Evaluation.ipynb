{
 "cells": [
  {
   "cell_type": "code",
   "execution_count": 1,
   "metadata": {
    "pycharm": {
     "is_executing": false
    }
   },
   "outputs": [],
   "source": [
    "from matplotlib import pyplot as plt\n",
    "import numpy as np\n",
    "import pandas as pd\n",
    "import seaborn as sns\n",
    "\n",
    "from deepalign import fs\n",
    "from deepalign.utils import microsoft_colors\n",
    "\n",
    "%config InlineBackend.figure_format = 'retina'"
   ]
  },
  {
   "cell_type": "markdown",
   "metadata": {},
   "source": [
    "First, let us create some helper functions to prettify our evaluation dataframe."
   ]
  },
  {
   "cell_type": "code",
   "execution_count": 2,
   "metadata": {
    "pycharm": {
     "is_executing": false
    }
   },
   "outputs": [],
   "source": [
    "datasets = {'paper': 'Paper', 'p2p': 'P2P', 'huge': 'Huge', 'small': 'Small', 'medium': 'Medium', 'large': 'Large', 'gigantic': 'Gigantic', 'wide': 'Wide'}\n",
    "algorithms = {'confnet00': r'DeepAlign0', 'confnet01': 'DeepAlignC', 'confnet10': 'DeepAlignE', 'confnet11': 'DeepAlignCE', \n",
    "              'optimal': 'Reference Model', 'im': 'Inductive Miner', 'hm': 'Heuristics Miner'}\n",
    "\n",
    "binary_label_order = ['Normal', 'Anomalous']\n",
    "label_order = ['Normal', 'Skip', 'Rework', 'Insert', 'Early', 'Late', 'Attribute']\n",
    "model_order = ['P2P', 'Small', 'Medium', 'Large', 'Huge', 'Gigantic', 'Wide']\n",
    "alg_order = ['Reference Model', 'Heuristics Miner', 'Inductive Miner', 'DeepAlign0', 'DeepAlignC', 'DeepAlignE', 'DeepAlignCE']\n",
    "\n",
    "def prettify_dataframe(base_df):\n",
    "    df = base_df.copy()\n",
    "\n",
    "    lookup = {\n",
    "        'process_model': datasets,\n",
    "        'algorithm': algorithms,\n",
    "        'label': {'SkipSequence': 'Skip'}\n",
    "    }\n",
    "\n",
    "    for key, value in lookup.items():\n",
    "        if key in df:\n",
    "            df[key] = df[key].replace(value)\n",
    "\n",
    "    return df"
   ]
  },
  {
   "cell_type": "markdown",
   "metadata": {},
   "source": [
    "Now, let us load the evaluation dataframe from the Excel file."
   ]
  },
  {
   "cell_type": "code",
   "execution_count": 3,
   "metadata": {
    "pycharm": {
     "is_executing": false
    }
   },
   "outputs": [],
   "source": [
    "evaluation = pd.read_excel(str(fs.OUT_DIR / 'evaluation.xlsx'))\n",
    "evaluation = evaluation[evaluation.columns[1:]] # Remove index column"
   ]
  },
  {
   "cell_type": "code",
   "execution_count": 4,
   "outputs": [],
   "source": [
    "# TODO: TEMP\n",
    "evaluation = evaluation[evaluation['dataset'].str.contains('0.3')]"
   ],
   "metadata": {
    "collapsed": false,
    "pycharm": {
     "name": "#%%\n",
     "is_executing": false
    }
   }
  },
  {
   "cell_type": "markdown",
   "metadata": {},
   "source": [
    "We are evaluating for `top-k=1` (i.e., only the top-1 prediction), noise levels with `0 < p < 1`, and we are excluding the `Paper` process because it is only used for demonstration."
   ]
  },
  {
   "cell_type": "code",
   "execution_count": 5,
   "metadata": {
    "pycharm": {
     "is_executing": false
    }
   },
   "outputs": [],
   "source": [
    "eval_df = prettify_dataframe(evaluation)\n",
    "eval_df = eval_df.query('k == 1 and 0 < p < 1 and process_model != \"Paper\"')"
   ]
  },
  {
   "cell_type": "markdown",
   "metadata": {},
   "source": [
    "The evaluation file holds the numbers for each anomaly label. We will have to aggregate these numbers to calculate the correct $F_1$ scores."
   ]
  },
  {
   "cell_type": "code",
   "execution_count": 6,
   "metadata": {
    "scrolled": false,
    "pycharm": {
     "is_executing": false
    }
   },
   "outputs": [],
   "source": [
    "# Our base dataframe\n",
    "df = eval_df\n",
    "\n",
    "# Aggregate based on binary label. This will weigh `Normal` and `Anomalous` one to one.\n",
    "aggs = {'num_correct': 'sum', 'num_incorrect': 'sum', 'optimality': 'mean', 'error': 'mean'}\n",
    "df = df.groupby(['algorithm', 'dataset', 'process_model', 'p', 'binary_label']).agg(aggs).reset_index()\n",
    "df = df.pivot_table(index=['algorithm', 'dataset', 'process_model', 'p'], \n",
    "                    columns='binary_label', \n",
    "                    values=['num_correct', 'num_incorrect', 'error', 'optimality']).reset_index()\n",
    "\n",
    "# Aggregate the error values\n",
    "df['error_normal'] = df['error', 'Normal'].fillna(0)\n",
    "df['error_anomalous'] = df['error', 'Anomalous'].fillna(0)\n",
    "del df['error']\n",
    "df['error'] = (df['error_normal'] + df['error_anomalous']) / 2\n",
    "\n",
    "# Aggregate the optimality values\n",
    "df['optimality_normal'] = df['optimality', 'Normal'].fillna(1)\n",
    "df['optimality_anomalous'] = df['optimality', 'Anomalous'].fillna(1)\n",
    "del df['optimality']\n",
    "df['optimality'] = (df['optimality_normal'] + df['optimality_anomalous']) / 2\n",
    "\n",
    "# Fill `NaN` values with 0\n",
    "df = df.fillna(0)\n",
    "\n",
    "# Calculate F1 scores\n",
    "df['precision_normal'] = df['num_correct', 'Normal'] / (df['num_correct', 'Normal'] + df['num_incorrect', 'Normal'])\n",
    "df['recall_normal'] = df['num_correct', 'Normal'] / (df['num_correct', 'Normal'] + df['num_incorrect', 'Anomalous'])\n",
    "df['f1_normal'] = 2 * df['precision_normal'] * df['recall_normal'] / (df['precision_normal'] + df['recall_normal'])\n",
    "\n",
    "df['precision_anomalous'] = df['num_correct', 'Anomalous'] / (df['num_correct', 'Anomalous'] + df['num_incorrect', 'Anomalous'])\n",
    "df['recall_anomalous'] = df['num_correct', 'Anomalous'] / (df['num_correct', 'Anomalous'] + df['num_incorrect', 'Normal'])\n",
    "df['f1_anomalous'] = 2 * df['precision_anomalous'] * df['recall_anomalous'] / (df['precision_anomalous'] + df['recall_anomalous'])\n",
    "\n",
    "del df['num_correct']\n",
    "del df['num_incorrect']\n",
    "\n",
    "df['f1'] = (df['f1_normal'] + df['f1_anomalous']) / 2\n",
    "\n",
    "# Flatten the column index\n",
    "df.columns = [c[0] for c in df.columns]"
   ]
  },
  {
   "cell_type": "markdown",
   "metadata": {},
   "source": [
    "# Tables"
   ]
  },
  {
   "cell_type": "markdown",
   "metadata": {},
   "source": [
    "### Table 1 in the paper"
   ]
  },
  {
   "cell_type": "code",
   "execution_count": 7,
   "metadata": {
    "pycharm": {
     "is_executing": false
    }
   },
   "outputs": [
    {
     "data": {
      "text/plain": "<pandas.io.formats.style.Styler at 0x214902e2cd0>",
      "text/html": "<style  type=\"text/css\" >\n#T_b7427a81_fbf5_11ea_828b_f079596806ffrow4_col4,#T_b7427a81_fbf5_11ea_828b_f079596806ffrow5_col3,#T_b7427a81_fbf5_11ea_828b_f079596806ffrow6_col0,#T_b7427a81_fbf5_11ea_828b_f079596806ffrow6_col1,#T_b7427a81_fbf5_11ea_828b_f079596806ffrow6_col2{\n            background-color:  #243996;\n             font-weight:  600;\n             color:  yellow;\n        }</style><table id=\"T_b7427a81_fbf5_11ea_828b_f079596806ff\" ><thead>    <tr>        <th class=\"blank level0\" ></th>        <th class=\"col_heading level0 col0\" >f1_normal</th>        <th class=\"col_heading level0 col1\" >f1_anomalous</th>        <th class=\"col_heading level0 col2\" >f1</th>        <th class=\"col_heading level0 col3\" >error</th>        <th class=\"col_heading level0 col4\" >optimality</th>    </tr>    <tr>        <th class=\"index_name level0\" >algorithm</th>        <th class=\"blank\" ></th>        <th class=\"blank\" ></th>        <th class=\"blank\" ></th>        <th class=\"blank\" ></th>        <th class=\"blank\" ></th>    </tr></thead><tbody>\n                <tr>\n                        <th id=\"T_b7427a81_fbf5_11ea_828b_f079596806fflevel0_row0\" class=\"row_heading level0 row0\" >Reference Model</th>\n                        <td id=\"T_b7427a81_fbf5_11ea_828b_f079596806ffrow0_col0\" class=\"data row0 col0\" >0.96</td>\n                        <td id=\"T_b7427a81_fbf5_11ea_828b_f079596806ffrow0_col1\" class=\"data row0 col1\" >0.88</td>\n                        <td id=\"T_b7427a81_fbf5_11ea_828b_f079596806ffrow0_col2\" class=\"data row0 col2\" >0.9204</td>\n                        <td id=\"T_b7427a81_fbf5_11ea_828b_f079596806ffrow0_col3\" class=\"data row0 col3\" >1.51</td>\n                        <td id=\"T_b7427a81_fbf5_11ea_828b_f079596806ffrow0_col4\" class=\"data row0 col4\" >100.0%</td>\n            </tr>\n            <tr>\n                        <th id=\"T_b7427a81_fbf5_11ea_828b_f079596806fflevel0_row1\" class=\"row_heading level0 row1\" >Heuristics Miner</th>\n                        <td id=\"T_b7427a81_fbf5_11ea_828b_f079596806ffrow1_col0\" class=\"data row1 col0\" >0.93</td>\n                        <td id=\"T_b7427a81_fbf5_11ea_828b_f079596806ffrow1_col1\" class=\"data row1 col1\" >0.80</td>\n                        <td id=\"T_b7427a81_fbf5_11ea_828b_f079596806ffrow1_col2\" class=\"data row1 col2\" >0.8657</td>\n                        <td id=\"T_b7427a81_fbf5_11ea_828b_f079596806ffrow1_col3\" class=\"data row1 col3\" >1.94</td>\n                        <td id=\"T_b7427a81_fbf5_11ea_828b_f079596806ffrow1_col4\" class=\"data row1 col4\" >100.0%</td>\n            </tr>\n            <tr>\n                        <th id=\"T_b7427a81_fbf5_11ea_828b_f079596806fflevel0_row2\" class=\"row_heading level0 row2\" >Inductive Miner</th>\n                        <td id=\"T_b7427a81_fbf5_11ea_828b_f079596806ffrow2_col0\" class=\"data row2 col0\" >0.86</td>\n                        <td id=\"T_b7427a81_fbf5_11ea_828b_f079596806ffrow2_col1\" class=\"data row2 col1\" >0.33</td>\n                        <td id=\"T_b7427a81_fbf5_11ea_828b_f079596806ffrow2_col2\" class=\"data row2 col2\" >0.5933</td>\n                        <td id=\"T_b7427a81_fbf5_11ea_828b_f079596806ffrow2_col3\" class=\"data row2 col3\" >1.62</td>\n                        <td id=\"T_b7427a81_fbf5_11ea_828b_f079596806ffrow2_col4\" class=\"data row2 col4\" >100.0%</td>\n            </tr>\n            <tr>\n                        <th id=\"T_b7427a81_fbf5_11ea_828b_f079596806fflevel0_row3\" class=\"row_heading level0 row3\" >DeepAlign0</th>\n                        <td id=\"T_b7427a81_fbf5_11ea_828b_f079596806ffrow3_col0\" class=\"data row3 col0\" >0.84</td>\n                        <td id=\"T_b7427a81_fbf5_11ea_828b_f079596806ffrow3_col1\" class=\"data row3 col1\" >0.59</td>\n                        <td id=\"T_b7427a81_fbf5_11ea_828b_f079596806ffrow3_col2\" class=\"data row3 col2\" >0.7118</td>\n                        <td id=\"T_b7427a81_fbf5_11ea_828b_f079596806ffrow3_col3\" class=\"data row3 col3\" >2.48</td>\n                        <td id=\"T_b7427a81_fbf5_11ea_828b_f079596806ffrow3_col4\" class=\"data row3 col4\" >99.0%</td>\n            </tr>\n            <tr>\n                        <th id=\"T_b7427a81_fbf5_11ea_828b_f079596806fflevel0_row4\" class=\"row_heading level0 row4\" >DeepAlignC</th>\n                        <td id=\"T_b7427a81_fbf5_11ea_828b_f079596806ffrow4_col0\" class=\"data row4 col0\" >0.98</td>\n                        <td id=\"T_b7427a81_fbf5_11ea_828b_f079596806ffrow4_col1\" class=\"data row4 col1\" >0.95</td>\n                        <td id=\"T_b7427a81_fbf5_11ea_828b_f079596806ffrow4_col2\" class=\"data row4 col2\" >0.9665</td>\n                        <td id=\"T_b7427a81_fbf5_11ea_828b_f079596806ffrow4_col3\" class=\"data row4 col3\" >4.51</td>\n                        <td id=\"T_b7427a81_fbf5_11ea_828b_f079596806ffrow4_col4\" class=\"data row4 col4\" >99.8%</td>\n            </tr>\n            <tr>\n                        <th id=\"T_b7427a81_fbf5_11ea_828b_f079596806fflevel0_row5\" class=\"row_heading level0 row5\" >DeepAlignE</th>\n                        <td id=\"T_b7427a81_fbf5_11ea_828b_f079596806ffrow5_col0\" class=\"data row5 col0\" >0.98</td>\n                        <td id=\"T_b7427a81_fbf5_11ea_828b_f079596806ffrow5_col1\" class=\"data row5 col1\" >0.95</td>\n                        <td id=\"T_b7427a81_fbf5_11ea_828b_f079596806ffrow5_col2\" class=\"data row5 col2\" >0.9624</td>\n                        <td id=\"T_b7427a81_fbf5_11ea_828b_f079596806ffrow5_col3\" class=\"data row5 col3\" >1.20</td>\n                        <td id=\"T_b7427a81_fbf5_11ea_828b_f079596806ffrow5_col4\" class=\"data row5 col4\" >88.3%</td>\n            </tr>\n            <tr>\n                        <th id=\"T_b7427a81_fbf5_11ea_828b_f079596806fflevel0_row6\" class=\"row_heading level0 row6\" >DeepAlignCE</th>\n                        <td id=\"T_b7427a81_fbf5_11ea_828b_f079596806ffrow6_col0\" class=\"data row6 col0\" >0.99</td>\n                        <td id=\"T_b7427a81_fbf5_11ea_828b_f079596806ffrow6_col1\" class=\"data row6 col1\" >0.99</td>\n                        <td id=\"T_b7427a81_fbf5_11ea_828b_f079596806ffrow6_col2\" class=\"data row6 col2\" >0.9906</td>\n                        <td id=\"T_b7427a81_fbf5_11ea_828b_f079596806ffrow6_col3\" class=\"data row6 col3\" >4.17</td>\n                        <td id=\"T_b7427a81_fbf5_11ea_828b_f079596806ffrow6_col4\" class=\"data row6 col4\" >90.4%</td>\n            </tr>\n    </tbody></table>"
     },
     "metadata": {},
     "output_type": "execute_result",
     "execution_count": 7
    }
   ],
   "source": [
    "v = ['f1_normal', 'f1_anomalous', 'f1', 'error', 'optimality']\n",
    "f = ['{:.2f}', '{:.2f}', '{:.4f}', '{:.2f}', '{:.1%}']\n",
    "f = dict(zip(v, f))\n",
    "\n",
    "# Pivot table\n",
    "p = pd.pivot_table(df, index=['algorithm'], values=v)\n",
    "\n",
    "# Sort columns\n",
    "p = p[v]\n",
    "p = p.loc[alg_order]\n",
    "\n",
    "# Style output\n",
    "s = p.style\n",
    "s = s.format(f)\n",
    "style = 'background-color: #243996; font-weight: 600; color: yellow'\n",
    "s = s.apply(lambda s: [style if v else '' for v in s == s.max()], subset=pd.IndexSlice[:, ['f1', 'f1_normal', 'f1_anomalous']], axis=0)\n",
    "s = s.apply(lambda s: [style if v else '' for v in s == s.min()], subset=pd.IndexSlice[:, ['error']], axis=0)\n",
    "s = s.apply(lambda s: [style if v else '' for v in s == s[3:].max()], subset=pd.IndexSlice[:, ['optimality']], axis=0)\n",
    "s"
   ]
  },
  {
   "cell_type": "markdown",
   "metadata": {},
   "source": [
    "### Other tables "
   ]
  },
  {
   "cell_type": "markdown",
   "metadata": {},
   "source": [
    "We can also evaluate the $F_1$ score per dataset. Best results are shown in yellow font color."
   ]
  },
  {
   "cell_type": "code",
   "execution_count": 8,
   "metadata": {
    "pycharm": {
     "is_executing": false
    }
   },
   "outputs": [
    {
     "data": {
      "text/plain": "<pandas.io.formats.style.Styler at 0x2149090e3a0>",
      "text/html": "<style  type=\"text/css\" >\n#T_b74eafa9_fbf5_11ea_aec6_f079596806ffrow0_col0{\n            background-color:  #24459c;\n            color:  #f1f1f1;\n        }#T_b74eafa9_fbf5_11ea_aec6_f079596806ffrow1_col0{\n            background-color:  #1f78b4;\n            color:  #000000;\n        }#T_b74eafa9_fbf5_11ea_aec6_f079596806ffrow2_col0{\n            background-color:  #ffffd9;\n            color:  #000000;\n        }#T_b74eafa9_fbf5_11ea_aec6_f079596806ffrow3_col0{\n            background-color:  #abdeb7;\n            color:  #000000;\n        }#T_b74eafa9_fbf5_11ea_aec6_f079596806ffrow4_col0{\n            background-color:  #162874;\n            color:  #f1f1f1;\n        }#T_b74eafa9_fbf5_11ea_aec6_f079596806ffrow5_col0{\n            background-color:  #182a7a;\n            color:  #f1f1f1;\n        }#T_b74eafa9_fbf5_11ea_aec6_f079596806ffrow6_col0{\n            background-color:  #081d58;\n            color:  #f1f1f1;\n            font-weight:  600;\n             color:  yellow;\n        }</style><table id=\"T_b74eafa9_fbf5_11ea_aec6_f079596806ff\" ><thead>    <tr>        <th class=\"index_name level0\" >process_model</th>        <th class=\"col_heading level0 col0\" >P2P</th>    </tr>    <tr>        <th class=\"index_name level0\" >algorithm</th>        <th class=\"blank\" ></th>    </tr></thead><tbody>\n                <tr>\n                        <th id=\"T_b74eafa9_fbf5_11ea_aec6_f079596806fflevel0_row0\" class=\"row_heading level0 row0\" >Reference Model</th>\n                        <td id=\"T_b74eafa9_fbf5_11ea_aec6_f079596806ffrow0_col0\" class=\"data row0 col0\" >0.9204</td>\n            </tr>\n            <tr>\n                        <th id=\"T_b74eafa9_fbf5_11ea_aec6_f079596806fflevel0_row1\" class=\"row_heading level0 row1\" >Heuristics Miner</th>\n                        <td id=\"T_b74eafa9_fbf5_11ea_aec6_f079596806ffrow1_col0\" class=\"data row1 col0\" >0.8657</td>\n            </tr>\n            <tr>\n                        <th id=\"T_b74eafa9_fbf5_11ea_aec6_f079596806fflevel0_row2\" class=\"row_heading level0 row2\" >Inductive Miner</th>\n                        <td id=\"T_b74eafa9_fbf5_11ea_aec6_f079596806ffrow2_col0\" class=\"data row2 col0\" >0.5933</td>\n            </tr>\n            <tr>\n                        <th id=\"T_b74eafa9_fbf5_11ea_aec6_f079596806fflevel0_row3\" class=\"row_heading level0 row3\" >DeepAlign0</th>\n                        <td id=\"T_b74eafa9_fbf5_11ea_aec6_f079596806ffrow3_col0\" class=\"data row3 col0\" >0.7118</td>\n            </tr>\n            <tr>\n                        <th id=\"T_b74eafa9_fbf5_11ea_aec6_f079596806fflevel0_row4\" class=\"row_heading level0 row4\" >DeepAlignC</th>\n                        <td id=\"T_b74eafa9_fbf5_11ea_aec6_f079596806ffrow4_col0\" class=\"data row4 col0\" >0.9665</td>\n            </tr>\n            <tr>\n                        <th id=\"T_b74eafa9_fbf5_11ea_aec6_f079596806fflevel0_row5\" class=\"row_heading level0 row5\" >DeepAlignE</th>\n                        <td id=\"T_b74eafa9_fbf5_11ea_aec6_f079596806ffrow5_col0\" class=\"data row5 col0\" >0.9624</td>\n            </tr>\n            <tr>\n                        <th id=\"T_b74eafa9_fbf5_11ea_aec6_f079596806fflevel0_row6\" class=\"row_heading level0 row6\" >DeepAlignCE</th>\n                        <td id=\"T_b74eafa9_fbf5_11ea_aec6_f079596806ffrow6_col0\" class=\"data row6 col0\" >0.9906</td>\n            </tr>\n    </tbody></table>"
     },
     "metadata": {},
     "output_type": "execute_result",
     "execution_count": 8
    }
   ],
   "source": [
    "p = pd.pivot_table(df, index=['algorithm'], columns=['process_model'], values='f1')\n",
    "p = p.loc[alg_order]\n",
    "s = p.style\n",
    "s = s.format('{:.4f}')\n",
    "s = s.background_gradient('YlGnBu', axis=None)\n",
    "s = s.apply(lambda s: ['font-weight: 600; color: yellow' if v else '' for v in s == s.max()], axis=0)\n",
    "s"
   ]
  },
  {
   "cell_type": "markdown",
   "metadata": {},
   "source": [
    "Or, we can evaluate per noise ratio, i.e., percentage of cases affected by an anomaly."
   ]
  },
  {
   "cell_type": "code",
   "execution_count": 9,
   "metadata": {
    "pycharm": {
     "is_executing": false
    }
   },
   "outputs": [
    {
     "data": {
      "text/plain": "<pandas.io.formats.style.Styler at 0x21490acae20>",
      "text/html": "<style  type=\"text/css\" >\n#T_b75abdae_fbf5_11ea_a2db_f079596806ffrow0_col0{\n            background-color:  #24459c;\n            color:  #f1f1f1;\n        }#T_b75abdae_fbf5_11ea_a2db_f079596806ffrow1_col0{\n            background-color:  #1f78b4;\n            color:  #000000;\n        }#T_b75abdae_fbf5_11ea_a2db_f079596806ffrow2_col0{\n            background-color:  #ffffd9;\n            color:  #000000;\n        }#T_b75abdae_fbf5_11ea_a2db_f079596806ffrow3_col0{\n            background-color:  #abdeb7;\n            color:  #000000;\n        }#T_b75abdae_fbf5_11ea_a2db_f079596806ffrow4_col0{\n            background-color:  #162874;\n            color:  #f1f1f1;\n        }#T_b75abdae_fbf5_11ea_a2db_f079596806ffrow5_col0{\n            background-color:  #182a7a;\n            color:  #f1f1f1;\n        }#T_b75abdae_fbf5_11ea_a2db_f079596806ffrow6_col0{\n            background-color:  #081d58;\n            color:  #f1f1f1;\n            font-weight:  600;\n             color:  yellow;\n        }</style><table id=\"T_b75abdae_fbf5_11ea_a2db_f079596806ff\" ><thead>    <tr>        <th class=\"blank level0\" ></th>        <th class=\"col_heading level0 col0\" >30%</th>    </tr>    <tr>        <th class=\"index_name level0\" >algorithm</th>        <th class=\"blank\" ></th>    </tr></thead><tbody>\n                <tr>\n                        <th id=\"T_b75abdae_fbf5_11ea_a2db_f079596806fflevel0_row0\" class=\"row_heading level0 row0\" >Reference Model</th>\n                        <td id=\"T_b75abdae_fbf5_11ea_a2db_f079596806ffrow0_col0\" class=\"data row0 col0\" >0.9204</td>\n            </tr>\n            <tr>\n                        <th id=\"T_b75abdae_fbf5_11ea_a2db_f079596806fflevel0_row1\" class=\"row_heading level0 row1\" >Heuristics Miner</th>\n                        <td id=\"T_b75abdae_fbf5_11ea_a2db_f079596806ffrow1_col0\" class=\"data row1 col0\" >0.8657</td>\n            </tr>\n            <tr>\n                        <th id=\"T_b75abdae_fbf5_11ea_a2db_f079596806fflevel0_row2\" class=\"row_heading level0 row2\" >Inductive Miner</th>\n                        <td id=\"T_b75abdae_fbf5_11ea_a2db_f079596806ffrow2_col0\" class=\"data row2 col0\" >0.5933</td>\n            </tr>\n            <tr>\n                        <th id=\"T_b75abdae_fbf5_11ea_a2db_f079596806fflevel0_row3\" class=\"row_heading level0 row3\" >DeepAlign0</th>\n                        <td id=\"T_b75abdae_fbf5_11ea_a2db_f079596806ffrow3_col0\" class=\"data row3 col0\" >0.7118</td>\n            </tr>\n            <tr>\n                        <th id=\"T_b75abdae_fbf5_11ea_a2db_f079596806fflevel0_row4\" class=\"row_heading level0 row4\" >DeepAlignC</th>\n                        <td id=\"T_b75abdae_fbf5_11ea_a2db_f079596806ffrow4_col0\" class=\"data row4 col0\" >0.9665</td>\n            </tr>\n            <tr>\n                        <th id=\"T_b75abdae_fbf5_11ea_a2db_f079596806fflevel0_row5\" class=\"row_heading level0 row5\" >DeepAlignE</th>\n                        <td id=\"T_b75abdae_fbf5_11ea_a2db_f079596806ffrow5_col0\" class=\"data row5 col0\" >0.9624</td>\n            </tr>\n            <tr>\n                        <th id=\"T_b75abdae_fbf5_11ea_a2db_f079596806fflevel0_row6\" class=\"row_heading level0 row6\" >DeepAlignCE</th>\n                        <td id=\"T_b75abdae_fbf5_11ea_a2db_f079596806ffrow6_col0\" class=\"data row6 col0\" >0.9906</td>\n            </tr>\n    </tbody></table>"
     },
     "metadata": {},
     "output_type": "execute_result",
     "execution_count": 9
    }
   ],
   "source": [
    "p = pd.pivot_table(df, index=['algorithm'], columns=['p'], values='f1')\n",
    "p = p.loc[alg_order]\n",
    "p.columns = ['{:.0%}'.format(c) for c in p.columns]\n",
    "s = p.style\n",
    "s = s.format('{:.4f}')\n",
    "s = s.background_gradient('YlGnBu', axis=None)\n",
    "s = s.apply(lambda s: ['font-weight: 600; color: yellow' if v else '' for v in s == s.max()], axis=0)\n",
    "s"
   ]
  },
  {
   "cell_type": "markdown",
   "metadata": {},
   "source": [
    "## Plots"
   ]
  },
  {
   "cell_type": "markdown",
   "metadata": {},
   "source": [
    "This line will set the Seaborn context for paper quality figures, as well as the style."
   ]
  },
  {
   "cell_type": "code",
   "execution_count": 10,
   "metadata": {
    "pycharm": {
     "is_executing": false
    }
   },
   "outputs": [],
   "source": [
    "sns.set_style('white')\n",
    "sns.set_context('paper')"
   ]
  },
  {
   "cell_type": "markdown",
   "metadata": {},
   "source": [
    "### Figure 8 in the paper"
   ]
  },
  {
   "cell_type": "markdown",
   "metadata": {},
   "source": [
    "Let us plot the results from the tables above in one combined figure."
   ]
  },
  {
   "cell_type": "code",
   "execution_count": 11,
   "metadata": {
    "pycharm": {
     "is_executing": false
    }
   },
   "outputs": [
    {
     "traceback": [
      "\u001b[1;31m---------------------------------------------------------------------------\u001b[0m",
      "\u001b[1;31mValueError\u001b[0m                                Traceback (most recent call last)",
      "\u001b[1;32m<ipython-input-11-b0d95be71a0d>\u001b[0m in \u001b[0;36m<module>\u001b[1;34m\u001b[0m\n\u001b[0;32m     13\u001b[0m \u001b[1;33m\u001b[0m\u001b[0m\n\u001b[0;32m     14\u001b[0m \u001b[0ma0\u001b[0m\u001b[1;33m.\u001b[0m\u001b[0mset_xlabel\u001b[0m\u001b[1;33m(\u001b[0m\u001b[1;34m'Anomalous cases'\u001b[0m\u001b[1;33m)\u001b[0m\u001b[1;33m\u001b[0m\u001b[1;33m\u001b[0m\u001b[0m\n\u001b[1;32m---> 15\u001b[1;33m \u001b[0ma0\u001b[0m\u001b[1;33m.\u001b[0m\u001b[0mset_xticklabels\u001b[0m\u001b[1;33m(\u001b[0m\u001b[1;33m[\u001b[0m\u001b[1;34m'10%'\u001b[0m\u001b[1;33m,\u001b[0m \u001b[1;34m'20%'\u001b[0m\u001b[1;33m,\u001b[0m \u001b[1;34m'30%'\u001b[0m\u001b[1;33m,\u001b[0m \u001b[1;34m'40%'\u001b[0m\u001b[1;33m,\u001b[0m \u001b[1;34m'50%'\u001b[0m\u001b[1;33m,\u001b[0m \u001b[1;34m'60%'\u001b[0m\u001b[1;33m,\u001b[0m \u001b[1;34m'70%'\u001b[0m\u001b[1;33m,\u001b[0m \u001b[1;34m'80%'\u001b[0m\u001b[1;33m,\u001b[0m \u001b[1;34m'90%'\u001b[0m\u001b[1;33m]\u001b[0m\u001b[1;33m)\u001b[0m\u001b[1;33m\u001b[0m\u001b[1;33m\u001b[0m\u001b[0m\n\u001b[0m\u001b[0;32m     16\u001b[0m \u001b[0ma0\u001b[0m\u001b[1;33m.\u001b[0m\u001b[0mset_ylabel\u001b[0m\u001b[1;33m(\u001b[0m\u001b[1;34mr'$F_{1}$'\u001b[0m\u001b[1;33m)\u001b[0m\u001b[1;33m\u001b[0m\u001b[1;33m\u001b[0m\u001b[0m\n\u001b[0;32m     17\u001b[0m \u001b[1;33m\u001b[0m\u001b[0m\n",
      "\u001b[1;32mc:\\users\\nils\\appdata\\local\\programs\\python\\python38\\lib\\site-packages\\matplotlib\\axes\\_base.py\u001b[0m in \u001b[0;36mwrapper\u001b[1;34m(self, *args, **kwargs)\u001b[0m\n\u001b[0;32m     61\u001b[0m \u001b[1;33m\u001b[0m\u001b[0m\n\u001b[0;32m     62\u001b[0m         \u001b[1;32mdef\u001b[0m \u001b[0mwrapper\u001b[0m\u001b[1;33m(\u001b[0m\u001b[0mself\u001b[0m\u001b[1;33m,\u001b[0m \u001b[1;33m*\u001b[0m\u001b[0margs\u001b[0m\u001b[1;33m,\u001b[0m \u001b[1;33m**\u001b[0m\u001b[0mkwargs\u001b[0m\u001b[1;33m)\u001b[0m\u001b[1;33m:\u001b[0m\u001b[1;33m\u001b[0m\u001b[1;33m\u001b[0m\u001b[0m\n\u001b[1;32m---> 63\u001b[1;33m             \u001b[1;32mreturn\u001b[0m \u001b[0mget_method\u001b[0m\u001b[1;33m(\u001b[0m\u001b[0mself\u001b[0m\u001b[1;33m)\u001b[0m\u001b[1;33m(\u001b[0m\u001b[1;33m*\u001b[0m\u001b[0margs\u001b[0m\u001b[1;33m,\u001b[0m \u001b[1;33m**\u001b[0m\u001b[0mkwargs\u001b[0m\u001b[1;33m)\u001b[0m\u001b[1;33m\u001b[0m\u001b[1;33m\u001b[0m\u001b[0m\n\u001b[0m\u001b[0;32m     64\u001b[0m \u001b[1;33m\u001b[0m\u001b[0m\n\u001b[0;32m     65\u001b[0m         \u001b[0mwrapper\u001b[0m\u001b[1;33m.\u001b[0m\u001b[0m__module__\u001b[0m \u001b[1;33m=\u001b[0m \u001b[0mowner\u001b[0m\u001b[1;33m.\u001b[0m\u001b[0m__module__\u001b[0m\u001b[1;33m\u001b[0m\u001b[1;33m\u001b[0m\u001b[0m\n",
      "\u001b[1;32mc:\\users\\nils\\appdata\\local\\programs\\python\\python38\\lib\\site-packages\\matplotlib\\cbook\\deprecation.py\u001b[0m in \u001b[0;36mwrapper\u001b[1;34m(*args, **kwargs)\u001b[0m\n\u001b[0;32m    449\u001b[0m                 \u001b[1;34m\"parameter will become keyword-only %(removal)s.\"\u001b[0m\u001b[1;33m,\u001b[0m\u001b[1;33m\u001b[0m\u001b[1;33m\u001b[0m\u001b[0m\n\u001b[0;32m    450\u001b[0m                 name=name, obj_type=f\"parameter of {func.__name__}()\")\n\u001b[1;32m--> 451\u001b[1;33m         \u001b[1;32mreturn\u001b[0m \u001b[0mfunc\u001b[0m\u001b[1;33m(\u001b[0m\u001b[1;33m*\u001b[0m\u001b[0margs\u001b[0m\u001b[1;33m,\u001b[0m \u001b[1;33m**\u001b[0m\u001b[0mkwargs\u001b[0m\u001b[1;33m)\u001b[0m\u001b[1;33m\u001b[0m\u001b[1;33m\u001b[0m\u001b[0m\n\u001b[0m\u001b[0;32m    452\u001b[0m \u001b[1;33m\u001b[0m\u001b[0m\n\u001b[0;32m    453\u001b[0m     \u001b[1;32mreturn\u001b[0m \u001b[0mwrapper\u001b[0m\u001b[1;33m\u001b[0m\u001b[1;33m\u001b[0m\u001b[0m\n",
      "\u001b[1;32mc:\\users\\nils\\appdata\\local\\programs\\python\\python38\\lib\\site-packages\\matplotlib\\axis.py\u001b[0m in \u001b[0;36m_set_ticklabels\u001b[1;34m(self, labels, fontdict, minor, **kwargs)\u001b[0m\n\u001b[0;32m   1791\u001b[0m         \u001b[1;32mif\u001b[0m \u001b[0mfontdict\u001b[0m \u001b[1;32mis\u001b[0m \u001b[1;32mnot\u001b[0m \u001b[1;32mNone\u001b[0m\u001b[1;33m:\u001b[0m\u001b[1;33m\u001b[0m\u001b[1;33m\u001b[0m\u001b[0m\n\u001b[0;32m   1792\u001b[0m             \u001b[0mkwargs\u001b[0m\u001b[1;33m.\u001b[0m\u001b[0mupdate\u001b[0m\u001b[1;33m(\u001b[0m\u001b[0mfontdict\u001b[0m\u001b[1;33m)\u001b[0m\u001b[1;33m\u001b[0m\u001b[1;33m\u001b[0m\u001b[0m\n\u001b[1;32m-> 1793\u001b[1;33m         \u001b[1;32mreturn\u001b[0m \u001b[0mself\u001b[0m\u001b[1;33m.\u001b[0m\u001b[0mset_ticklabels\u001b[0m\u001b[1;33m(\u001b[0m\u001b[0mlabels\u001b[0m\u001b[1;33m,\u001b[0m \u001b[0mminor\u001b[0m\u001b[1;33m=\u001b[0m\u001b[0mminor\u001b[0m\u001b[1;33m,\u001b[0m \u001b[1;33m**\u001b[0m\u001b[0mkwargs\u001b[0m\u001b[1;33m)\u001b[0m\u001b[1;33m\u001b[0m\u001b[1;33m\u001b[0m\u001b[0m\n\u001b[0m\u001b[0;32m   1794\u001b[0m \u001b[1;33m\u001b[0m\u001b[0m\n\u001b[0;32m   1795\u001b[0m     \u001b[1;33m@\u001b[0m\u001b[0mcbook\u001b[0m\u001b[1;33m.\u001b[0m\u001b[0m_make_keyword_only\u001b[0m\u001b[1;33m(\u001b[0m\u001b[1;34m\"3.2\"\u001b[0m\u001b[1;33m,\u001b[0m \u001b[1;34m\"minor\"\u001b[0m\u001b[1;33m)\u001b[0m\u001b[1;33m\u001b[0m\u001b[1;33m\u001b[0m\u001b[0m\n",
      "\u001b[1;32mc:\\users\\nils\\appdata\\local\\programs\\python\\python38\\lib\\site-packages\\matplotlib\\axis.py\u001b[0m in \u001b[0;36mset_ticklabels\u001b[1;34m(self, ticklabels, minor, **kwargs)\u001b[0m\n\u001b[0;32m   1712\u001b[0m             \u001b[1;31m# remove all tick labels, so only error for > 0 ticklabels\u001b[0m\u001b[1;33m\u001b[0m\u001b[1;33m\u001b[0m\u001b[1;33m\u001b[0m\u001b[0m\n\u001b[0;32m   1713\u001b[0m             \u001b[1;32mif\u001b[0m \u001b[0mlen\u001b[0m\u001b[1;33m(\u001b[0m\u001b[0mlocator\u001b[0m\u001b[1;33m.\u001b[0m\u001b[0mlocs\u001b[0m\u001b[1;33m)\u001b[0m \u001b[1;33m!=\u001b[0m \u001b[0mlen\u001b[0m\u001b[1;33m(\u001b[0m\u001b[0mticklabels\u001b[0m\u001b[1;33m)\u001b[0m \u001b[1;32mand\u001b[0m \u001b[0mlen\u001b[0m\u001b[1;33m(\u001b[0m\u001b[0mticklabels\u001b[0m\u001b[1;33m)\u001b[0m \u001b[1;33m!=\u001b[0m \u001b[1;36m0\u001b[0m\u001b[1;33m:\u001b[0m\u001b[1;33m\u001b[0m\u001b[1;33m\u001b[0m\u001b[0m\n\u001b[1;32m-> 1714\u001b[1;33m                 raise ValueError(\n\u001b[0m\u001b[0;32m   1715\u001b[0m                     \u001b[1;34m\"The number of FixedLocator locations\"\u001b[0m\u001b[1;33m\u001b[0m\u001b[1;33m\u001b[0m\u001b[0m\n\u001b[0;32m   1716\u001b[0m                     \u001b[1;34mf\" ({len(locator.locs)}), usually from a call to\"\u001b[0m\u001b[1;33m\u001b[0m\u001b[1;33m\u001b[0m\u001b[0m\n",
      "\u001b[1;31mValueError\u001b[0m: The number of FixedLocator locations (1), usually from a call to set_ticks, does not match the number of ticklabels (9)."
     ],
     "ename": "ValueError",
     "evalue": "The number of FixedLocator locations (1), usually from a call to set_ticks, does not match the number of ticklabels (9).",
     "output_type": "error"
    },
    {
     "data": {
      "text/plain": "<Figure size 720x180 with 2 Axes>",
      "image/png": "[encoded data removed]"
     },
     "metadata": {
      "image/png": {
       "width": 605,
       "height": 179
      }
     },
     "output_type": "display_data"
    }
   ],
   "source": [
    "ho = ['DeepAlignCE', 'Heuristics Miner', 'Inductive Miner', 'Reference Model']\n",
    "markers = [\"o\", \"^\", 'v', 's']\n",
    "\n",
    "fig, (a0, a1) = plt.subplots(1, 2, sharey=True, figsize=((10, 2.5)), gridspec_kw={'wspace': 0.0})\n",
    "\n",
    "g0 = sns.pointplot(data=df.query(f'algorithm in {str(ho)}'), x='p', y='f1', \n",
    "                  hue='algorithm', markers=markers, errwidth=1.5, capsize=0.0,\n",
    "                  palette=microsoft_colors[:len(ho)], hue_order=ho, ax=a0, legend=False)\n",
    "\n",
    "g1 = sns.pointplot(data=df.query(f'algorithm in {str(ho)}'), x='process_model', y='f1', \n",
    "                  hue='algorithm', markers=markers, errwidth=1.5, capsize=0.0,\n",
    "                  palette=microsoft_colors[:len(ho)], hue_order=ho, order=model_order, ax=a1, legend=False)\n",
    "\n",
    "a0.set_xlabel('Anomalous cases')\n",
    "a0.set_xticklabels(['10%', '20%', '30%', '40%', '50%', '60%', '70%', '80%', '90%'])\n",
    "a0.set_ylabel(r'$F_{1}$')\n",
    "\n",
    "a1.set_xlabel('Dataset')\n",
    "a1.set_ylabel('')\n",
    "\n",
    "a0.legend_.remove()\n",
    "_ = a1.legend(bbox_to_anchor=(1.01, 1), loc=2, borderaxespad=0., frameon=False)\n",
    "\n",
    "# plt.tight_layout()\n",
    "# plt.savefig('evaluation.pdf')"
   ]
  },
  {
   "cell_type": "markdown",
   "metadata": {},
   "source": [
    "### Other plots"
   ]
  },
  {
   "cell_type": "markdown",
   "metadata": {},
   "source": [
    "We can also use bar charts to visualize the same results."
   ]
  },
  {
   "cell_type": "code",
   "execution_count": null,
   "metadata": {
    "pycharm": {
     "is_executing": false
    }
   },
   "outputs": [],
   "source": [
    "hue_order = ['DeepAlign0', 'DeepAlignC', 'DeepAlignE', 'DeepAlignCE', 'Heuristics Miner', 'Inductive Miner', 'Reference Model']\n",
    "\n",
    "fig = plt.subplots(figsize=(12, 3))\n",
    "g = sns.barplot(data=df, x='process_model', y='f1', hue='algorithm', palette=microsoft_colors[:7], hue_order=hue_order, order=model_order)\n",
    "_ = plt.legend(bbox_to_anchor=(1.02, 1), loc=2, borderaxespad=0.)\n",
    "\n",
    "fig = plt.subplots(figsize=(12, 3))\n",
    "g = sns.barplot(data=df, x='p', y='f1', hue='algorithm', palette=microsoft_colors[:7], hue_order=hue_order)\n",
    "_ = plt.legend(bbox_to_anchor=(1.02, 1), loc=2, borderaxespad=0.)"
   ]
  }
 ],
 "metadata": {
  "kernelspec": {
   "display_name": "Python 3",
   "language": "python",
   "name": "python3"
  },
  "language_info": {
   "codemirror_mode": {
    "name": "ipython",
    "version": 3
   },
   "file_extension": ".py",
   "mimetype": "text/x-python",
   "name": "python",
   "nbconvert_exporter": "python",
   "pygments_lexer": "ipython3",
   "version": "3.6.9"
  },
  "pycharm": {
   "stem_cell": {
    "cell_type": "raw",
    "source": [],
    "metadata": {
     "collapsed": false
    }
   }
  }
 },
 "nbformat": 4,
 "nbformat_minor": 4
}